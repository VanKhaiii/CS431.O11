{
  "cells": [
    {
      "cell_type": "markdown",
      "metadata": {
        "id": "bU520VTUUSBA"
      },
      "source": [
        "## 1. Dataset"
      ]
    },
    {
      "cell_type": "markdown",
      "source": [
        "Dataset: 5 songs of singer Đạt G [Thêm Bao Nhiêu Lâu + Khó Vẽ Nụ Cười + Bánh Mì Không + Ngày Mai Em Đi Mất + Còn Buồn Không Em + Anh Tự Do Nhưng Cô Đơn]"
      ],
      "metadata": {
        "id": "t8AnqXc8bvu8"
      }
    },
    {
      "cell_type": "code",
      "execution_count": 1,
      "metadata": {
        "colab": {
          "base_uri": "https://localhost:8080/"
        },
        "id": "JLE33nJlAksi",
        "outputId": "421cace4-458a-4e80-c408-3f0e700f8545"
      },
      "outputs": [
        {
          "output_type": "stream",
          "name": "stdout",
          "text": [
            "Length of text: 11534 characters\n"
          ]
        }
      ],
      "source": [
        "data = '''… Mất em, đời này vỡ tan\n",
        "Vì câu nói này chưa, chưa từng phai, chưa từng phai oh\n",
        "Nỗi đau dày vò nỗi đau\n",
        "Mà vẫn nuốt giọt đắng, đau nhiều thêm, thêm nhiều đau ồ ố ô\n",
        "Sợ ngày thêm lâu, sợ tình thêm sâu\n",
        "Nợ lại cho nhau chiều hẹn rong chơi\n",
        "Ngọt ngào nơi tim còn nhiều không em ?\n",
        "Bầu trời thêm mây ngồi đợi mưa rơi...\n",
        "Biết đâu những cơn say đầu đời này\n",
        "Phải khóc cho đến hôm nay\n",
        "Hẹn ước chi thế em ơi giờ phải vậy\n",
        "Gửi gió nỗi nhớ bay bay...\n",
        "Nhìn hoàng hôn kia còn mang em đi xa anh thêm bao nhiêu lâu nữa sẽ trả về ?\n",
        "Đừng có như vậy, dặn lòng đừng khóc như vậy\n",
        "Mà đời đâu như anh mơ, đâu như anh mơ.\n",
        "Có thể anh sống cho em nhưng cũng có thể em sống cho em\n",
        "Quá dễ để biết tên nhau nhưng đâu có thể nhìn thấy nhau đau\n",
        "Có thể nước mắt em rơi nhưng khi quay lưng thì em sẽ cười\n",
        "Anh cũng nhắm mắt cho qua không nên cãi nữa vì anh đã lười\n",
        "Giờ em không tinh khiết, không còn cười chỉ thay vào son và phấn\n",
        "Mùa thanh xuân khi đó, em để lại cho anh biết vương và vấn\n",
        "Anh chỉ mong em hiểu, anh dành hơn nửa phần đời này che chở cho em\n",
        "Không một lời than, không một tiếng vãn anh cũng chưa từng bảo em xem, liiiii\n",
        "Sợ ngày thêm lâu, sợ tình thêm sâu\n",
        "Nợ lại cho nhau chiều hẹn rong chơi\n",
        "Ngọt ngào nơi tim còn nhiều không em\n",
        "Bầu trời thêm mây ngồi đợi mưa rơi\n",
        "Biết đâu những cơn say đầu đời này\n",
        "Phải khóc cho đến hôm nay\n",
        "Hẹn ước chi thế em ơi giờ phải vậy\n",
        "Gửi gió nỗi nhớ bay bay\n",
        "Nhìn hoàng hôn kia còn mang em đi xa anh thêm bao nhiêu lâu nữa sẽ trả về\n",
        "Đừng có như vậy, dặn lòng đừng khóc như vậy\n",
        "Mà đời đâu như anh mơ...\n",
        "… Em mơ một mai thức giấc chẳng cơn đau nào sẽ ghé qua\n",
        "Em mong ngày mai có nắng sưởi ấm con tim buồn đau tối qua\n",
        "Em mong dù cho vấp ngã có lắm phong ba bình yên chở che\n",
        "Em đau trời cao có thấu, có biết cơn đau mùi hương thế nào.\n",
        "… Anh mơ một mai thức giấc chẳng cơn đau nào sẽ ghé qua\n",
        "Anh mong ngày mai có nắng sưởi ấm con tim buồn đau tối qua\n",
        "Anh mong dù cho vấp ngã có lắm phong ba bình yên chở che\n",
        "Anh đau trời cao có thấu, có biết cơn đau mùi hương thế nào.\n",
        "… Biết đâu những cơn say đầu đời này\n",
        "Phải khóc cho đến hôm nay\n",
        "Hẹn ước chi thế em ơi giờ phải vậy\n",
        "Gửi gió nỗi nhớ bay bay\n",
        "Nhìn hoàng hôn kia còn mang em đi xa anh thêm bao nhiêu lâu nữa sẽ trả về\n",
        "Đừng có như vậy, dặn lòng đừng khóc như vậy\n",
        "Mà đời đâu như anh mơ.\n",
        "\n",
        "\n",
        "Anh sẽ chờ em\n",
        "Dù biển xanh kia có cạn khô\n",
        "Dù qua thêm bao kiếp\n",
        "Anh vẫn sẽ chờ\n",
        "Nhân thế khổ đau\n",
        "Tìm hoài sao không thấy nhau\n",
        "Người thương chẳng thương mình\n",
        "Còn người không thương cứ theo ta cả một đời\n",
        "Cây đã già nua\n",
        "Chờ ngày chết cách xa cõi đời\n",
        "Chiều hoàng hôn buông xuống phía tây nghẹn ngào\n",
        "Uống chén tình say\n",
        "Hoạ người thương trong bức tranh\n",
        "Hoạ ánh mắt anh buồn\n",
        "Hoạ nụ cười thêm trên nét môi\n",
        "Nhưng sao không được\n",
        "Nhiều lần em muốn anh vui mà thôi\n",
        "Hoạ vào nét môi anh nở cười tươi\n",
        "Dòng lệ rớt rơi phai màu\n",
        "Nhoè đi nụ cười khi ấy\n",
        "Lòng thì đau đớn trong em khổ đau\n",
        "Mà chẳng dám khóc đâu ai hiểu thấu\n",
        "Vẫn hoạ thêm chiếc môi cười tiếp theo\n",
        "Nhưng đau thấu trời\n",
        "Cây đã già nua\n",
        "Chờ ngày chết cách xa cõi đời\n",
        "Chiều hoàng hôn buông xuống phía tây nghẹn ngào\n",
        "Lỡ chén tình say\n",
        "Hoạ người thương trong bức tranh\n",
        "Hoạ ánh mắt anh buồn\n",
        "Tìm nụ cười anh trên nét môi\n",
        "Nhưng sao chẳng thấy\n",
        "Nhiều lần em muốn anh vui mà thôi\n",
        "Hoạ vào nét môi anh nở cười tươi\n",
        "Dòng lệ rớt rơi phai màu\n",
        "Nhoè đi nụ cười khi ấy\n",
        "Lòng thì đau đớn trong em khổ đau\n",
        "Mà chẳng dám khóc đâu ai hiểu thấu\n",
        "Vẫn hoạ thêm chiếc môi cười tiếp theo\n",
        "Nhưng đau thấu trời\n",
        "Khóc thật nhiều\n",
        "Ngồi khóc thật nhiều\n",
        "Khóc cho đời phong ba lắm đau mà chẳng nói ra\n",
        "Đến khi già\n",
        "Buồn hết một đời\n",
        "Đớn đau này của anh sẽ cao hơn trời\n",
        "Nhiều lần em muốn anh vui mà thôi\n",
        "Hoạ vào nét môi em nở cười tươi\n",
        "Dòng lệ rớt rơi phai màu\n",
        "Nhoè đi nụ cười khi ấy\n",
        "Lòng thì đau đớn trong em khổ đau\n",
        "Mà chẳng dám khóc đâu ai hiểu thấu\n",
        "Vẫn hoạ thêm chiếc môi cười tiếp theo\n",
        "Nhưng đau ai thấu\n",
        "Vẫn hoạ thêm chiếc môi cười lần nữa\n",
        "Nhưng đau ai thấu?\n",
        "\n",
        "\n",
        "Ai bánh mì không?\n",
        "Ai bánh mì không?\n",
        "Bánh mì không, cô ơi?\n",
        "Cô ăn xôi rồi, con ơi\n",
        "Khi mà không còn yêu thì, đêm nào ta cũng say vì\n",
        "Không còn ai gọi ta về mau thật mau, đau thật đau\n",
        "Căn nhà ta cùng thuê ở, giờ đây đã có người thuê rồi\n",
        "Người ta nhìn thật hạnh phúc, bọn mình bơ vơ, thời mình ngu ngơ\n",
        "Em thì quá bận với những khoản lo\n",
        "Nhiều hôm ở công ty trễ lương thì tối ăn bánh mì\n",
        "(Bánh mì không, không có thịt luôn)\n",
        "Tay cầm đơn cầu mong anh có công việc mới phụ em lúc khó khăn\n",
        "Những ngày tháng rất căng (haizz)\n",
        "Nhớ xưa còn nói nếu lúc mình giàu\n",
        "Hai ta có nhà lầu, và thêm xe hơi có đủ tất cả màu\n",
        "Chiếc xe cùi bắp bể bánh ngoài đường (chiếc xe cùi bắp bể bánh)\n",
        "Hai ta thấy bình thường (ta thấy bình thường)\n",
        "Dù mồ hôi tuôn rơi nhưng có nhau đời thêm vui\n",
        "Nhớ xưa mình thích những món lề đường\n",
        "Hủ tiếu gõ và mì gói nước sôi, thêm cái trứng gà\n",
        "Đến nay điều ước cũng đã thành thật\n",
        "Thành phố mỗi lúc càng chật, ta mất nhau, dễ gì gặp lại nhau\n",
        "Rối ren như trật tự giao đường phố (oh)\n",
        "Lạc nhau rồi (ha-hah), thôi đừng cố\n",
        "Đèn xanh, đèn đỏ (haizz) rồi tới vàng\n",
        "Dừng hay là chạy thì chuyện buồn ta vẫn mang\n",
        "Tiếng rao thân thuộc của những quán quen xưa\n",
        "Mỗi lần nghe thế lòng như cắt, như cưa\n",
        "Nhiều tiền anh biết bọn mình được ấm no\n",
        "Mà tiền nhiều như thế nên tình cảm mình hoá tro\n",
        "Ta sợ mình đói nên lao vào kiếm ăn\n",
        "Rồi trái tim ta lạnh, lạnh hơn một phiến băng (đúng vậy)\n",
        "Ta vẫn chưa rõ tại sao mình thay đổi\n",
        "Không ăn cùng nhau, nhiều công việc nên hay vội (anh cũng không biết nữa)\n",
        "Có những bản nhạc không nên hát cùng nhau\n",
        "Vì khi bài nhạc cất lên thì cả hai người cùng đau (đau)\n",
        "Lúc nghèo rất vui, những năm tháng thăng trầm ấy\n",
        "Chứ không phải giống bây giờ, anh mặc vest, còn em diện váy đâu\n",
        "Em thì quá bận với những khoản lo\n",
        "Nhiều hôm ở công ty trễ lương thì tối ăn bánh mì\n",
        "(Bánh mì không, không có thịt luôn)\n",
        "Tay cầm đơn cầu mong anh có công việc mới phụ em lúc khó khăn\n",
        "Những ngày tháng rất căng (căng, căng, căng)\n",
        "Nhớ xưa còn nói nếu lúc mình giàu\n",
        "Hai ta có nhà lầu, và lên xe hơi có đủ tất cả màu\n",
        "Chiếc xe cùi bắp bể bánh ngoài đường (chiếc xe cùi bắp bể bánh)\n",
        "Hai ta thấy bình thường (ta thấy bình thường)\n",
        "Dù mồ hôi tuôn rơi nhưng có nhau đời thêm vui\n",
        "Nhớ xưa mình thích những món lề đường\n",
        "Hủ tiếu gõ và mì gói nước sôi, thêm cái trứng gà (no, no, no, no, no, no)\n",
        "Đến nay điều ước cũng đã thành thật (oh-oh)\n",
        "Thành phố mỗi lúc càng trật (oh-oh)\n",
        "Ta mất nhau, câu chuyện cười thật đau (oh-oh-oh)\n",
        "Em thì quá bận với những khoản lo\n",
        "Nhiều hôm ở công ty trễ lương thì tối ăn bánh mì\n",
        "Tay cầm đơn cầu mong anh có công việc mới phụ em lúc khó khăn\n",
        "Những ngày tháng rất căng (haizz)\n",
        "\n",
        "Nếu như em không anh, em sẽ thế nào?\n",
        "Còn nếu như anh không em, anh sẽ điên mất\n",
        "Mọi thứ xung quanh em thôi\n",
        "Chỉ biết có mỗi em thôi em hiểu không\n",
        "Ngồi giữa góc tối tăm kia với anh là niềm vui\n",
        "Mùi khói thuốc lá vương mang bầu trời buồn lắm\n",
        "Đã đánh mất hết tương lai của mình\n",
        "Chẳng dám nói tiếng yêu ai nữa rồi trời ơi!\n",
        "Sợ ngày mai em đi mất, chỉ còn thân xác xơ anh\n",
        "Giật mình trong cơn ngủ say anh sẽ thức giấc tay ôm nhầm gối\n",
        "Một màu mưa thay cho nắng, một màu sương trắng thay em\n",
        "Em không hiểu thấu, em như nắng mai trong đời\n",
        "Em nói anh là giai điệu mà anh yêu?\n",
        "Vậy giai điệu của anh, em nhớ được bao nhiêu?\n",
        "Một căn phòng trống không có tiếng cười\n",
        "Chỉ còn tiếng nhạc vang\n",
        "Mồi điếu thuốc rót ly rượu, gặm nhấm khúc tình tan\n",
        "Ngồi giữa góc tối tăm kia với anh là niềm vui\n",
        "Mùi khói thuốc lá vương mang bầu trời buồn lắm\n",
        "Đã đánh mất hết tương lai của mình\n",
        "Chẳng dám nói tiếng yêu ai nữa rồi trời ơi!\n",
        "Sợ ngày mai em đi mất, chỉ còn thân xác xơ anh\n",
        "Giật mình trong cơn ngủ say anh sẽ thức giấc tay ôm nhầm gối\n",
        "Một màu mưa thay cho nắng, một màu sương trắng thay em\n",
        "Em không hiểu thấu, em như nắng mai trong đời\n",
        "Nắm đôi tay anh đi anh kêu hoài sao em không nghe thấy?\n",
        "Anh nhớ thơm mùi tóc em từng đêm\n",
        "Đừng nhìn anh như thế! Tội nghiệp anh lắm hay sao?\n",
        "Nhìn vào trong đôi mắt em, anh thấy lấp lánh những điều mới mẻ\n",
        "Bầu trời hôm nay sao thế? Trời buồn nên cứ rơi mưa\n",
        "Mưa rơi nhiều quá, hôm nay có mưa trong lòng\n",
        "Mưa rơi nhiều quá, hôm nay có mưa trong lòng\n",
        "\n",
        "Còn buồn không em?\n",
        "Sao đêm về lặng im một mình? (một mình lặng im)\n",
        "Chuyện buồn chưa qua\n",
        "Đừng khóc nữa nước mắt không thừa (không thừa đâu em)\n",
        "Vài giọt tuôn rơi\n",
        "Cũng đủ làm tan nát bầu trời (vỡ tan bầu trời)\n",
        "Không nói nên lời cứ im lặng âm thầm ôm đau\n",
        "Giờ ngủ chưa em? (ngủ chưa em ơi?)\n",
        "Mắt đã thâm bờ môi khô rồi\n",
        "Chuyện cũ chưa qua\n",
        "Lòng em đau như cắt ai ngờ (xin đừng nhắc tới)\n",
        "Đừng gọi tên nhau (no-o-o)\n",
        "Những đêm mưa bão tố như vậy\n",
        "Đâu biết xa là nhớ nhau nhiều (nhớ nhau nhiều lắm)\n",
        "Em ơi bình yên là ở cạnh bên anh\n",
        "Hay là ở nơi đâu? (ở đâu em ơi?)\n",
        "Niềm vui em trao hết ai?\n",
        "Còn phần anh nước mắt (khóc âm thầm không nói nên lời)\n",
        "Đêm nay môi mắt không có còn cho nhau\n",
        "Như những lúc ban đầu\n",
        "Lạnh căm còn hơn gió đông kia (gió đông kia thay mùa)\n",
        "Đang thay mùa\n",
        "Ngoài trời mưa đổ bao nhiêu hạt mưa\n",
        "Lòng anh khóc thay để bớt đau lòng\n",
        "Em ơi, nước mắt không nhiều\n",
        "Không giống như mưa ngoài kia (anh khóc thay cho cơn mưa trong lòng)\n",
        "Em hãy ở lại\n",
        "Anh xin em hãy ở lại\n",
        "Cho anh bình yên một chút\n",
        "Để thấy mặt trời\n",
        "Oh-oh-oh-oh-oh\n",
        "Oh-oh-oh-oh, oh\n",
        "Oh-oh-oh-oh, oh-oh-oh-oh\n",
        "Ở phía xa chân trời\n",
        "Hãy nhớ anh bên đời\n",
        "Đừng khóc\n",
        "Nếu cô đơn ôm lấy mình\n",
        "Giờ ngủ chưa em?\n",
        "Mắt đã thâm bờ môi khô rồi\n",
        "Chuyện cũ chưa qua\n",
        "Lòng em đau như cắt ai ngờ\n",
        "Đừng gọi tên nhau\n",
        "Những đêm mưa bão tố như vậy\n",
        "Đâu biết xa là nhớ nhau nhiều\n",
        "Em ơi bình yên là ở cạnh bên anh\n",
        "Hay là ở nơi đâu?\n",
        "Niềm vui em trao hết ai\n",
        "Còn phần anh nước mắt\n",
        "Đêm nay môi mắt không có còn cho nhau\n",
        "Như những lúc ban đầu\n",
        "Lạnh căm còn hơn gió đông kia\n",
        "Đang thay mùa\n",
        "Ngoài trời mưa đổ bao nhiêu hạt mưa\n",
        "Lòng anh khóc thay để bớt đau lòng\n",
        "Em ơi nước mắt không nhiều\n",
        "Không giống như mưa ngoài kia (giống như mưa ngoài kia)\n",
        "Em hãy ở lại (ở lại đi em)\n",
        "Anh xin em hãy ở lại (đi em)\n",
        "Cho anh bình yên một chút\n",
        "Để thấy mặt trời\n",
        "No-no-no-no (no-)\n",
        "Ngoài trời mưa đổ bao nhiêu hạt mưa\n",
        "Lòng anh khóc thay để bớt đau lòng\n",
        "Em ơi nước mắt không nhiều\n",
        "Không giống như mưa ngoài kia\n",
        "Em hãy ở lại (em hãy ở lại)\n",
        "Anh xin em hãy ở lại\n",
        "Cho anh bình yên một chút\n",
        "Để thấy mặt trời\n",
        "Em hãy ở lại\n",
        "Anh xin em hãy ở lại\n",
        "Cho anh bình yên một chút\n",
        "Để thấy mặt trời\n",
        "\n",
        "Đau mấy lần rồi\n",
        "Thật sự đau rất nhiều lần\n",
        "Nhắc đến là buồn mà chẳng hiểu là tại sao\n",
        "Tại vì sau bao vấp ngã anh mạnh mẽ nhưng anh không cười\n",
        "Nhìn dòng xe qua vội vã anh lặng lẽ chầm chậm tay ga\n",
        "Mưa bão ùa về\n",
        "Là ngày em chẳng trở về\n",
        "Qua mấy cuộc tình giờ vẫn thế một mình đơn côi\n",
        "Tình đầu mang bao lừa dối nên sợ lắm khi ai thề\n",
        "Nhìn tự do không giờ giấc nhưng thực tế thì lại cô đơn\n",
        "Vậy anh là ai thế em em à em ơi\n",
        "Mồ côi tình yêu như thế sao không đi tìm\n",
        "Em muốn gì cần gì ở anh\n",
        "Anh chỉ còn một con tim nát tan\n",
        "Vậy anh là ai là ai là ai thế em\n",
        "Vì anh là mưa vướng chân em về trong khuya\n",
        "Buồn kia hoà theo tiếng hát anh ôm thêm sầu\n",
        "Nghe tiếng lòng mình đang thở than\n",
        "Không biết bầu trời kia sớm tối\n",
        "Một chút vỡ nát kèm theo một ít cô đơn\n",
        "Cũng đủ rồi\n",
        "Tia nắng lên rồi\n",
        "Thật sự em đã quên rồi\n",
        "Qua mấy cuộc tình giờ vẫn thế một mình đơn côi\n",
        "Tình đầu mang bao lừa dối nên sợ lắm khi ai thề\n",
        "Nhìn tự do không giờ giấc nhưng thực tế anh quá cô đơn\n",
        "Vậy anh là ai thế em em à em hỡi\n",
        "Mồ côi tình yêu như thế sao không đi tìm\n",
        "Em muốn gì cần gì ở anh\n",
        "Anh chỉ còn một con tim nát tan\n",
        "Vậy anh là ai là ai là ai thế em\n",
        "Vì anh là mưa vướng chân em về trong khuya\n",
        "Buồn kia hoà theo tiếng hát anh ôm thêm sầu\n",
        "Nghe tiếng lòng mình đang thở than\n",
        "Không biết bầu trời kia sớm tối\n",
        "Một chút vỡ nát kèm theo một ít cô đơn\n",
        "Vậy anh là ai thế em em à em ơi\n",
        "Là ai mà sao anh khóc cũng giống như cười\n",
        "Vậy anh là ai em hỡi\n",
        "Là ai mà anh không biết\n",
        "Tự do đến vậy thật sự cảm thấy cô đơn hoh\n",
        "Vì anh là mưa vướng chân em về trong khuya\n",
        "Buồn kia hoà theo tiếng hát anh ôm thêm sầu\n",
        "Nghe tiếng lòng mình đang thở than\n",
        "Không biết bầu trời kia sớm tối\n",
        "Một chút vỡ nát kèm theo một ít cô đơn\n",
        "Cũng đủ rồi\n",
        "'''\n",
        "\n",
        "print(f'Length of text: {len(data)} characters')"
      ]
    },
    {
      "cell_type": "code",
      "execution_count": 2,
      "metadata": {
        "id": "SECXWx0krUlc"
      },
      "outputs": [],
      "source": [
        "from tensorflow.keras.preprocessing.sequence import pad_sequences\n",
        "from tensorflow.keras.layers import Embedding, LSTM, Dense, Dropout, Bidirectional\n",
        "from tensorflow.keras.preprocessing.text import Tokenizer\n",
        "from tensorflow.keras.models import Sequential\n",
        "from tensorflow.keras.optimizers import Adam\n",
        "from tensorflow.keras import regularizers\n",
        "import tensorflow.keras.utils as ku\n",
        "import numpy as np"
      ]
    },
    {
      "cell_type": "markdown",
      "metadata": {
        "id": "SISI8yglUpL-"
      },
      "source": [
        "## 3. Data prepocessing"
      ]
    },
    {
      "cell_type": "code",
      "execution_count": 30,
      "metadata": {
        "id": "D3QHseGbAoXg"
      },
      "outputs": [],
      "source": [
        "corpus = data.lower().split(\"\\n\")"
      ]
    },
    {
      "cell_type": "code",
      "execution_count": 31,
      "metadata": {
        "colab": {
          "base_uri": "https://localhost:8080/"
        },
        "id": "ZI96pGNyAr68",
        "outputId": "4f4fd33f-acef-4843-975e-e37eaa8b40a4"
      },
      "outputs": [
        {
          "output_type": "execute_result",
          "data": {
            "text/plain": [
              "['… mất em, đời này vỡ tan',\n",
              " 'vì câu nói này chưa, chưa từng phai, chưa từng phai oh',\n",
              " 'nỗi đau dày vò nỗi đau',\n",
              " 'mà vẫn nuốt giọt đắng, đau nhiều thêm, thêm nhiều đau ồ ố ô']"
            ]
          },
          "metadata": {},
          "execution_count": 31
        }
      ],
      "source": [
        "corpus[:4]"
      ]
    },
    {
      "cell_type": "markdown",
      "metadata": {
        "id": "qPHJG_W9VJnL"
      },
      "source": [
        "### 3.1. Tokenizer"
      ]
    },
    {
      "cell_type": "code",
      "execution_count": 5,
      "metadata": {
        "id": "Ej0_opwlVNeJ"
      },
      "outputs": [],
      "source": [
        "tokenizer = Tokenizer()\n",
        "tokenizer.fit_on_texts(corpus)\n",
        "total_words = len(tokenizer.word_index) + 1"
      ]
    },
    {
      "cell_type": "code",
      "execution_count": 6,
      "metadata": {
        "colab": {
          "base_uri": "https://localhost:8080/"
        },
        "id": "CwBOdzwlF2IU",
        "outputId": "e5ddf8e4-3146-4577-ee52-0e4b03c450ad"
      },
      "outputs": [
        {
          "output_type": "execute_result",
          "data": {
            "text/plain": [
              "493"
            ]
          },
          "metadata": {},
          "execution_count": 6
        }
      ],
      "source": [
        "total_words"
      ]
    },
    {
      "cell_type": "markdown",
      "metadata": {
        "id": "jpfD1l3MVO9D"
      },
      "source": [
        "### 3.2. Split sentence"
      ]
    },
    {
      "cell_type": "code",
      "execution_count": 7,
      "metadata": {
        "id": "UKsfQdUaAwEA"
      },
      "outputs": [],
      "source": [
        "input_sequences = []\n",
        "for line in corpus:\n",
        "  token_list = tokenizer.texts_to_sequences([line])[0]\n",
        "  for i in range(1, len(token_list)):\n",
        "    n_gram_sequence = token_list[:i+1]\n",
        "    input_sequences.append(n_gram_sequence)"
      ]
    },
    {
      "cell_type": "code",
      "execution_count": 8,
      "metadata": {
        "colab": {
          "base_uri": "https://localhost:8080/"
        },
        "id": "a_fKj2RiUx4c",
        "outputId": "f573e5d5-2188-4280-f55b-50a331eb3726"
      },
      "outputs": [
        {
          "output_type": "execute_result",
          "data": {
            "text/plain": [
              "[[165, 90],\n",
              " [165, 90, 1],\n",
              " [165, 90, 1, 26],\n",
              " [165, 90, 1, 26, 102],\n",
              " [165, 90, 1, 26, 102, 132],\n",
              " [165, 90, 1, 26, 102, 132, 117],\n",
              " [91, 269],\n",
              " [91, 269, 80],\n",
              " [91, 269, 80, 102],\n",
              " [91, 269, 80, 102, 60]]"
            ]
          },
          "metadata": {},
          "execution_count": 8
        }
      ],
      "source": [
        "input_sequences[:10]"
      ]
    },
    {
      "cell_type": "code",
      "execution_count": 11,
      "metadata": {
        "colab": {
          "base_uri": "https://localhost:8080/"
        },
        "id": "ToolcuzyVeBC",
        "outputId": "78bf6c04-fb5e-453a-ee67-ce40b82f2482"
      },
      "outputs": [
        {
          "output_type": "stream",
          "name": "stdout",
          "text": [
            "… mất\n",
            "… mất em\n",
            "… mất em đời\n",
            "… mất em đời này\n",
            "… mất em đời này vỡ\n"
          ]
        }
      ],
      "source": [
        "for point in input_sequences[:5]:\n",
        "  print(\" \".join(tokenizer.sequences_to_texts([point])))"
      ]
    },
    {
      "cell_type": "markdown",
      "metadata": {
        "id": "US982AN3DhzI"
      },
      "source": [
        "### 3.3. Features, label"
      ]
    },
    {
      "cell_type": "markdown",
      "metadata": {
        "id": "ely2LS9dWd4J"
      },
      "source": [
        "Padding\n",
        "\n"
      ]
    },
    {
      "cell_type": "code",
      "execution_count": 12,
      "metadata": {
        "id": "4ON9tySfWiM_"
      },
      "outputs": [],
      "source": [
        "# pad sequences\n",
        "max_sequence_len = max([len(x) for x in input_sequences])\n",
        "input_sequences = np.array(pad_sequences(input_sequences, maxlen=max_sequence_len, padding='pre'))"
      ]
    },
    {
      "cell_type": "markdown",
      "metadata": {
        "id": "g1nan5xGWm1f"
      },
      "source": [
        "Pre-padding\n",
        "\n",
        "=> use pre-padding because this is a generation model, so post element must be != 0."
      ]
    },
    {
      "cell_type": "code",
      "execution_count": 13,
      "metadata": {
        "colab": {
          "base_uri": "https://localhost:8080/"
        },
        "id": "V4EdCwU8Wjpt",
        "outputId": "b4bed46a-8169-4be2-ff66-06e5f2153b08"
      },
      "outputs": [
        {
          "output_type": "execute_result",
          "data": {
            "text/plain": [
              "array([[  0,   0,   0,   0,   0,   0,   0,   0,   0,   0,   0,   0,   0,\n",
              "          0,   0,   0, 165,  90],\n",
              "       [  0,   0,   0,   0,   0,   0,   0,   0,   0,   0,   0,   0,   0,\n",
              "          0,   0, 165,  90,   1],\n",
              "       [  0,   0,   0,   0,   0,   0,   0,   0,   0,   0,   0,   0,   0,\n",
              "          0, 165,  90,   1,  26],\n",
              "       [  0,   0,   0,   0,   0,   0,   0,   0,   0,   0,   0,   0,   0,\n",
              "        165,  90,   1,  26, 102],\n",
              "       [  0,   0,   0,   0,   0,   0,   0,   0,   0,   0,   0,   0, 165,\n",
              "         90,   1,  26, 102, 132],\n",
              "       [  0,   0,   0,   0,   0,   0,   0,   0,   0,   0,   0, 165,  90,\n",
              "          1,  26, 102, 132, 117],\n",
              "       [  0,   0,   0,   0,   0,   0,   0,   0,   0,   0,   0,   0,   0,\n",
              "          0,   0,   0,  91, 269],\n",
              "       [  0,   0,   0,   0,   0,   0,   0,   0,   0,   0,   0,   0,   0,\n",
              "          0,   0,  91, 269,  80],\n",
              "       [  0,   0,   0,   0,   0,   0,   0,   0,   0,   0,   0,   0,   0,\n",
              "          0,  91, 269,  80, 102],\n",
              "       [  0,   0,   0,   0,   0,   0,   0,   0,   0,   0,   0,   0,   0,\n",
              "         91, 269,  80, 102,  60]], dtype=int32)"
            ]
          },
          "metadata": {},
          "execution_count": 13
        }
      ],
      "source": [
        "input_sequences[:10]"
      ]
    },
    {
      "cell_type": "markdown",
      "metadata": {
        "id": "1xSnhEr0XB1z"
      },
      "source": [
        "use last column to be the label"
      ]
    },
    {
      "cell_type": "code",
      "execution_count": 14,
      "metadata": {
        "id": "7PBrJTe4Dnsb"
      },
      "outputs": [],
      "source": [
        "predictors, label = input_sequences[:,:-1],input_sequences[:,-1]"
      ]
    },
    {
      "cell_type": "code",
      "execution_count": 15,
      "metadata": {
        "colab": {
          "base_uri": "https://localhost:8080/"
        },
        "id": "4DXeo1j6cXU7",
        "outputId": "7d3b5e53-2188-4d10-8ad9-b4945c3fc511"
      },
      "outputs": [
        {
          "output_type": "execute_result",
          "data": {
            "text/plain": [
              "array([26], dtype=int32)"
            ]
          },
          "metadata": {},
          "execution_count": 15
        }
      ],
      "source": [
        "label[i:i+1]"
      ]
    },
    {
      "cell_type": "code",
      "execution_count": 17,
      "metadata": {
        "colab": {
          "base_uri": "https://localhost:8080/"
        },
        "id": "Iy7c6yxS0Lzu",
        "outputId": "aeb0c8e5-b7a2-4f7c-afc6-68b86ed57a99"
      },
      "outputs": [
        {
          "output_type": "stream",
          "name": "stdout",
          "text": [
            "… ---> mất\n",
            "… mất ---> em\n",
            "… mất em ---> đời\n",
            "… mất em đời ---> này\n",
            "… mất em đời này ---> vỡ\n"
          ]
        }
      ],
      "source": [
        "for i in range(5):\n",
        "  print(\"{} ---> {}\".format(\" \".join(tokenizer.sequences_to_texts(predictors[i:i+1])), tokenizer.sequences_to_texts([label[i:i+1]])[0]))"
      ]
    },
    {
      "cell_type": "markdown",
      "metadata": {
        "id": "k2z5du78YAoj"
      },
      "source": [
        "One-hot vector"
      ]
    },
    {
      "cell_type": "code",
      "execution_count": 18,
      "metadata": {
        "id": "NWD-xDWzXT6y"
      },
      "outputs": [],
      "source": [
        "label = ku.to_categorical(label, num_classes=total_words)"
      ]
    },
    {
      "cell_type": "code",
      "execution_count": 19,
      "metadata": {
        "colab": {
          "base_uri": "https://localhost:8080/"
        },
        "id": "-k8K6IslHFAG",
        "outputId": "781f1581-edae-4248-8c8d-4d3170dd66df"
      },
      "outputs": [
        {
          "output_type": "execute_result",
          "data": {
            "text/plain": [
              "array([[0., 0., 0., ..., 0., 0., 0.],\n",
              "       [0., 1., 0., ..., 0., 0., 0.],\n",
              "       [0., 0., 0., ..., 0., 0., 0.],\n",
              "       ...,\n",
              "       [0., 0., 0., ..., 0., 0., 0.],\n",
              "       [0., 0., 0., ..., 0., 0., 0.],\n",
              "       [0., 0., 0., ..., 0., 0., 0.]], dtype=float32)"
            ]
          },
          "metadata": {},
          "execution_count": 19
        }
      ],
      "source": [
        "label"
      ]
    },
    {
      "cell_type": "markdown",
      "metadata": {
        "id": "4zscBhCtDkwK"
      },
      "source": [
        "## 4. Model"
      ]
    },
    {
      "cell_type": "markdown",
      "metadata": {
        "id": "Baru5NL1YMS_"
      },
      "source": [
        "RNN:\n",
        "\n",
        "- 1 Embedding layer: embedding_dim = 256\n",
        "- 1 Bidirectional layer: 150 node LSTM\n",
        "- 1 LSTM: 100 node\n",
        "- 1 hidden layer\n"
      ]
    },
    {
      "cell_type": "code",
      "execution_count": 34,
      "metadata": {
        "colab": {
          "base_uri": "https://localhost:8080/"
        },
        "id": "18r5pRWfEqup",
        "outputId": "6177738b-22d3-4866-e7ed-69da31113662"
      },
      "outputs": [
        {
          "output_type": "stream",
          "name": "stdout",
          "text": [
            "Model: \"sequential_1\"\n",
            "_________________________________________________________________\n",
            " Layer (type)                Output Shape              Param #   \n",
            "=================================================================\n",
            " embedding_1 (Embedding)     (None, 17, 256)           126208    \n",
            "                                                                 \n",
            " bidirectional_1 (Bidirecti  (None, 17, 300)           488400    \n",
            " onal)                                                           \n",
            "                                                                 \n",
            " dropout_1 (Dropout)         (None, 17, 300)           0         \n",
            "                                                                 \n",
            " lstm_3 (LSTM)               (None, 100)               160400    \n",
            "                                                                 \n",
            " dense_2 (Dense)             (None, 246)               24846     \n",
            "                                                                 \n",
            " dense_3 (Dense)             (None, 493)               121771    \n",
            "                                                                 \n",
            "=================================================================\n",
            "Total params: 921625 (3.52 MB)\n",
            "Trainable params: 921625 (3.52 MB)\n",
            "Non-trainable params: 0 (0.00 Byte)\n",
            "_________________________________________________________________\n",
            "None\n"
          ]
        }
      ],
      "source": [
        "model = Sequential()\n",
        "\n",
        "model.add(Embedding(total_words, 256 , input_length=max_sequence_len-1))\n",
        "\n",
        "model.add(Bidirectional(LSTM(150, return_sequences = True)))\n",
        "\n",
        "model.add(Dropout(0.2))\n",
        "\n",
        "model.add(LSTM(100))\n",
        "\n",
        "model.add(Dense(total_words/2, activation='relu', kernel_regularizer=regularizers.l2(0.01)))\n",
        "\n",
        "model.add(Dense(total_words, activation='softmax'))\n",
        "\n",
        "model.compile(loss='categorical_crossentropy', optimizer='adam', metrics=['accuracy'])\n",
        "\n",
        "print(model.summary())"
      ]
    },
    {
      "cell_type": "markdown",
      "metadata": {
        "id": "lKjWKga2YssS"
      },
      "source": [
        "Tiến hành training"
      ]
    },
    {
      "cell_type": "code",
      "source": [
        "from tensorflow.keras.callbacks import EarlyStopping\n",
        "\n",
        "early_stopping = EarlyStopping(monitor='val_loss', patience=5, verbose=1)"
      ],
      "metadata": {
        "id": "cLWs0PYlhNHa"
      },
      "execution_count": 35,
      "outputs": []
    },
    {
      "cell_type": "code",
      "execution_count": 41,
      "metadata": {
        "colab": {
          "base_uri": "https://localhost:8080/"
        },
        "id": "1bNWIxutDmd-",
        "outputId": "6d4a957f-4b35-4931-97cc-7c5a19be13b6"
      },
      "outputs": [
        {
          "output_type": "stream",
          "name": "stdout",
          "text": [
            "Epoch 1/150\n",
            "70/75 [===========================>..] - ETA: 0s - loss: 0.5910 - accuracy: 0.9272"
          ]
        },
        {
          "output_type": "stream",
          "name": "stderr",
          "text": [
            "WARNING:tensorflow:Early stopping conditioned on metric `val_loss` which is not available. Available metrics are: loss,accuracy\n"
          ]
        },
        {
          "output_type": "stream",
          "name": "stdout",
          "text": [
            "\b\b\b\b\b\b\b\b\b\b\b\b\b\b\b\b\b\b\b\b\b\b\b\b\b\b\b\b\b\b\b\b\b\b\b\b\b\b\b\b\b\b\b\b\b\b\b\b\b\b\b\b\b\b\b\b\b\b\b\b\b\b\b\b\b\b\b\b\b\b\b\b\b\b\b\b\b\b\b\b\b\b\r75/75 [==============================] - 1s 10ms/step - loss: 0.5908 - accuracy: 0.9280\n",
            "Epoch 2/150\n",
            "75/75 [==============================] - ETA: 0s - loss: 0.5735 - accuracy: 0.9326"
          ]
        },
        {
          "output_type": "stream",
          "name": "stderr",
          "text": [
            "WARNING:tensorflow:Early stopping conditioned on metric `val_loss` which is not available. Available metrics are: loss,accuracy\n"
          ]
        },
        {
          "output_type": "stream",
          "name": "stdout",
          "text": [
            "\b\b\b\b\b\b\b\b\b\b\b\b\b\b\b\b\b\b\b\b\b\b\b\b\b\b\b\b\b\b\b\b\b\b\b\b\b\b\b\b\b\b\b\b\b\b\b\b\b\b\b\b\b\b\b\b\b\b\b\b\b\b\b\b\b\b\b\b\b\b\b\b\b\b\b\b\b\b\b\b\b\b\r75/75 [==============================] - 1s 10ms/step - loss: 0.5735 - accuracy: 0.9326\n",
            "Epoch 3/150\n",
            "72/75 [===========================>..] - ETA: 0s - loss: 0.5738 - accuracy: 0.9306"
          ]
        },
        {
          "output_type": "stream",
          "name": "stderr",
          "text": [
            "WARNING:tensorflow:Early stopping conditioned on metric `val_loss` which is not available. Available metrics are: loss,accuracy\n"
          ]
        },
        {
          "output_type": "stream",
          "name": "stdout",
          "text": [
            "\b\b\b\b\b\b\b\b\b\b\b\b\b\b\b\b\b\b\b\b\b\b\b\b\b\b\b\b\b\b\b\b\b\b\b\b\b\b\b\b\b\b\b\b\b\b\b\b\b\b\b\b\b\b\b\b\b\b\b\b\b\b\b\b\b\b\b\b\b\b\b\b\b\b\b\b\b\b\b\b\b\b\r75/75 [==============================] - 1s 9ms/step - loss: 0.5741 - accuracy: 0.9301\n",
            "Epoch 4/150\n",
            "75/75 [==============================] - ETA: 0s - loss: 0.5656 - accuracy: 0.9301"
          ]
        },
        {
          "output_type": "stream",
          "name": "stderr",
          "text": [
            "WARNING:tensorflow:Early stopping conditioned on metric `val_loss` which is not available. Available metrics are: loss,accuracy\n"
          ]
        },
        {
          "output_type": "stream",
          "name": "stdout",
          "text": [
            "\b\b\b\b\b\b\b\b\b\b\b\b\b\b\b\b\b\b\b\b\b\b\b\b\b\b\b\b\b\b\b\b\b\b\b\b\b\b\b\b\b\b\b\b\b\b\b\b\b\b\b\b\b\b\b\b\b\b\b\b\b\b\b\b\b\b\b\b\b\b\b\b\b\b\b\b\b\b\b\b\b\b\r75/75 [==============================] - 1s 16ms/step - loss: 0.5656 - accuracy: 0.9301\n",
            "Epoch 5/150\n",
            "71/75 [===========================>..] - ETA: 0s - loss: 0.5429 - accuracy: 0.9278"
          ]
        },
        {
          "output_type": "stream",
          "name": "stderr",
          "text": [
            "WARNING:tensorflow:Early stopping conditioned on metric `val_loss` which is not available. Available metrics are: loss,accuracy\n"
          ]
        },
        {
          "output_type": "stream",
          "name": "stdout",
          "text": [
            "\b\b\b\b\b\b\b\b\b\b\b\b\b\b\b\b\b\b\b\b\b\b\b\b\b\b\b\b\b\b\b\b\b\b\b\b\b\b\b\b\b\b\b\b\b\b\b\b\b\b\b\b\b\b\b\b\b\b\b\b\b\b\b\b\b\b\b\b\b\b\b\b\b\b\b\b\b\b\b\b\b\b\r75/75 [==============================] - 1s 10ms/step - loss: 0.5456 - accuracy: 0.9276\n",
            "Epoch 6/150\n",
            "72/75 [===========================>..] - ETA: 0s - loss: 0.5428 - accuracy: 0.9327"
          ]
        },
        {
          "output_type": "stream",
          "name": "stderr",
          "text": [
            "WARNING:tensorflow:Early stopping conditioned on metric `val_loss` which is not available. Available metrics are: loss,accuracy\n"
          ]
        },
        {
          "output_type": "stream",
          "name": "stdout",
          "text": [
            "\b\b\b\b\b\b\b\b\b\b\b\b\b\b\b\b\b\b\b\b\b\b\b\b\b\b\b\b\b\b\b\b\b\b\b\b\b\b\b\b\b\b\b\b\b\b\b\b\b\b\b\b\b\b\b\b\b\b\b\b\b\b\b\b\b\b\b\b\b\b\b\b\b\b\b\b\b\b\b\b\b\b\r75/75 [==============================] - 1s 9ms/step - loss: 0.5431 - accuracy: 0.9326\n",
            "Epoch 7/150\n",
            "72/75 [===========================>..] - ETA: 0s - loss: 0.5160 - accuracy: 0.9327"
          ]
        },
        {
          "output_type": "stream",
          "name": "stderr",
          "text": [
            "WARNING:tensorflow:Early stopping conditioned on metric `val_loss` which is not available. Available metrics are: loss,accuracy\n"
          ]
        },
        {
          "output_type": "stream",
          "name": "stdout",
          "text": [
            "\b\b\b\b\b\b\b\b\b\b\b\b\b\b\b\b\b\b\b\b\b\b\b\b\b\b\b\b\b\b\b\b\b\b\b\b\b\b\b\b\b\b\b\b\b\b\b\b\b\b\b\b\b\b\b\b\b\b\b\b\b\b\b\b\b\b\b\b\b\b\b\b\b\b\b\b\b\b\b\b\b\b\r75/75 [==============================] - 1s 9ms/step - loss: 0.5164 - accuracy: 0.9326\n",
            "Epoch 8/150\n",
            "73/75 [============================>.] - ETA: 0s - loss: 0.5120 - accuracy: 0.9311"
          ]
        },
        {
          "output_type": "stream",
          "name": "stderr",
          "text": [
            "WARNING:tensorflow:Early stopping conditioned on metric `val_loss` which is not available. Available metrics are: loss,accuracy\n"
          ]
        },
        {
          "output_type": "stream",
          "name": "stdout",
          "text": [
            "\b\b\b\b\b\b\b\b\b\b\b\b\b\b\b\b\b\b\b\b\b\b\b\b\b\b\b\b\b\b\b\b\b\b\b\b\b\b\b\b\b\b\b\b\b\b\b\b\b\b\b\b\b\b\b\b\b\b\b\b\b\b\b\b\b\b\b\b\b\b\b\b\b\b\b\b\b\b\b\b\b\b\r75/75 [==============================] - 1s 9ms/step - loss: 0.5148 - accuracy: 0.9301\n",
            "Epoch 9/150\n",
            "71/75 [===========================>..] - ETA: 0s - loss: 0.5130 - accuracy: 0.9287"
          ]
        },
        {
          "output_type": "stream",
          "name": "stderr",
          "text": [
            "WARNING:tensorflow:Early stopping conditioned on metric `val_loss` which is not available. Available metrics are: loss,accuracy\n"
          ]
        },
        {
          "output_type": "stream",
          "name": "stdout",
          "text": [
            "\b\b\b\b\b\b\b\b\b\b\b\b\b\b\b\b\b\b\b\b\b\b\b\b\b\b\b\b\b\b\b\b\b\b\b\b\b\b\b\b\b\b\b\b\b\b\b\b\b\b\b\b\b\b\b\b\b\b\b\b\b\b\b\b\b\b\b\b\b\b\b\b\b\b\b\b\b\b\b\b\b\b\r75/75 [==============================] - 1s 9ms/step - loss: 0.5124 - accuracy: 0.9288\n",
            "Epoch 10/150\n",
            "75/75 [==============================] - ETA: 0s - loss: 0.5154 - accuracy: 0.9288"
          ]
        },
        {
          "output_type": "stream",
          "name": "stderr",
          "text": [
            "WARNING:tensorflow:Early stopping conditioned on metric `val_loss` which is not available. Available metrics are: loss,accuracy\n"
          ]
        },
        {
          "output_type": "stream",
          "name": "stdout",
          "text": [
            "\b\b\b\b\b\b\b\b\b\b\b\b\b\b\b\b\b\b\b\b\b\b\b\b\b\b\b\b\b\b\b\b\b\b\b\b\b\b\b\b\b\b\b\b\b\b\b\b\b\b\b\b\b\b\b\b\b\b\b\b\b\b\b\b\b\b\b\b\b\b\b\b\b\b\b\b\b\b\b\b\b\b\r75/75 [==============================] - 1s 10ms/step - loss: 0.5154 - accuracy: 0.9288\n",
            "Epoch 11/150\n",
            "73/75 [============================>.] - ETA: 0s - loss: 0.5326 - accuracy: 0.9251"
          ]
        },
        {
          "output_type": "stream",
          "name": "stderr",
          "text": [
            "WARNING:tensorflow:Early stopping conditioned on metric `val_loss` which is not available. Available metrics are: loss,accuracy\n"
          ]
        },
        {
          "output_type": "stream",
          "name": "stdout",
          "text": [
            "\b\b\b\b\b\b\b\b\b\b\b\b\b\b\b\b\b\b\b\b\b\b\b\b\b\b\b\b\b\b\b\b\b\b\b\b\b\b\b\b\b\b\b\b\b\b\b\b\b\b\b\b\b\b\b\b\b\b\b\b\b\b\b\b\b\b\b\b\b\b\b\b\b\b\b\b\b\b\b\b\b\b\r75/75 [==============================] - 1s 9ms/step - loss: 0.5369 - accuracy: 0.9238\n",
            "Epoch 12/150\n",
            "71/75 [===========================>..] - ETA: 0s - loss: 0.5891 - accuracy: 0.9142"
          ]
        },
        {
          "output_type": "stream",
          "name": "stderr",
          "text": [
            "WARNING:tensorflow:Early stopping conditioned on metric `val_loss` which is not available. Available metrics are: loss,accuracy\n"
          ]
        },
        {
          "output_type": "stream",
          "name": "stdout",
          "text": [
            "\b\b\b\b\b\b\b\b\b\b\b\b\b\b\b\b\b\b\b\b\b\b\b\b\b\b\b\b\b\b\b\b\b\b\b\b\b\b\b\b\b\b\b\b\b\b\b\b\b\b\b\b\b\b\b\b\b\b\b\b\b\b\b\b\b\b\b\b\b\b\b\b\b\b\b\b\b\b\b\b\b\b\r75/75 [==============================] - 1s 9ms/step - loss: 0.5878 - accuracy: 0.9145\n",
            "Epoch 13/150\n",
            "72/75 [===========================>..] - ETA: 0s - loss: 0.5417 - accuracy: 0.9275"
          ]
        },
        {
          "output_type": "stream",
          "name": "stderr",
          "text": [
            "WARNING:tensorflow:Early stopping conditioned on metric `val_loss` which is not available. Available metrics are: loss,accuracy\n"
          ]
        },
        {
          "output_type": "stream",
          "name": "stdout",
          "text": [
            "\b\b\b\b\b\b\b\b\b\b\b\b\b\b\b\b\b\b\b\b\b\b\b\b\b\b\b\b\b\b\b\b\b\b\b\b\b\b\b\b\b\b\b\b\b\b\b\b\b\b\b\b\b\b\b\b\b\b\b\b\b\b\b\b\b\b\b\b\b\b\b\b\b\b\b\b\b\b\b\b\b\b\r75/75 [==============================] - 1s 9ms/step - loss: 0.5439 - accuracy: 0.9259\n",
            "Epoch 14/150\n",
            "71/75 [===========================>..] - ETA: 0s - loss: 0.4986 - accuracy: 0.9353"
          ]
        },
        {
          "output_type": "stream",
          "name": "stderr",
          "text": [
            "WARNING:tensorflow:Early stopping conditioned on metric `val_loss` which is not available. Available metrics are: loss,accuracy\n"
          ]
        },
        {
          "output_type": "stream",
          "name": "stdout",
          "text": [
            "\b\b\b\b\b\b\b\b\b\b\b\b\b\b\b\b\b\b\b\b\b\b\b\b\b\b\b\b\b\b\b\b\b\b\b\b\b\b\b\b\b\b\b\b\b\b\b\b\b\b\b\b\b\b\b\b\b\b\b\b\b\b\b\b\b\b\b\b\b\b\b\b\b\b\b\b\b\b\b\b\b\b\r75/75 [==============================] - 1s 10ms/step - loss: 0.4991 - accuracy: 0.9343\n",
            "Epoch 15/150\n",
            "73/75 [============================>.] - ETA: 0s - loss: 0.4766 - accuracy: 0.9307"
          ]
        },
        {
          "output_type": "stream",
          "name": "stderr",
          "text": [
            "WARNING:tensorflow:Early stopping conditioned on metric `val_loss` which is not available. Available metrics are: loss,accuracy\n"
          ]
        },
        {
          "output_type": "stream",
          "name": "stdout",
          "text": [
            "\b\b\b\b\b\b\b\b\b\b\b\b\b\b\b\b\b\b\b\b\b\b\b\b\b\b\b\b\b\b\b\b\b\b\b\b\b\b\b\b\b\b\b\b\b\b\b\b\b\b\b\b\b\b\b\b\b\b\b\b\b\b\b\b\b\b\b\b\b\b\b\b\b\b\b\b\b\b\b\b\b\b\r75/75 [==============================] - 1s 9ms/step - loss: 0.4751 - accuracy: 0.9314\n",
            "Epoch 16/150\n",
            "72/75 [===========================>..] - ETA: 0s - loss: 0.4577 - accuracy: 0.9340"
          ]
        },
        {
          "output_type": "stream",
          "name": "stderr",
          "text": [
            "WARNING:tensorflow:Early stopping conditioned on metric `val_loss` which is not available. Available metrics are: loss,accuracy\n"
          ]
        },
        {
          "output_type": "stream",
          "name": "stdout",
          "text": [
            "\b\b\b\b\b\b\b\b\b\b\b\b\b\b\b\b\b\b\b\b\b\b\b\b\b\b\b\b\b\b\b\b\b\b\b\b\b\b\b\b\b\b\b\b\b\b\b\b\b\b\b\b\b\b\b\b\b\b\b\b\b\b\b\b\b\b\b\b\b\b\b\b\b\b\b\b\b\b\b\b\b\b\r75/75 [==============================] - 1s 9ms/step - loss: 0.4600 - accuracy: 0.9326\n",
            "Epoch 17/150\n",
            "72/75 [===========================>..] - ETA: 0s - loss: 0.4646 - accuracy: 0.9266"
          ]
        },
        {
          "output_type": "stream",
          "name": "stderr",
          "text": [
            "WARNING:tensorflow:Early stopping conditioned on metric `val_loss` which is not available. Available metrics are: loss,accuracy\n"
          ]
        },
        {
          "output_type": "stream",
          "name": "stdout",
          "text": [
            "\b\b\b\b\b\b\b\b\b\b\b\b\b\b\b\b\b\b\b\b\b\b\b\b\b\b\b\b\b\b\b\b\b\b\b\b\b\b\b\b\b\b\b\b\b\b\b\b\b\b\b\b\b\b\b\b\b\b\b\b\b\b\b\b\b\b\b\b\b\b\b\b\b\b\b\b\b\b\b\b\b\b\r75/75 [==============================] - 1s 9ms/step - loss: 0.4632 - accuracy: 0.9276\n",
            "Epoch 18/150\n",
            "72/75 [===========================>..] - ETA: 0s - loss: 0.4554 - accuracy: 0.9340"
          ]
        },
        {
          "output_type": "stream",
          "name": "stderr",
          "text": [
            "WARNING:tensorflow:Early stopping conditioned on metric `val_loss` which is not available. Available metrics are: loss,accuracy\n"
          ]
        },
        {
          "output_type": "stream",
          "name": "stdout",
          "text": [
            "\b\b\b\b\b\b\b\b\b\b\b\b\b\b\b\b\b\b\b\b\b\b\b\b\b\b\b\b\b\b\b\b\b\b\b\b\b\b\b\b\b\b\b\b\b\b\b\b\b\b\b\b\b\b\b\b\b\b\b\b\b\b\b\b\b\b\b\b\b\b\b\b\b\b\b\b\b\b\b\b\b\b\r75/75 [==============================] - 1s 9ms/step - loss: 0.4535 - accuracy: 0.9356\n",
            "Epoch 19/150\n",
            "74/75 [============================>.] - ETA: 0s - loss: 0.4504 - accuracy: 0.9320"
          ]
        },
        {
          "output_type": "stream",
          "name": "stderr",
          "text": [
            "WARNING:tensorflow:Early stopping conditioned on metric `val_loss` which is not available. Available metrics are: loss,accuracy\n"
          ]
        },
        {
          "output_type": "stream",
          "name": "stdout",
          "text": [
            "\b\b\b\b\b\b\b\b\b\b\b\b\b\b\b\b\b\b\b\b\b\b\b\b\b\b\b\b\b\b\b\b\b\b\b\b\b\b\b\b\b\b\b\b\b\b\b\b\b\b\b\b\b\b\b\b\b\b\b\b\b\b\b\b\b\b\b\b\b\b\b\b\b\b\b\b\b\b\b\b\b\b\r75/75 [==============================] - 1s 13ms/step - loss: 0.4507 - accuracy: 0.9318\n",
            "Epoch 20/150\n",
            "70/75 [===========================>..] - ETA: 0s - loss: 0.4475 - accuracy: 0.9344"
          ]
        },
        {
          "output_type": "stream",
          "name": "stderr",
          "text": [
            "WARNING:tensorflow:Early stopping conditioned on metric `val_loss` which is not available. Available metrics are: loss,accuracy\n"
          ]
        },
        {
          "output_type": "stream",
          "name": "stdout",
          "text": [
            "\b\b\b\b\b\b\b\b\b\b\b\b\b\b\b\b\b\b\b\b\b\b\b\b\b\b\b\b\b\b\b\b\b\b\b\b\b\b\b\b\b\b\b\b\b\b\b\b\b\b\b\b\b\b\b\b\b\b\b\b\b\b\b\b\b\b\b\b\b\b\b\b\b\b\b\b\b\b\b\b\b\b\r75/75 [==============================] - 1s 12ms/step - loss: 0.4455 - accuracy: 0.9347\n",
            "Epoch 21/150\n",
            "74/75 [============================>.] - ETA: 0s - loss: 0.4413 - accuracy: 0.9320"
          ]
        },
        {
          "output_type": "stream",
          "name": "stderr",
          "text": [
            "WARNING:tensorflow:Early stopping conditioned on metric `val_loss` which is not available. Available metrics are: loss,accuracy\n"
          ]
        },
        {
          "output_type": "stream",
          "name": "stdout",
          "text": [
            "\b\b\b\b\b\b\b\b\b\b\b\b\b\b\b\b\b\b\b\b\b\b\b\b\b\b\b\b\b\b\b\b\b\b\b\b\b\b\b\b\b\b\b\b\b\b\b\b\b\b\b\b\b\b\b\b\b\b\b\b\b\b\b\b\b\b\b\b\b\b\b\b\b\b\b\b\b\b\b\b\b\b\r75/75 [==============================] - 1s 15ms/step - loss: 0.4407 - accuracy: 0.9322\n",
            "Epoch 22/150\n",
            "74/75 [============================>.] - ETA: 0s - loss: 0.4392 - accuracy: 0.9354"
          ]
        },
        {
          "output_type": "stream",
          "name": "stderr",
          "text": [
            "WARNING:tensorflow:Early stopping conditioned on metric `val_loss` which is not available. Available metrics are: loss,accuracy\n"
          ]
        },
        {
          "output_type": "stream",
          "name": "stdout",
          "text": [
            "\b\b\b\b\b\b\b\b\b\b\b\b\b\b\b\b\b\b\b\b\b\b\b\b\b\b\b\b\b\b\b\b\b\b\b\b\b\b\b\b\b\b\b\b\b\b\b\b\b\b\b\b\b\b\b\b\b\b\b\b\b\b\b\b\b\b\b\b\b\b\b\b\b\b\b\b\b\b\b\b\b\b\r75/75 [==============================] - 1s 11ms/step - loss: 0.4386 - accuracy: 0.9356\n",
            "Epoch 23/150\n",
            "72/75 [===========================>..] - ETA: 0s - loss: 0.4343 - accuracy: 0.9358"
          ]
        },
        {
          "output_type": "stream",
          "name": "stderr",
          "text": [
            "WARNING:tensorflow:Early stopping conditioned on metric `val_loss` which is not available. Available metrics are: loss,accuracy\n"
          ]
        },
        {
          "output_type": "stream",
          "name": "stdout",
          "text": [
            "\b\b\b\b\b\b\b\b\b\b\b\b\b\b\b\b\b\b\b\b\b\b\b\b\b\b\b\b\b\b\b\b\b\b\b\b\b\b\b\b\b\b\b\b\b\b\b\b\b\b\b\b\b\b\b\b\b\b\b\b\b\b\b\b\b\b\b\b\b\b\b\b\b\b\b\b\b\b\b\b\b\b\r75/75 [==============================] - 1s 9ms/step - loss: 0.4346 - accuracy: 0.9356\n",
            "Epoch 24/150\n",
            "72/75 [===========================>..] - ETA: 0s - loss: 0.4312 - accuracy: 0.9353"
          ]
        },
        {
          "output_type": "stream",
          "name": "stderr",
          "text": [
            "WARNING:tensorflow:Early stopping conditioned on metric `val_loss` which is not available. Available metrics are: loss,accuracy\n"
          ]
        },
        {
          "output_type": "stream",
          "name": "stdout",
          "text": [
            "\b\b\b\b\b\b\b\b\b\b\b\b\b\b\b\b\b\b\b\b\b\b\b\b\b\b\b\b\b\b\b\b\b\b\b\b\b\b\b\b\b\b\b\b\b\b\b\b\b\b\b\b\b\b\b\b\b\b\b\b\b\b\b\b\b\b\b\b\b\b\b\b\b\b\b\b\b\b\b\b\b\b\r75/75 [==============================] - 1s 9ms/step - loss: 0.4360 - accuracy: 0.9335\n",
            "Epoch 25/150\n",
            "75/75 [==============================] - ETA: 0s - loss: 0.4344 - accuracy: 0.9288"
          ]
        },
        {
          "output_type": "stream",
          "name": "stderr",
          "text": [
            "WARNING:tensorflow:Early stopping conditioned on metric `val_loss` which is not available. Available metrics are: loss,accuracy\n"
          ]
        },
        {
          "output_type": "stream",
          "name": "stdout",
          "text": [
            "\b\b\b\b\b\b\b\b\b\b\b\b\b\b\b\b\b\b\b\b\b\b\b\b\b\b\b\b\b\b\b\b\b\b\b\b\b\b\b\b\b\b\b\b\b\b\b\b\b\b\b\b\b\b\b\b\b\b\b\b\b\b\b\b\b\b\b\b\b\b\b\b\b\b\b\b\b\b\b\b\b\b\r75/75 [==============================] - 1s 11ms/step - loss: 0.4344 - accuracy: 0.9288\n",
            "Epoch 26/150\n",
            "71/75 [===========================>..] - ETA: 0s - loss: 0.4261 - accuracy: 0.9291"
          ]
        },
        {
          "output_type": "stream",
          "name": "stderr",
          "text": [
            "WARNING:tensorflow:Early stopping conditioned on metric `val_loss` which is not available. Available metrics are: loss,accuracy\n"
          ]
        },
        {
          "output_type": "stream",
          "name": "stdout",
          "text": [
            "\b\b\b\b\b\b\b\b\b\b\b\b\b\b\b\b\b\b\b\b\b\b\b\b\b\b\b\b\b\b\b\b\b\b\b\b\b\b\b\b\b\b\b\b\b\b\b\b\b\b\b\b\b\b\b\b\b\b\b\b\b\b\b\b\b\b\b\b\b\b\b\b\b\b\b\b\b\b\b\b\b\b\r75/75 [==============================] - 1s 9ms/step - loss: 0.4264 - accuracy: 0.9280\n",
            "Epoch 27/150\n",
            "70/75 [===========================>..] - ETA: 0s - loss: 0.4138 - accuracy: 0.9348"
          ]
        },
        {
          "output_type": "stream",
          "name": "stderr",
          "text": [
            "WARNING:tensorflow:Early stopping conditioned on metric `val_loss` which is not available. Available metrics are: loss,accuracy\n"
          ]
        },
        {
          "output_type": "stream",
          "name": "stdout",
          "text": [
            "\b\b\b\b\b\b\b\b\b\b\b\b\b\b\b\b\b\b\b\b\b\b\b\b\b\b\b\b\b\b\b\b\b\b\b\b\b\b\b\b\b\b\b\b\b\b\b\b\b\b\b\b\b\b\b\b\b\b\b\b\b\b\b\b\b\b\b\b\b\b\b\b\b\b\b\b\b\b\b\b\b\b\r75/75 [==============================] - 1s 9ms/step - loss: 0.4126 - accuracy: 0.9356\n",
            "Epoch 28/150\n",
            "73/75 [============================>.] - ETA: 0s - loss: 0.4118 - accuracy: 0.9319"
          ]
        },
        {
          "output_type": "stream",
          "name": "stderr",
          "text": [
            "WARNING:tensorflow:Early stopping conditioned on metric `val_loss` which is not available. Available metrics are: loss,accuracy\n"
          ]
        },
        {
          "output_type": "stream",
          "name": "stdout",
          "text": [
            "\b\b\b\b\b\b\b\b\b\b\b\b\b\b\b\b\b\b\b\b\b\b\b\b\b\b\b\b\b\b\b\b\b\b\b\b\b\b\b\b\b\b\b\b\b\b\b\b\b\b\b\b\b\b\b\b\b\b\b\b\b\b\b\b\b\b\b\b\b\b\b\b\b\b\b\b\b\b\b\b\b\b\r75/75 [==============================] - 1s 9ms/step - loss: 0.4104 - accuracy: 0.9326\n",
            "Epoch 29/150\n",
            "72/75 [===========================>..] - ETA: 0s - loss: 0.4162 - accuracy: 0.9306"
          ]
        },
        {
          "output_type": "stream",
          "name": "stderr",
          "text": [
            "WARNING:tensorflow:Early stopping conditioned on metric `val_loss` which is not available. Available metrics are: loss,accuracy\n"
          ]
        },
        {
          "output_type": "stream",
          "name": "stdout",
          "text": [
            "\b\b\b\b\b\b\b\b\b\b\b\b\b\b\b\b\b\b\b\b\b\b\b\b\b\b\b\b\b\b\b\b\b\b\b\b\b\b\b\b\b\b\b\b\b\b\b\b\b\b\b\b\b\b\b\b\b\b\b\b\b\b\b\b\b\b\b\b\b\b\b\b\b\b\b\b\b\b\b\b\b\b\r75/75 [==============================] - 1s 9ms/step - loss: 0.4144 - accuracy: 0.9322\n",
            "Epoch 30/150\n",
            "72/75 [===========================>..] - ETA: 0s - loss: 0.4243 - accuracy: 0.9306"
          ]
        },
        {
          "output_type": "stream",
          "name": "stderr",
          "text": [
            "WARNING:tensorflow:Early stopping conditioned on metric `val_loss` which is not available. Available metrics are: loss,accuracy\n"
          ]
        },
        {
          "output_type": "stream",
          "name": "stdout",
          "text": [
            "\b\b\b\b\b\b\b\b\b\b\b\b\b\b\b\b\b\b\b\b\b\b\b\b\b\b\b\b\b\b\b\b\b\b\b\b\b\b\b\b\b\b\b\b\b\b\b\b\b\b\b\b\b\b\b\b\b\b\b\b\b\b\b\b\b\b\b\b\b\b\b\b\b\b\b\b\b\b\b\b\b\b\r75/75 [==============================] - 1s 9ms/step - loss: 0.4276 - accuracy: 0.9301\n",
            "Epoch 31/150\n",
            "73/75 [============================>.] - ETA: 0s - loss: 0.4206 - accuracy: 0.9298"
          ]
        },
        {
          "output_type": "stream",
          "name": "stderr",
          "text": [
            "WARNING:tensorflow:Early stopping conditioned on metric `val_loss` which is not available. Available metrics are: loss,accuracy\n"
          ]
        },
        {
          "output_type": "stream",
          "name": "stdout",
          "text": [
            "\b\b\b\b\b\b\b\b\b\b\b\b\b\b\b\b\b\b\b\b\b\b\b\b\b\b\b\b\b\b\b\b\b\b\b\b\b\b\b\b\b\b\b\b\b\b\b\b\b\b\b\b\b\b\b\b\b\b\b\b\b\b\b\b\b\b\b\b\b\b\b\b\b\b\b\b\b\b\b\b\b\b\r75/75 [==============================] - 1s 9ms/step - loss: 0.4204 - accuracy: 0.9297\n",
            "Epoch 32/150\n",
            "71/75 [===========================>..] - ETA: 0s - loss: 0.4430 - accuracy: 0.9278"
          ]
        },
        {
          "output_type": "stream",
          "name": "stderr",
          "text": [
            "WARNING:tensorflow:Early stopping conditioned on metric `val_loss` which is not available. Available metrics are: loss,accuracy\n"
          ]
        },
        {
          "output_type": "stream",
          "name": "stdout",
          "text": [
            "\b\b\b\b\b\b\b\b\b\b\b\b\b\b\b\b\b\b\b\b\b\b\b\b\b\b\b\b\b\b\b\b\b\b\b\b\b\b\b\b\b\b\b\b\b\b\b\b\b\b\b\b\b\b\b\b\b\b\b\b\b\b\b\b\b\b\b\b\b\b\b\b\b\b\b\b\b\b\b\b\b\b\r75/75 [==============================] - 1s 9ms/step - loss: 0.4454 - accuracy: 0.9272\n",
            "Epoch 33/150\n",
            "74/75 [============================>.] - ETA: 0s - loss: 0.4476 - accuracy: 0.9223"
          ]
        },
        {
          "output_type": "stream",
          "name": "stderr",
          "text": [
            "WARNING:tensorflow:Early stopping conditioned on metric `val_loss` which is not available. Available metrics are: loss,accuracy\n"
          ]
        },
        {
          "output_type": "stream",
          "name": "stdout",
          "text": [
            "\b\b\b\b\b\b\b\b\b\b\b\b\b\b\b\b\b\b\b\b\b\b\b\b\b\b\b\b\b\b\b\b\b\b\b\b\b\b\b\b\b\b\b\b\b\b\b\b\b\b\b\b\b\b\b\b\b\b\b\b\b\b\b\b\b\b\b\b\b\b\b\b\b\b\b\b\b\b\b\b\b\b\r75/75 [==============================] - 1s 11ms/step - loss: 0.4476 - accuracy: 0.9221\n",
            "Epoch 34/150\n",
            "73/75 [============================>.] - ETA: 0s - loss: 0.4457 - accuracy: 0.9302"
          ]
        },
        {
          "output_type": "stream",
          "name": "stderr",
          "text": [
            "WARNING:tensorflow:Early stopping conditioned on metric `val_loss` which is not available. Available metrics are: loss,accuracy\n"
          ]
        },
        {
          "output_type": "stream",
          "name": "stdout",
          "text": [
            "\b\b\b\b\b\b\b\b\b\b\b\b\b\b\b\b\b\b\b\b\b\b\b\b\b\b\b\b\b\b\b\b\b\b\b\b\b\b\b\b\b\b\b\b\b\b\b\b\b\b\b\b\b\b\b\b\b\b\b\b\b\b\b\b\b\b\b\b\b\b\b\b\b\b\b\b\b\b\b\b\b\b\r75/75 [==============================] - 1s 14ms/step - loss: 0.4467 - accuracy: 0.9301\n",
            "Epoch 35/150\n",
            "74/75 [============================>.] - ETA: 0s - loss: 0.4078 - accuracy: 0.9358"
          ]
        },
        {
          "output_type": "stream",
          "name": "stderr",
          "text": [
            "WARNING:tensorflow:Early stopping conditioned on metric `val_loss` which is not available. Available metrics are: loss,accuracy\n"
          ]
        },
        {
          "output_type": "stream",
          "name": "stdout",
          "text": [
            "\b\b\b\b\b\b\b\b\b\b\b\b\b\b\b\b\b\b\b\b\b\b\b\b\b\b\b\b\b\b\b\b\b\b\b\b\b\b\b\b\b\b\b\b\b\b\b\b\b\b\b\b\b\b\b\b\b\b\b\b\b\b\b\b\b\b\b\b\b\b\b\b\b\b\b\b\b\b\b\b\b\b\r75/75 [==============================] - 1s 11ms/step - loss: 0.4076 - accuracy: 0.9360\n",
            "Epoch 36/150\n",
            "73/75 [============================>.] - ETA: 0s - loss: 0.3943 - accuracy: 0.9366"
          ]
        },
        {
          "output_type": "stream",
          "name": "stderr",
          "text": [
            "WARNING:tensorflow:Early stopping conditioned on metric `val_loss` which is not available. Available metrics are: loss,accuracy\n"
          ]
        },
        {
          "output_type": "stream",
          "name": "stdout",
          "text": [
            "\b\b\b\b\b\b\b\b\b\b\b\b\b\b\b\b\b\b\b\b\b\b\b\b\b\b\b\b\b\b\b\b\b\b\b\b\b\b\b\b\b\b\b\b\b\b\b\b\b\b\b\b\b\b\b\b\b\b\b\b\b\b\b\b\b\b\b\b\b\b\b\b\b\b\b\b\b\b\b\b\b\b\r75/75 [==============================] - 1s 9ms/step - loss: 0.3950 - accuracy: 0.9360\n",
            "Epoch 37/150\n",
            "71/75 [===========================>..] - ETA: 0s - loss: 0.3983 - accuracy: 0.9322"
          ]
        },
        {
          "output_type": "stream",
          "name": "stderr",
          "text": [
            "WARNING:tensorflow:Early stopping conditioned on metric `val_loss` which is not available. Available metrics are: loss,accuracy\n"
          ]
        },
        {
          "output_type": "stream",
          "name": "stdout",
          "text": [
            "\b\b\b\b\b\b\b\b\b\b\b\b\b\b\b\b\b\b\b\b\b\b\b\b\b\b\b\b\b\b\b\b\b\b\b\b\b\b\b\b\b\b\b\b\b\b\b\b\b\b\b\b\b\b\b\b\b\b\b\b\b\b\b\b\b\b\b\b\b\b\b\b\b\b\b\b\b\b\b\b\b\b\r75/75 [==============================] - 1s 9ms/step - loss: 0.4003 - accuracy: 0.9318\n",
            "Epoch 38/150\n",
            "72/75 [===========================>..] - ETA: 0s - loss: 0.3874 - accuracy: 0.9375"
          ]
        },
        {
          "output_type": "stream",
          "name": "stderr",
          "text": [
            "WARNING:tensorflow:Early stopping conditioned on metric `val_loss` which is not available. Available metrics are: loss,accuracy\n"
          ]
        },
        {
          "output_type": "stream",
          "name": "stdout",
          "text": [
            "\b\b\b\b\b\b\b\b\b\b\b\b\b\b\b\b\b\b\b\b\b\b\b\b\b\b\b\b\b\b\b\b\b\b\b\b\b\b\b\b\b\b\b\b\b\b\b\b\b\b\b\b\b\b\b\b\b\b\b\b\b\b\b\b\b\b\b\b\b\b\b\b\b\b\b\b\b\b\b\b\b\b\r75/75 [==============================] - 1s 9ms/step - loss: 0.3868 - accuracy: 0.9373\n",
            "Epoch 39/150\n",
            "71/75 [===========================>..] - ETA: 0s - loss: 0.3800 - accuracy: 0.9322"
          ]
        },
        {
          "output_type": "stream",
          "name": "stderr",
          "text": [
            "WARNING:tensorflow:Early stopping conditioned on metric `val_loss` which is not available. Available metrics are: loss,accuracy\n"
          ]
        },
        {
          "output_type": "stream",
          "name": "stdout",
          "text": [
            "\b\b\b\b\b\b\b\b\b\b\b\b\b\b\b\b\b\b\b\b\b\b\b\b\b\b\b\b\b\b\b\b\b\b\b\b\b\b\b\b\b\b\b\b\b\b\b\b\b\b\b\b\b\b\b\b\b\b\b\b\b\b\b\b\b\b\b\b\b\b\b\b\b\b\b\b\b\b\b\b\b\b\r75/75 [==============================] - 1s 9ms/step - loss: 0.3800 - accuracy: 0.9331\n",
            "Epoch 40/150\n",
            "70/75 [===========================>..] - ETA: 0s - loss: 0.3784 - accuracy: 0.9344"
          ]
        },
        {
          "output_type": "stream",
          "name": "stderr",
          "text": [
            "WARNING:tensorflow:Early stopping conditioned on metric `val_loss` which is not available. Available metrics are: loss,accuracy\n"
          ]
        },
        {
          "output_type": "stream",
          "name": "stdout",
          "text": [
            "\b\b\b\b\b\b\b\b\b\b\b\b\b\b\b\b\b\b\b\b\b\b\b\b\b\b\b\b\b\b\b\b\b\b\b\b\b\b\b\b\b\b\b\b\b\b\b\b\b\b\b\b\b\b\b\b\b\b\b\b\b\b\b\b\b\b\b\b\b\b\b\b\b\b\b\b\b\b\b\b\b\b\r75/75 [==============================] - 1s 11ms/step - loss: 0.3771 - accuracy: 0.9347\n",
            "Epoch 41/150\n",
            "73/75 [============================>.] - ETA: 0s - loss: 0.3737 - accuracy: 0.9366"
          ]
        },
        {
          "output_type": "stream",
          "name": "stderr",
          "text": [
            "WARNING:tensorflow:Early stopping conditioned on metric `val_loss` which is not available. Available metrics are: loss,accuracy\n"
          ]
        },
        {
          "output_type": "stream",
          "name": "stdout",
          "text": [
            "\b\b\b\b\b\b\b\b\b\b\b\b\b\b\b\b\b\b\b\b\b\b\b\b\b\b\b\b\b\b\b\b\b\b\b\b\b\b\b\b\b\b\b\b\b\b\b\b\b\b\b\b\b\b\b\b\b\b\b\b\b\b\b\b\b\b\b\b\b\b\b\b\b\b\b\b\b\b\b\b\b\b\r75/75 [==============================] - 1s 11ms/step - loss: 0.3728 - accuracy: 0.9373\n",
            "Epoch 42/150\n",
            "73/75 [============================>.] - ETA: 0s - loss: 0.3639 - accuracy: 0.9349"
          ]
        },
        {
          "output_type": "stream",
          "name": "stderr",
          "text": [
            "WARNING:tensorflow:Early stopping conditioned on metric `val_loss` which is not available. Available metrics are: loss,accuracy\n"
          ]
        },
        {
          "output_type": "stream",
          "name": "stdout",
          "text": [
            "\b\b\b\b\b\b\b\b\b\b\b\b\b\b\b\b\b\b\b\b\b\b\b\b\b\b\b\b\b\b\b\b\b\b\b\b\b\b\b\b\b\b\b\b\b\b\b\b\b\b\b\b\b\b\b\b\b\b\b\b\b\b\b\b\b\b\b\b\b\b\b\b\b\b\b\b\b\b\b\b\b\b\r75/75 [==============================] - 1s 9ms/step - loss: 0.3630 - accuracy: 0.9347\n",
            "Epoch 43/150\n",
            "73/75 [============================>.] - ETA: 0s - loss: 0.3560 - accuracy: 0.9354"
          ]
        },
        {
          "output_type": "stream",
          "name": "stderr",
          "text": [
            "WARNING:tensorflow:Early stopping conditioned on metric `val_loss` which is not available. Available metrics are: loss,accuracy\n"
          ]
        },
        {
          "output_type": "stream",
          "name": "stdout",
          "text": [
            "\b\b\b\b\b\b\b\b\b\b\b\b\b\b\b\b\b\b\b\b\b\b\b\b\b\b\b\b\b\b\b\b\b\b\b\b\b\b\b\b\b\b\b\b\b\b\b\b\b\b\b\b\b\b\b\b\b\b\b\b\b\b\b\b\b\b\b\b\b\b\b\b\b\b\b\b\b\b\b\b\b\b\r75/75 [==============================] - 1s 9ms/step - loss: 0.3583 - accuracy: 0.9339\n",
            "Epoch 44/150\n",
            "72/75 [===========================>..] - ETA: 0s - loss: 0.3738 - accuracy: 0.9358"
          ]
        },
        {
          "output_type": "stream",
          "name": "stderr",
          "text": [
            "WARNING:tensorflow:Early stopping conditioned on metric `val_loss` which is not available. Available metrics are: loss,accuracy\n"
          ]
        },
        {
          "output_type": "stream",
          "name": "stdout",
          "text": [
            "\b\b\b\b\b\b\b\b\b\b\b\b\b\b\b\b\b\b\b\b\b\b\b\b\b\b\b\b\b\b\b\b\b\b\b\b\b\b\b\b\b\b\b\b\b\b\b\b\b\b\b\b\b\b\b\b\b\b\b\b\b\b\b\b\b\b\b\b\b\b\b\b\b\b\b\b\b\b\b\b\b\b\r75/75 [==============================] - 1s 9ms/step - loss: 0.3708 - accuracy: 0.9368\n",
            "Epoch 45/150\n",
            "71/75 [===========================>..] - ETA: 0s - loss: 0.3583 - accuracy: 0.9309"
          ]
        },
        {
          "output_type": "stream",
          "name": "stderr",
          "text": [
            "WARNING:tensorflow:Early stopping conditioned on metric `val_loss` which is not available. Available metrics are: loss,accuracy\n"
          ]
        },
        {
          "output_type": "stream",
          "name": "stdout",
          "text": [
            "\b\b\b\b\b\b\b\b\b\b\b\b\b\b\b\b\b\b\b\b\b\b\b\b\b\b\b\b\b\b\b\b\b\b\b\b\b\b\b\b\b\b\b\b\b\b\b\b\b\b\b\b\b\b\b\b\b\b\b\b\b\b\b\b\b\b\b\b\b\b\b\b\b\b\b\b\b\b\b\b\b\b\r75/75 [==============================] - 1s 9ms/step - loss: 0.3595 - accuracy: 0.9305\n",
            "Epoch 46/150\n",
            "73/75 [============================>.] - ETA: 0s - loss: 0.3553 - accuracy: 0.9336"
          ]
        },
        {
          "output_type": "stream",
          "name": "stderr",
          "text": [
            "WARNING:tensorflow:Early stopping conditioned on metric `val_loss` which is not available. Available metrics are: loss,accuracy\n"
          ]
        },
        {
          "output_type": "stream",
          "name": "stdout",
          "text": [
            "\b\b\b\b\b\b\b\b\b\b\b\b\b\b\b\b\b\b\b\b\b\b\b\b\b\b\b\b\b\b\b\b\b\b\b\b\b\b\b\b\b\b\b\b\b\b\b\b\b\b\b\b\b\b\b\b\b\b\b\b\b\b\b\b\b\b\b\b\b\b\b\b\b\b\b\b\b\b\b\b\b\b\r75/75 [==============================] - 1s 9ms/step - loss: 0.3574 - accuracy: 0.9326\n",
            "Epoch 47/150\n",
            "73/75 [============================>.] - ETA: 0s - loss: 0.3588 - accuracy: 0.9324"
          ]
        },
        {
          "output_type": "stream",
          "name": "stderr",
          "text": [
            "WARNING:tensorflow:Early stopping conditioned on metric `val_loss` which is not available. Available metrics are: loss,accuracy\n"
          ]
        },
        {
          "output_type": "stream",
          "name": "stdout",
          "text": [
            "\b\b\b\b\b\b\b\b\b\b\b\b\b\b\b\b\b\b\b\b\b\b\b\b\b\b\b\b\b\b\b\b\b\b\b\b\b\b\b\b\b\b\b\b\b\b\b\b\b\b\b\b\b\b\b\b\b\b\b\b\b\b\b\b\b\b\b\b\b\b\b\b\b\b\b\b\b\b\b\b\b\b\r75/75 [==============================] - 1s 11ms/step - loss: 0.3565 - accuracy: 0.9335\n",
            "Epoch 48/150\n",
            "74/75 [============================>.] - ETA: 0s - loss: 0.3539 - accuracy: 0.9295"
          ]
        },
        {
          "output_type": "stream",
          "name": "stderr",
          "text": [
            "WARNING:tensorflow:Early stopping conditioned on metric `val_loss` which is not available. Available metrics are: loss,accuracy\n"
          ]
        },
        {
          "output_type": "stream",
          "name": "stdout",
          "text": [
            "\b\b\b\b\b\b\b\b\b\b\b\b\b\b\b\b\b\b\b\b\b\b\b\b\b\b\b\b\b\b\b\b\b\b\b\b\b\b\b\b\b\b\b\b\b\b\b\b\b\b\b\b\b\b\b\b\b\b\b\b\b\b\b\b\b\b\b\b\b\b\b\b\b\b\b\b\b\b\b\b\b\b\r75/75 [==============================] - 1s 11ms/step - loss: 0.3553 - accuracy: 0.9288\n",
            "Epoch 49/150\n",
            "72/75 [===========================>..] - ETA: 0s - loss: 0.3805 - accuracy: 0.9319"
          ]
        },
        {
          "output_type": "stream",
          "name": "stderr",
          "text": [
            "WARNING:tensorflow:Early stopping conditioned on metric `val_loss` which is not available. Available metrics are: loss,accuracy\n"
          ]
        },
        {
          "output_type": "stream",
          "name": "stdout",
          "text": [
            "\b\b\b\b\b\b\b\b\b\b\b\b\b\b\b\b\b\b\b\b\b\b\b\b\b\b\b\b\b\b\b\b\b\b\b\b\b\b\b\b\b\b\b\b\b\b\b\b\b\b\b\b\b\b\b\b\b\b\b\b\b\b\b\b\b\b\b\b\b\b\b\b\b\b\b\b\b\b\b\b\b\b\r75/75 [==============================] - 1s 13ms/step - loss: 0.3810 - accuracy: 0.9314\n",
            "Epoch 50/150\n",
            "72/75 [===========================>..] - ETA: 0s - loss: 0.3732 - accuracy: 0.9306"
          ]
        },
        {
          "output_type": "stream",
          "name": "stderr",
          "text": [
            "WARNING:tensorflow:Early stopping conditioned on metric `val_loss` which is not available. Available metrics are: loss,accuracy\n"
          ]
        },
        {
          "output_type": "stream",
          "name": "stdout",
          "text": [
            "\b\b\b\b\b\b\b\b\b\b\b\b\b\b\b\b\b\b\b\b\b\b\b\b\b\b\b\b\b\b\b\b\b\b\b\b\b\b\b\b\b\b\b\b\b\b\b\b\b\b\b\b\b\b\b\b\b\b\b\b\b\b\b\b\b\b\b\b\b\b\b\b\b\b\b\b\b\b\b\b\b\b\r75/75 [==============================] - 1s 9ms/step - loss: 0.3738 - accuracy: 0.9305\n",
            "Epoch 51/150\n",
            "72/75 [===========================>..] - ETA: 0s - loss: 0.3710 - accuracy: 0.9314"
          ]
        },
        {
          "output_type": "stream",
          "name": "stderr",
          "text": [
            "WARNING:tensorflow:Early stopping conditioned on metric `val_loss` which is not available. Available metrics are: loss,accuracy\n"
          ]
        },
        {
          "output_type": "stream",
          "name": "stdout",
          "text": [
            "\b\b\b\b\b\b\b\b\b\b\b\b\b\b\b\b\b\b\b\b\b\b\b\b\b\b\b\b\b\b\b\b\b\b\b\b\b\b\b\b\b\b\b\b\b\b\b\b\b\b\b\b\b\b\b\b\b\b\b\b\b\b\b\b\b\b\b\b\b\b\b\b\b\b\b\b\b\b\b\b\b\b\r75/75 [==============================] - 1s 9ms/step - loss: 0.3713 - accuracy: 0.9318\n",
            "Epoch 52/150\n",
            "70/75 [===========================>..] - ETA: 0s - loss: 0.3541 - accuracy: 0.9304"
          ]
        },
        {
          "output_type": "stream",
          "name": "stderr",
          "text": [
            "WARNING:tensorflow:Early stopping conditioned on metric `val_loss` which is not available. Available metrics are: loss,accuracy\n"
          ]
        },
        {
          "output_type": "stream",
          "name": "stdout",
          "text": [
            "\b\b\b\b\b\b\b\b\b\b\b\b\b\b\b\b\b\b\b\b\b\b\b\b\b\b\b\b\b\b\b\b\b\b\b\b\b\b\b\b\b\b\b\b\b\b\b\b\b\b\b\b\b\b\b\b\b\b\b\b\b\b\b\b\b\b\b\b\b\b\b\b\b\b\b\b\b\b\b\b\b\b\r75/75 [==============================] - 1s 11ms/step - loss: 0.3556 - accuracy: 0.9301\n",
            "Epoch 53/150\n",
            "70/75 [===========================>..] - ETA: 0s - loss: 0.3583 - accuracy: 0.9344"
          ]
        },
        {
          "output_type": "stream",
          "name": "stderr",
          "text": [
            "WARNING:tensorflow:Early stopping conditioned on metric `val_loss` which is not available. Available metrics are: loss,accuracy\n"
          ]
        },
        {
          "output_type": "stream",
          "name": "stdout",
          "text": [
            "\b\b\b\b\b\b\b\b\b\b\b\b\b\b\b\b\b\b\b\b\b\b\b\b\b\b\b\b\b\b\b\b\b\b\b\b\b\b\b\b\b\b\b\b\b\b\b\b\b\b\b\b\b\b\b\b\b\b\b\b\b\b\b\b\b\b\b\b\b\b\b\b\b\b\b\b\b\b\b\b\b\b\r75/75 [==============================] - 1s 10ms/step - loss: 0.3603 - accuracy: 0.9331\n",
            "Epoch 54/150\n",
            "72/75 [===========================>..] - ETA: 0s - loss: 0.3545 - accuracy: 0.9327"
          ]
        },
        {
          "output_type": "stream",
          "name": "stderr",
          "text": [
            "WARNING:tensorflow:Early stopping conditioned on metric `val_loss` which is not available. Available metrics are: loss,accuracy\n"
          ]
        },
        {
          "output_type": "stream",
          "name": "stdout",
          "text": [
            "\b\b\b\b\b\b\b\b\b\b\b\b\b\b\b\b\b\b\b\b\b\b\b\b\b\b\b\b\b\b\b\b\b\b\b\b\b\b\b\b\b\b\b\b\b\b\b\b\b\b\b\b\b\b\b\b\b\b\b\b\b\b\b\b\b\b\b\b\b\b\b\b\b\b\b\b\b\b\b\b\b\b\r75/75 [==============================] - 1s 9ms/step - loss: 0.3533 - accuracy: 0.9331\n",
            "Epoch 55/150\n",
            "71/75 [===========================>..] - ETA: 0s - loss: 0.3458 - accuracy: 0.9353"
          ]
        },
        {
          "output_type": "stream",
          "name": "stderr",
          "text": [
            "WARNING:tensorflow:Early stopping conditioned on metric `val_loss` which is not available. Available metrics are: loss,accuracy\n"
          ]
        },
        {
          "output_type": "stream",
          "name": "stdout",
          "text": [
            "\b\b\b\b\b\b\b\b\b\b\b\b\b\b\b\b\b\b\b\b\b\b\b\b\b\b\b\b\b\b\b\b\b\b\b\b\b\b\b\b\b\b\b\b\b\b\b\b\b\b\b\b\b\b\b\b\b\b\b\b\b\b\b\b\b\b\b\b\b\b\b\b\b\b\b\b\b\b\b\b\b\b\r75/75 [==============================] - 1s 9ms/step - loss: 0.3460 - accuracy: 0.9352\n",
            "Epoch 56/150\n",
            "72/75 [===========================>..] - ETA: 0s - loss: 0.3633 - accuracy: 0.9280"
          ]
        },
        {
          "output_type": "stream",
          "name": "stderr",
          "text": [
            "WARNING:tensorflow:Early stopping conditioned on metric `val_loss` which is not available. Available metrics are: loss,accuracy\n"
          ]
        },
        {
          "output_type": "stream",
          "name": "stdout",
          "text": [
            "\b\b\b\b\b\b\b\b\b\b\b\b\b\b\b\b\b\b\b\b\b\b\b\b\b\b\b\b\b\b\b\b\b\b\b\b\b\b\b\b\b\b\b\b\b\b\b\b\b\b\b\b\b\b\b\b\b\b\b\b\b\b\b\b\b\b\b\b\b\b\b\b\b\b\b\b\b\b\b\b\b\b\r75/75 [==============================] - 1s 9ms/step - loss: 0.3653 - accuracy: 0.9280\n",
            "Epoch 57/150\n",
            "71/75 [===========================>..] - ETA: 0s - loss: 0.3567 - accuracy: 0.9366"
          ]
        },
        {
          "output_type": "stream",
          "name": "stderr",
          "text": [
            "WARNING:tensorflow:Early stopping conditioned on metric `val_loss` which is not available. Available metrics are: loss,accuracy\n"
          ]
        },
        {
          "output_type": "stream",
          "name": "stdout",
          "text": [
            "\b\b\b\b\b\b\b\b\b\b\b\b\b\b\b\b\b\b\b\b\b\b\b\b\b\b\b\b\b\b\b\b\b\b\b\b\b\b\b\b\b\b\b\b\b\b\b\b\b\b\b\b\b\b\b\b\b\b\b\b\b\b\b\b\b\b\b\b\b\b\b\b\b\b\b\b\b\b\b\b\b\b\r75/75 [==============================] - 1s 9ms/step - loss: 0.3617 - accuracy: 0.9339\n",
            "Epoch 58/150\n",
            "73/75 [============================>.] - ETA: 0s - loss: 0.3438 - accuracy: 0.9336"
          ]
        },
        {
          "output_type": "stream",
          "name": "stderr",
          "text": [
            "WARNING:tensorflow:Early stopping conditioned on metric `val_loss` which is not available. Available metrics are: loss,accuracy\n"
          ]
        },
        {
          "output_type": "stream",
          "name": "stdout",
          "text": [
            "\b\b\b\b\b\b\b\b\b\b\b\b\b\b\b\b\b\b\b\b\b\b\b\b\b\b\b\b\b\b\b\b\b\b\b\b\b\b\b\b\b\b\b\b\b\b\b\b\b\b\b\b\b\b\b\b\b\b\b\b\b\b\b\b\b\b\b\b\b\b\b\b\b\b\b\b\b\b\b\b\b\b\r75/75 [==============================] - 1s 9ms/step - loss: 0.3455 - accuracy: 0.9335\n",
            "Epoch 59/150\n",
            "75/75 [==============================] - ETA: 0s - loss: 0.3371 - accuracy: 0.9331"
          ]
        },
        {
          "output_type": "stream",
          "name": "stderr",
          "text": [
            "WARNING:tensorflow:Early stopping conditioned on metric `val_loss` which is not available. Available metrics are: loss,accuracy\n"
          ]
        },
        {
          "output_type": "stream",
          "name": "stdout",
          "text": [
            "\b\b\b\b\b\b\b\b\b\b\b\b\b\b\b\b\b\b\b\b\b\b\b\b\b\b\b\b\b\b\b\b\b\b\b\b\b\b\b\b\b\b\b\b\b\b\b\b\b\b\b\b\b\b\b\b\b\b\b\b\b\b\b\b\b\b\b\b\b\b\b\b\b\b\b\b\b\b\b\b\b\b\r75/75 [==============================] - 1s 10ms/step - loss: 0.3371 - accuracy: 0.9331\n",
            "Epoch 60/150\n",
            "74/75 [============================>.] - ETA: 0s - loss: 0.3310 - accuracy: 0.9362"
          ]
        },
        {
          "output_type": "stream",
          "name": "stderr",
          "text": [
            "WARNING:tensorflow:Early stopping conditioned on metric `val_loss` which is not available. Available metrics are: loss,accuracy\n"
          ]
        },
        {
          "output_type": "stream",
          "name": "stdout",
          "text": [
            "\b\b\b\b\b\b\b\b\b\b\b\b\b\b\b\b\b\b\b\b\b\b\b\b\b\b\b\b\b\b\b\b\b\b\b\b\b\b\b\b\b\b\b\b\b\b\b\b\b\b\b\b\b\b\b\b\b\b\b\b\b\b\b\b\b\b\b\b\b\b\b\b\b\b\b\b\b\b\b\b\b\b\r75/75 [==============================] - 1s 10ms/step - loss: 0.3317 - accuracy: 0.9360\n",
            "Epoch 61/150\n",
            "74/75 [============================>.] - ETA: 0s - loss: 0.3258 - accuracy: 0.9350"
          ]
        },
        {
          "output_type": "stream",
          "name": "stderr",
          "text": [
            "WARNING:tensorflow:Early stopping conditioned on metric `val_loss` which is not available. Available metrics are: loss,accuracy\n"
          ]
        },
        {
          "output_type": "stream",
          "name": "stdout",
          "text": [
            "\b\b\b\b\b\b\b\b\b\b\b\b\b\b\b\b\b\b\b\b\b\b\b\b\b\b\b\b\b\b\b\b\b\b\b\b\b\b\b\b\b\b\b\b\b\b\b\b\b\b\b\b\b\b\b\b\b\b\b\b\b\b\b\b\b\b\b\b\b\b\b\b\b\b\b\b\b\b\b\b\b\b\r75/75 [==============================] - 1s 10ms/step - loss: 0.3254 - accuracy: 0.9352\n",
            "Epoch 62/150\n",
            "73/75 [============================>.] - ETA: 0s - loss: 0.3216 - accuracy: 0.9332"
          ]
        },
        {
          "output_type": "stream",
          "name": "stderr",
          "text": [
            "WARNING:tensorflow:Early stopping conditioned on metric `val_loss` which is not available. Available metrics are: loss,accuracy\n"
          ]
        },
        {
          "output_type": "stream",
          "name": "stdout",
          "text": [
            "\b\b\b\b\b\b\b\b\b\b\b\b\b\b\b\b\b\b\b\b\b\b\b\b\b\b\b\b\b\b\b\b\b\b\b\b\b\b\b\b\b\b\b\b\b\b\b\b\b\b\b\b\b\b\b\b\b\b\b\b\b\b\b\b\b\b\b\b\b\b\b\b\b\b\b\b\b\b\b\b\b\b\r75/75 [==============================] - 1s 9ms/step - loss: 0.3215 - accuracy: 0.9335\n",
            "Epoch 63/150\n",
            "73/75 [============================>.] - ETA: 0s - loss: 0.3215 - accuracy: 0.9302"
          ]
        },
        {
          "output_type": "stream",
          "name": "stderr",
          "text": [
            "WARNING:tensorflow:Early stopping conditioned on metric `val_loss` which is not available. Available metrics are: loss,accuracy\n"
          ]
        },
        {
          "output_type": "stream",
          "name": "stdout",
          "text": [
            "\b\b\b\b\b\b\b\b\b\b\b\b\b\b\b\b\b\b\b\b\b\b\b\b\b\b\b\b\b\b\b\b\b\b\b\b\b\b\b\b\b\b\b\b\b\b\b\b\b\b\b\b\b\b\b\b\b\b\b\b\b\b\b\b\b\b\b\b\b\b\b\b\b\b\b\b\b\b\b\b\b\b\r75/75 [==============================] - 1s 10ms/step - loss: 0.3215 - accuracy: 0.9297\n",
            "Epoch 64/150\n",
            "75/75 [==============================] - ETA: 0s - loss: 0.3268 - accuracy: 0.9305"
          ]
        },
        {
          "output_type": "stream",
          "name": "stderr",
          "text": [
            "WARNING:tensorflow:Early stopping conditioned on metric `val_loss` which is not available. Available metrics are: loss,accuracy\n"
          ]
        },
        {
          "output_type": "stream",
          "name": "stdout",
          "text": [
            "\b\b\b\b\b\b\b\b\b\b\b\b\b\b\b\b\b\b\b\b\b\b\b\b\b\b\b\b\b\b\b\b\b\b\b\b\b\b\b\b\b\b\b\b\b\b\b\b\b\b\b\b\b\b\b\b\b\b\b\b\b\b\b\b\b\b\b\b\b\b\b\b\b\b\b\b\b\b\b\b\b\b\r75/75 [==============================] - 1s 15ms/step - loss: 0.3268 - accuracy: 0.9305\n",
            "Epoch 65/150\n",
            "75/75 [==============================] - ETA: 0s - loss: 0.3376 - accuracy: 0.9297"
          ]
        },
        {
          "output_type": "stream",
          "name": "stderr",
          "text": [
            "WARNING:tensorflow:Early stopping conditioned on metric `val_loss` which is not available. Available metrics are: loss,accuracy\n"
          ]
        },
        {
          "output_type": "stream",
          "name": "stdout",
          "text": [
            "\b\b\b\b\b\b\b\b\b\b\b\b\b\b\b\b\b\b\b\b\b\b\b\b\b\b\b\b\b\b\b\b\b\b\b\b\b\b\b\b\b\b\b\b\b\b\b\b\b\b\b\b\b\b\b\b\b\b\b\b\b\b\b\b\b\b\b\b\b\b\b\b\b\b\b\b\b\b\b\b\b\b\r75/75 [==============================] - 1s 11ms/step - loss: 0.3376 - accuracy: 0.9297\n",
            "Epoch 66/150\n",
            "72/75 [===========================>..] - ETA: 0s - loss: 0.3411 - accuracy: 0.9349"
          ]
        },
        {
          "output_type": "stream",
          "name": "stderr",
          "text": [
            "WARNING:tensorflow:Early stopping conditioned on metric `val_loss` which is not available. Available metrics are: loss,accuracy\n"
          ]
        },
        {
          "output_type": "stream",
          "name": "stdout",
          "text": [
            "\b\b\b\b\b\b\b\b\b\b\b\b\b\b\b\b\b\b\b\b\b\b\b\b\b\b\b\b\b\b\b\b\b\b\b\b\b\b\b\b\b\b\b\b\b\b\b\b\b\b\b\b\b\b\b\b\b\b\b\b\b\b\b\b\b\b\b\b\b\b\b\b\b\b\b\b\b\b\b\b\b\b\r75/75 [==============================] - 1s 9ms/step - loss: 0.3405 - accuracy: 0.9356\n",
            "Epoch 67/150\n",
            "73/75 [============================>.] - ETA: 0s - loss: 0.3279 - accuracy: 0.9307"
          ]
        },
        {
          "output_type": "stream",
          "name": "stderr",
          "text": [
            "WARNING:tensorflow:Early stopping conditioned on metric `val_loss` which is not available. Available metrics are: loss,accuracy\n"
          ]
        },
        {
          "output_type": "stream",
          "name": "stdout",
          "text": [
            "\b\b\b\b\b\b\b\b\b\b\b\b\b\b\b\b\b\b\b\b\b\b\b\b\b\b\b\b\b\b\b\b\b\b\b\b\b\b\b\b\b\b\b\b\b\b\b\b\b\b\b\b\b\b\b\b\b\b\b\b\b\b\b\b\b\b\b\b\b\b\b\b\b\b\b\b\b\b\b\b\b\b\r75/75 [==============================] - 1s 9ms/step - loss: 0.3286 - accuracy: 0.9305\n",
            "Epoch 68/150\n",
            "75/75 [==============================] - ETA: 0s - loss: 0.3362 - accuracy: 0.9305"
          ]
        },
        {
          "output_type": "stream",
          "name": "stderr",
          "text": [
            "WARNING:tensorflow:Early stopping conditioned on metric `val_loss` which is not available. Available metrics are: loss,accuracy\n"
          ]
        },
        {
          "output_type": "stream",
          "name": "stdout",
          "text": [
            "\b\b\b\b\b\b\b\b\b\b\b\b\b\b\b\b\b\b\b\b\b\b\b\b\b\b\b\b\b\b\b\b\b\b\b\b\b\b\b\b\b\b\b\b\b\b\b\b\b\b\b\b\b\b\b\b\b\b\b\b\b\b\b\b\b\b\b\b\b\b\b\b\b\b\b\b\b\b\b\b\b\b\r75/75 [==============================] - 1s 10ms/step - loss: 0.3362 - accuracy: 0.9305\n",
            "Epoch 69/150\n",
            "75/75 [==============================] - ETA: 0s - loss: 0.3289 - accuracy: 0.9297"
          ]
        },
        {
          "output_type": "stream",
          "name": "stderr",
          "text": [
            "WARNING:tensorflow:Early stopping conditioned on metric `val_loss` which is not available. Available metrics are: loss,accuracy\n"
          ]
        },
        {
          "output_type": "stream",
          "name": "stdout",
          "text": [
            "\b\b\b\b\b\b\b\b\b\b\b\b\b\b\b\b\b\b\b\b\b\b\b\b\b\b\b\b\b\b\b\b\b\b\b\b\b\b\b\b\b\b\b\b\b\b\b\b\b\b\b\b\b\b\b\b\b\b\b\b\b\b\b\b\b\b\b\b\b\b\b\b\b\b\b\b\b\b\b\b\b\b\r75/75 [==============================] - 1s 10ms/step - loss: 0.3289 - accuracy: 0.9297\n",
            "Epoch 70/150\n",
            "72/75 [===========================>..] - ETA: 0s - loss: 0.3290 - accuracy: 0.9332"
          ]
        },
        {
          "output_type": "stream",
          "name": "stderr",
          "text": [
            "WARNING:tensorflow:Early stopping conditioned on metric `val_loss` which is not available. Available metrics are: loss,accuracy\n"
          ]
        },
        {
          "output_type": "stream",
          "name": "stdout",
          "text": [
            "\b\b\b\b\b\b\b\b\b\b\b\b\b\b\b\b\b\b\b\b\b\b\b\b\b\b\b\b\b\b\b\b\b\b\b\b\b\b\b\b\b\b\b\b\b\b\b\b\b\b\b\b\b\b\b\b\b\b\b\b\b\b\b\b\b\b\b\b\b\b\b\b\b\b\b\b\b\b\b\b\b\b\r75/75 [==============================] - 1s 9ms/step - loss: 0.3291 - accuracy: 0.9326\n",
            "Epoch 71/150\n",
            "71/75 [===========================>..] - ETA: 0s - loss: 0.3340 - accuracy: 0.9353"
          ]
        },
        {
          "output_type": "stream",
          "name": "stderr",
          "text": [
            "WARNING:tensorflow:Early stopping conditioned on metric `val_loss` which is not available. Available metrics are: loss,accuracy\n"
          ]
        },
        {
          "output_type": "stream",
          "name": "stdout",
          "text": [
            "\b\b\b\b\b\b\b\b\b\b\b\b\b\b\b\b\b\b\b\b\b\b\b\b\b\b\b\b\b\b\b\b\b\b\b\b\b\b\b\b\b\b\b\b\b\b\b\b\b\b\b\b\b\b\b\b\b\b\b\b\b\b\b\b\b\b\b\b\b\b\b\b\b\b\b\b\b\b\b\b\b\b\r75/75 [==============================] - 1s 10ms/step - loss: 0.3394 - accuracy: 0.9331\n",
            "Epoch 72/150\n",
            "71/75 [===========================>..] - ETA: 0s - loss: 0.3464 - accuracy: 0.9278"
          ]
        },
        {
          "output_type": "stream",
          "name": "stderr",
          "text": [
            "WARNING:tensorflow:Early stopping conditioned on metric `val_loss` which is not available. Available metrics are: loss,accuracy\n"
          ]
        },
        {
          "output_type": "stream",
          "name": "stdout",
          "text": [
            "\b\b\b\b\b\b\b\b\b\b\b\b\b\b\b\b\b\b\b\b\b\b\b\b\b\b\b\b\b\b\b\b\b\b\b\b\b\b\b\b\b\b\b\b\b\b\b\b\b\b\b\b\b\b\b\b\b\b\b\b\b\b\b\b\b\b\b\b\b\b\b\b\b\b\b\b\b\b\b\b\b\b\r75/75 [==============================] - 1s 9ms/step - loss: 0.3474 - accuracy: 0.9280\n",
            "Epoch 73/150\n",
            "73/75 [============================>.] - ETA: 0s - loss: 0.3331 - accuracy: 0.9315"
          ]
        },
        {
          "output_type": "stream",
          "name": "stderr",
          "text": [
            "WARNING:tensorflow:Early stopping conditioned on metric `val_loss` which is not available. Available metrics are: loss,accuracy\n"
          ]
        },
        {
          "output_type": "stream",
          "name": "stdout",
          "text": [
            "\b\b\b\b\b\b\b\b\b\b\b\b\b\b\b\b\b\b\b\b\b\b\b\b\b\b\b\b\b\b\b\b\b\b\b\b\b\b\b\b\b\b\b\b\b\b\b\b\b\b\b\b\b\b\b\b\b\b\b\b\b\b\b\b\b\b\b\b\b\b\b\b\b\b\b\b\b\b\b\b\b\b\r75/75 [==============================] - 1s 10ms/step - loss: 0.3346 - accuracy: 0.9305\n",
            "Epoch 74/150\n",
            "72/75 [===========================>..] - ETA: 0s - loss: 0.3258 - accuracy: 0.9314"
          ]
        },
        {
          "output_type": "stream",
          "name": "stderr",
          "text": [
            "WARNING:tensorflow:Early stopping conditioned on metric `val_loss` which is not available. Available metrics are: loss,accuracy\n"
          ]
        },
        {
          "output_type": "stream",
          "name": "stdout",
          "text": [
            "\b\b\b\b\b\b\b\b\b\b\b\b\b\b\b\b\b\b\b\b\b\b\b\b\b\b\b\b\b\b\b\b\b\b\b\b\b\b\b\b\b\b\b\b\b\b\b\b\b\b\b\b\b\b\b\b\b\b\b\b\b\b\b\b\b\b\b\b\b\b\b\b\b\b\b\b\b\b\b\b\b\b\r75/75 [==============================] - 1s 9ms/step - loss: 0.3242 - accuracy: 0.9318\n",
            "Epoch 75/150\n",
            "71/75 [===========================>..] - ETA: 0s - loss: 0.3205 - accuracy: 0.9335"
          ]
        },
        {
          "output_type": "stream",
          "name": "stderr",
          "text": [
            "WARNING:tensorflow:Early stopping conditioned on metric `val_loss` which is not available. Available metrics are: loss,accuracy\n"
          ]
        },
        {
          "output_type": "stream",
          "name": "stdout",
          "text": [
            "\b\b\b\b\b\b\b\b\b\b\b\b\b\b\b\b\b\b\b\b\b\b\b\b\b\b\b\b\b\b\b\b\b\b\b\b\b\b\b\b\b\b\b\b\b\b\b\b\b\b\b\b\b\b\b\b\b\b\b\b\b\b\b\b\b\b\b\b\b\b\b\b\b\b\b\b\b\b\b\b\b\b\r75/75 [==============================] - 1s 10ms/step - loss: 0.3208 - accuracy: 0.9318\n",
            "Epoch 76/150\n",
            "75/75 [==============================] - ETA: 0s - loss: 0.3168 - accuracy: 0.9318"
          ]
        },
        {
          "output_type": "stream",
          "name": "stderr",
          "text": [
            "WARNING:tensorflow:Early stopping conditioned on metric `val_loss` which is not available. Available metrics are: loss,accuracy\n"
          ]
        },
        {
          "output_type": "stream",
          "name": "stdout",
          "text": [
            "\b\b\b\b\b\b\b\b\b\b\b\b\b\b\b\b\b\b\b\b\b\b\b\b\b\b\b\b\b\b\b\b\b\b\b\b\b\b\b\b\b\b\b\b\b\b\b\b\b\b\b\b\b\b\b\b\b\b\b\b\b\b\b\b\b\b\b\b\b\b\b\b\b\b\b\b\b\b\b\b\b\b\r75/75 [==============================] - 1s 10ms/step - loss: 0.3168 - accuracy: 0.9318\n",
            "Epoch 77/150\n",
            "71/75 [===========================>..] - ETA: 0s - loss: 0.3144 - accuracy: 0.9335"
          ]
        },
        {
          "output_type": "stream",
          "name": "stderr",
          "text": [
            "WARNING:tensorflow:Early stopping conditioned on metric `val_loss` which is not available. Available metrics are: loss,accuracy\n"
          ]
        },
        {
          "output_type": "stream",
          "name": "stdout",
          "text": [
            "\b\b\b\b\b\b\b\b\b\b\b\b\b\b\b\b\b\b\b\b\b\b\b\b\b\b\b\b\b\b\b\b\b\b\b\b\b\b\b\b\b\b\b\b\b\b\b\b\b\b\b\b\b\b\b\b\b\b\b\b\b\b\b\b\b\b\b\b\b\b\b\b\b\b\b\b\b\b\b\b\b\b\r75/75 [==============================] - 1s 10ms/step - loss: 0.3125 - accuracy: 0.9347\n",
            "Epoch 78/150\n",
            "73/75 [============================>.] - ETA: 0s - loss: 0.3095 - accuracy: 0.9349"
          ]
        },
        {
          "output_type": "stream",
          "name": "stderr",
          "text": [
            "WARNING:tensorflow:Early stopping conditioned on metric `val_loss` which is not available. Available metrics are: loss,accuracy\n"
          ]
        },
        {
          "output_type": "stream",
          "name": "stdout",
          "text": [
            "\b\b\b\b\b\b\b\b\b\b\b\b\b\b\b\b\b\b\b\b\b\b\b\b\b\b\b\b\b\b\b\b\b\b\b\b\b\b\b\b\b\b\b\b\b\b\b\b\b\b\b\b\b\b\b\b\b\b\b\b\b\b\b\b\b\b\b\b\b\b\b\b\b\b\b\b\b\b\b\b\b\b\r75/75 [==============================] - 1s 9ms/step - loss: 0.3082 - accuracy: 0.9352\n",
            "Epoch 79/150\n",
            "73/75 [============================>.] - ETA: 0s - loss: 0.2973 - accuracy: 0.9332"
          ]
        },
        {
          "output_type": "stream",
          "name": "stderr",
          "text": [
            "WARNING:tensorflow:Early stopping conditioned on metric `val_loss` which is not available. Available metrics are: loss,accuracy\n"
          ]
        },
        {
          "output_type": "stream",
          "name": "stdout",
          "text": [
            "\b\b\b\b\b\b\b\b\b\b\b\b\b\b\b\b\b\b\b\b\b\b\b\b\b\b\b\b\b\b\b\b\b\b\b\b\b\b\b\b\b\b\b\b\b\b\b\b\b\b\b\b\b\b\b\b\b\b\b\b\b\b\b\b\b\b\b\b\b\b\b\b\b\b\b\b\b\b\b\b\b\b\r75/75 [==============================] - 1s 12ms/step - loss: 0.2997 - accuracy: 0.9322\n",
            "Epoch 80/150\n",
            "75/75 [==============================] - ETA: 0s - loss: 0.3086 - accuracy: 0.9318"
          ]
        },
        {
          "output_type": "stream",
          "name": "stderr",
          "text": [
            "WARNING:tensorflow:Early stopping conditioned on metric `val_loss` which is not available. Available metrics are: loss,accuracy\n"
          ]
        },
        {
          "output_type": "stream",
          "name": "stdout",
          "text": [
            "\b\b\b\b\b\b\b\b\b\b\b\b\b\b\b\b\b\b\b\b\b\b\b\b\b\b\b\b\b\b\b\b\b\b\b\b\b\b\b\b\b\b\b\b\b\b\b\b\b\b\b\b\b\b\b\b\b\b\b\b\b\b\b\b\b\b\b\b\b\b\b\b\b\b\b\b\b\b\b\b\b\b\r75/75 [==============================] - 1s 11ms/step - loss: 0.3086 - accuracy: 0.9318\n",
            "Epoch 81/150\n",
            "72/75 [===========================>..] - ETA: 0s - loss: 0.2949 - accuracy: 0.9336"
          ]
        },
        {
          "output_type": "stream",
          "name": "stderr",
          "text": [
            "WARNING:tensorflow:Early stopping conditioned on metric `val_loss` which is not available. Available metrics are: loss,accuracy\n"
          ]
        },
        {
          "output_type": "stream",
          "name": "stdout",
          "text": [
            "\b\b\b\b\b\b\b\b\b\b\b\b\b\b\b\b\b\b\b\b\b\b\b\b\b\b\b\b\b\b\b\b\b\b\b\b\b\b\b\b\b\b\b\b\b\b\b\b\b\b\b\b\b\b\b\b\b\b\b\b\b\b\b\b\b\b\b\b\b\b\b\b\b\b\b\b\b\b\b\b\b\b\r75/75 [==============================] - 1s 9ms/step - loss: 0.2972 - accuracy: 0.9322\n",
            "Epoch 82/150\n",
            "71/75 [===========================>..] - ETA: 0s - loss: 0.2951 - accuracy: 0.9318"
          ]
        },
        {
          "output_type": "stream",
          "name": "stderr",
          "text": [
            "WARNING:tensorflow:Early stopping conditioned on metric `val_loss` which is not available. Available metrics are: loss,accuracy\n"
          ]
        },
        {
          "output_type": "stream",
          "name": "stdout",
          "text": [
            "\b\b\b\b\b\b\b\b\b\b\b\b\b\b\b\b\b\b\b\b\b\b\b\b\b\b\b\b\b\b\b\b\b\b\b\b\b\b\b\b\b\b\b\b\b\b\b\b\b\b\b\b\b\b\b\b\b\b\b\b\b\b\b\b\b\b\b\b\b\b\b\b\b\b\b\b\b\b\b\b\b\b\r75/75 [==============================] - 1s 9ms/step - loss: 0.2981 - accuracy: 0.9305\n",
            "Epoch 83/150\n",
            "72/75 [===========================>..] - ETA: 0s - loss: 0.3053 - accuracy: 0.9371"
          ]
        },
        {
          "output_type": "stream",
          "name": "stderr",
          "text": [
            "WARNING:tensorflow:Early stopping conditioned on metric `val_loss` which is not available. Available metrics are: loss,accuracy\n"
          ]
        },
        {
          "output_type": "stream",
          "name": "stdout",
          "text": [
            "\b\b\b\b\b\b\b\b\b\b\b\b\b\b\b\b\b\b\b\b\b\b\b\b\b\b\b\b\b\b\b\b\b\b\b\b\b\b\b\b\b\b\b\b\b\b\b\b\b\b\b\b\b\b\b\b\b\b\b\b\b\b\b\b\b\b\b\b\b\b\b\b\b\b\b\b\b\b\b\b\b\b\r75/75 [==============================] - 1s 10ms/step - loss: 0.3049 - accuracy: 0.9373\n",
            "Epoch 84/150\n",
            "71/75 [===========================>..] - ETA: 0s - loss: 0.2945 - accuracy: 0.9340"
          ]
        },
        {
          "output_type": "stream",
          "name": "stderr",
          "text": [
            "WARNING:tensorflow:Early stopping conditioned on metric `val_loss` which is not available. Available metrics are: loss,accuracy\n"
          ]
        },
        {
          "output_type": "stream",
          "name": "stdout",
          "text": [
            "\b\b\b\b\b\b\b\b\b\b\b\b\b\b\b\b\b\b\b\b\b\b\b\b\b\b\b\b\b\b\b\b\b\b\b\b\b\b\b\b\b\b\b\b\b\b\b\b\b\b\b\b\b\b\b\b\b\b\b\b\b\b\b\b\b\b\b\b\b\b\b\b\b\b\b\b\b\b\b\b\b\b\r75/75 [==============================] - 1s 10ms/step - loss: 0.2953 - accuracy: 0.9339\n",
            "Epoch 85/150\n",
            "72/75 [===========================>..] - ETA: 0s - loss: 0.2976 - accuracy: 0.9327"
          ]
        },
        {
          "output_type": "stream",
          "name": "stderr",
          "text": [
            "WARNING:tensorflow:Early stopping conditioned on metric `val_loss` which is not available. Available metrics are: loss,accuracy\n"
          ]
        },
        {
          "output_type": "stream",
          "name": "stdout",
          "text": [
            "\b\b\b\b\b\b\b\b\b\b\b\b\b\b\b\b\b\b\b\b\b\b\b\b\b\b\b\b\b\b\b\b\b\b\b\b\b\b\b\b\b\b\b\b\b\b\b\b\b\b\b\b\b\b\b\b\b\b\b\b\b\b\b\b\b\b\b\b\b\b\b\b\b\b\b\b\b\b\b\b\b\b\r75/75 [==============================] - 1s 9ms/step - loss: 0.2978 - accuracy: 0.9322\n",
            "Epoch 86/150\n",
            "72/75 [===========================>..] - ETA: 0s - loss: 0.2770 - accuracy: 0.9349"
          ]
        },
        {
          "output_type": "stream",
          "name": "stderr",
          "text": [
            "WARNING:tensorflow:Early stopping conditioned on metric `val_loss` which is not available. Available metrics are: loss,accuracy\n"
          ]
        },
        {
          "output_type": "stream",
          "name": "stdout",
          "text": [
            "\b\b\b\b\b\b\b\b\b\b\b\b\b\b\b\b\b\b\b\b\b\b\b\b\b\b\b\b\b\b\b\b\b\b\b\b\b\b\b\b\b\b\b\b\b\b\b\b\b\b\b\b\b\b\b\b\b\b\b\b\b\b\b\b\b\b\b\b\b\b\b\b\b\b\b\b\b\b\b\b\b\b\r75/75 [==============================] - 1s 10ms/step - loss: 0.2817 - accuracy: 0.9339\n",
            "Epoch 87/150\n",
            "72/75 [===========================>..] - ETA: 0s - loss: 0.2929 - accuracy: 0.9323"
          ]
        },
        {
          "output_type": "stream",
          "name": "stderr",
          "text": [
            "WARNING:tensorflow:Early stopping conditioned on metric `val_loss` which is not available. Available metrics are: loss,accuracy\n"
          ]
        },
        {
          "output_type": "stream",
          "name": "stdout",
          "text": [
            "\b\b\b\b\b\b\b\b\b\b\b\b\b\b\b\b\b\b\b\b\b\b\b\b\b\b\b\b\b\b\b\b\b\b\b\b\b\b\b\b\b\b\b\b\b\b\b\b\b\b\b\b\b\b\b\b\b\b\b\b\b\b\b\b\b\b\b\b\b\b\b\b\b\b\b\b\b\b\b\b\b\b\r75/75 [==============================] - 1s 9ms/step - loss: 0.2900 - accuracy: 0.9339\n",
            "Epoch 88/150\n",
            "71/75 [===========================>..] - ETA: 0s - loss: 0.2933 - accuracy: 0.9313"
          ]
        },
        {
          "output_type": "stream",
          "name": "stderr",
          "text": [
            "WARNING:tensorflow:Early stopping conditioned on metric `val_loss` which is not available. Available metrics are: loss,accuracy\n"
          ]
        },
        {
          "output_type": "stream",
          "name": "stdout",
          "text": [
            "\b\b\b\b\b\b\b\b\b\b\b\b\b\b\b\b\b\b\b\b\b\b\b\b\b\b\b\b\b\b\b\b\b\b\b\b\b\b\b\b\b\b\b\b\b\b\b\b\b\b\b\b\b\b\b\b\b\b\b\b\b\b\b\b\b\b\b\b\b\b\b\b\b\b\b\b\b\b\b\b\b\b\r75/75 [==============================] - 1s 10ms/step - loss: 0.2963 - accuracy: 0.9301\n",
            "Epoch 89/150\n",
            "74/75 [============================>.] - ETA: 0s - loss: 0.2983 - accuracy: 0.9324"
          ]
        },
        {
          "output_type": "stream",
          "name": "stderr",
          "text": [
            "WARNING:tensorflow:Early stopping conditioned on metric `val_loss` which is not available. Available metrics are: loss,accuracy\n"
          ]
        },
        {
          "output_type": "stream",
          "name": "stdout",
          "text": [
            "\b\b\b\b\b\b\b\b\b\b\b\b\b\b\b\b\b\b\b\b\b\b\b\b\b\b\b\b\b\b\b\b\b\b\b\b\b\b\b\b\b\b\b\b\b\b\b\b\b\b\b\b\b\b\b\b\b\b\b\b\b\b\b\b\b\b\b\b\b\b\b\b\b\b\b\b\b\b\b\b\b\b\r75/75 [==============================] - 1s 10ms/step - loss: 0.2984 - accuracy: 0.9322\n",
            "Epoch 90/150\n",
            "72/75 [===========================>..] - ETA: 0s - loss: 0.2837 - accuracy: 0.9371"
          ]
        },
        {
          "output_type": "stream",
          "name": "stderr",
          "text": [
            "WARNING:tensorflow:Early stopping conditioned on metric `val_loss` which is not available. Available metrics are: loss,accuracy\n"
          ]
        },
        {
          "output_type": "stream",
          "name": "stdout",
          "text": [
            "\b\b\b\b\b\b\b\b\b\b\b\b\b\b\b\b\b\b\b\b\b\b\b\b\b\b\b\b\b\b\b\b\b\b\b\b\b\b\b\b\b\b\b\b\b\b\b\b\b\b\b\b\b\b\b\b\b\b\b\b\b\b\b\b\b\b\b\b\b\b\b\b\b\b\b\b\b\b\b\b\b\b\r75/75 [==============================] - 1s 9ms/step - loss: 0.2848 - accuracy: 0.9373\n",
            "Epoch 91/150\n",
            "72/75 [===========================>..] - ETA: 0s - loss: 0.2876 - accuracy: 0.9332"
          ]
        },
        {
          "output_type": "stream",
          "name": "stderr",
          "text": [
            "WARNING:tensorflow:Early stopping conditioned on metric `val_loss` which is not available. Available metrics are: loss,accuracy\n"
          ]
        },
        {
          "output_type": "stream",
          "name": "stdout",
          "text": [
            "\b\b\b\b\b\b\b\b\b\b\b\b\b\b\b\b\b\b\b\b\b\b\b\b\b\b\b\b\b\b\b\b\b\b\b\b\b\b\b\b\b\b\b\b\b\b\b\b\b\b\b\b\b\b\b\b\b\b\b\b\b\b\b\b\b\b\b\b\b\b\b\b\b\b\b\b\b\b\b\b\b\b\r75/75 [==============================] - 1s 9ms/step - loss: 0.2866 - accuracy: 0.9339\n",
            "Epoch 92/150\n",
            "72/75 [===========================>..] - ETA: 0s - loss: 0.3033 - accuracy: 0.9349"
          ]
        },
        {
          "output_type": "stream",
          "name": "stderr",
          "text": [
            "WARNING:tensorflow:Early stopping conditioned on metric `val_loss` which is not available. Available metrics are: loss,accuracy\n"
          ]
        },
        {
          "output_type": "stream",
          "name": "stdout",
          "text": [
            "\b\b\b\b\b\b\b\b\b\b\b\b\b\b\b\b\b\b\b\b\b\b\b\b\b\b\b\b\b\b\b\b\b\b\b\b\b\b\b\b\b\b\b\b\b\b\b\b\b\b\b\b\b\b\b\b\b\b\b\b\b\b\b\b\b\b\b\b\b\b\b\b\b\b\b\b\b\b\b\b\b\b\r75/75 [==============================] - 1s 9ms/step - loss: 0.3044 - accuracy: 0.9347\n",
            "Epoch 93/150\n",
            "71/75 [===========================>..] - ETA: 0s - loss: 0.3019 - accuracy: 0.9287"
          ]
        },
        {
          "output_type": "stream",
          "name": "stderr",
          "text": [
            "WARNING:tensorflow:Early stopping conditioned on metric `val_loss` which is not available. Available metrics are: loss,accuracy\n"
          ]
        },
        {
          "output_type": "stream",
          "name": "stdout",
          "text": [
            "\b\b\b\b\b\b\b\b\b\b\b\b\b\b\b\b\b\b\b\b\b\b\b\b\b\b\b\b\b\b\b\b\b\b\b\b\b\b\b\b\b\b\b\b\b\b\b\b\b\b\b\b\b\b\b\b\b\b\b\b\b\b\b\b\b\b\b\b\b\b\b\b\b\b\b\b\b\b\b\b\b\b\r75/75 [==============================] - 1s 9ms/step - loss: 0.3050 - accuracy: 0.9272\n",
            "Epoch 94/150\n",
            "72/75 [===========================>..] - ETA: 0s - loss: 0.2938 - accuracy: 0.9405"
          ]
        },
        {
          "output_type": "stream",
          "name": "stderr",
          "text": [
            "WARNING:tensorflow:Early stopping conditioned on metric `val_loss` which is not available. Available metrics are: loss,accuracy\n"
          ]
        },
        {
          "output_type": "stream",
          "name": "stdout",
          "text": [
            "\b\b\b\b\b\b\b\b\b\b\b\b\b\b\b\b\b\b\b\b\b\b\b\b\b\b\b\b\b\b\b\b\b\b\b\b\b\b\b\b\b\b\b\b\b\b\b\b\b\b\b\b\b\b\b\b\b\b\b\b\b\b\b\b\b\b\b\b\b\b\b\b\b\b\b\b\b\b\b\b\b\b\r75/75 [==============================] - 1s 12ms/step - loss: 0.2968 - accuracy: 0.9389\n",
            "Epoch 95/150\n",
            "73/75 [============================>.] - ETA: 0s - loss: 0.2922 - accuracy: 0.9319"
          ]
        },
        {
          "output_type": "stream",
          "name": "stderr",
          "text": [
            "WARNING:tensorflow:Early stopping conditioned on metric `val_loss` which is not available. Available metrics are: loss,accuracy\n"
          ]
        },
        {
          "output_type": "stream",
          "name": "stdout",
          "text": [
            "\b\b\b\b\b\b\b\b\b\b\b\b\b\b\b\b\b\b\b\b\b\b\b\b\b\b\b\b\b\b\b\b\b\b\b\b\b\b\b\b\b\b\b\b\b\b\b\b\b\b\b\b\b\b\b\b\b\b\b\b\b\b\b\b\b\b\b\b\b\b\b\b\b\b\b\b\b\b\b\b\b\b\r75/75 [==============================] - 1s 13ms/step - loss: 0.2934 - accuracy: 0.9309\n",
            "Epoch 96/150\n",
            "73/75 [============================>.] - ETA: 0s - loss: 0.2879 - accuracy: 0.9319"
          ]
        },
        {
          "output_type": "stream",
          "name": "stderr",
          "text": [
            "WARNING:tensorflow:Early stopping conditioned on metric `val_loss` which is not available. Available metrics are: loss,accuracy\n"
          ]
        },
        {
          "output_type": "stream",
          "name": "stdout",
          "text": [
            "\b\b\b\b\b\b\b\b\b\b\b\b\b\b\b\b\b\b\b\b\b\b\b\b\b\b\b\b\b\b\b\b\b\b\b\b\b\b\b\b\b\b\b\b\b\b\b\b\b\b\b\b\b\b\b\b\b\b\b\b\b\b\b\b\b\b\b\b\b\b\b\b\b\b\b\b\b\b\b\b\b\b\r75/75 [==============================] - 1s 10ms/step - loss: 0.2863 - accuracy: 0.9326\n",
            "Epoch 97/150\n",
            "71/75 [===========================>..] - ETA: 0s - loss: 0.2785 - accuracy: 0.9300"
          ]
        },
        {
          "output_type": "stream",
          "name": "stderr",
          "text": [
            "WARNING:tensorflow:Early stopping conditioned on metric `val_loss` which is not available. Available metrics are: loss,accuracy\n"
          ]
        },
        {
          "output_type": "stream",
          "name": "stdout",
          "text": [
            "\b\b\b\b\b\b\b\b\b\b\b\b\b\b\b\b\b\b\b\b\b\b\b\b\b\b\b\b\b\b\b\b\b\b\b\b\b\b\b\b\b\b\b\b\b\b\b\b\b\b\b\b\b\b\b\b\b\b\b\b\b\b\b\b\b\b\b\b\b\b\b\b\b\b\b\b\b\b\b\b\b\b\r75/75 [==============================] - 1s 9ms/step - loss: 0.2767 - accuracy: 0.9305\n",
            "Epoch 98/150\n",
            "71/75 [===========================>..] - ETA: 0s - loss: 0.2729 - accuracy: 0.9340"
          ]
        },
        {
          "output_type": "stream",
          "name": "stderr",
          "text": [
            "WARNING:tensorflow:Early stopping conditioned on metric `val_loss` which is not available. Available metrics are: loss,accuracy\n"
          ]
        },
        {
          "output_type": "stream",
          "name": "stdout",
          "text": [
            "\b\b\b\b\b\b\b\b\b\b\b\b\b\b\b\b\b\b\b\b\b\b\b\b\b\b\b\b\b\b\b\b\b\b\b\b\b\b\b\b\b\b\b\b\b\b\b\b\b\b\b\b\b\b\b\b\b\b\b\b\b\b\b\b\b\b\b\b\b\b\b\b\b\b\b\b\b\b\b\b\b\b\r75/75 [==============================] - 1s 10ms/step - loss: 0.2737 - accuracy: 0.9335\n",
            "Epoch 99/150\n",
            "71/75 [===========================>..] - ETA: 0s - loss: 0.2810 - accuracy: 0.9353"
          ]
        },
        {
          "output_type": "stream",
          "name": "stderr",
          "text": [
            "WARNING:tensorflow:Early stopping conditioned on metric `val_loss` which is not available. Available metrics are: loss,accuracy\n"
          ]
        },
        {
          "output_type": "stream",
          "name": "stdout",
          "text": [
            "\b\b\b\b\b\b\b\b\b\b\b\b\b\b\b\b\b\b\b\b\b\b\b\b\b\b\b\b\b\b\b\b\b\b\b\b\b\b\b\b\b\b\b\b\b\b\b\b\b\b\b\b\b\b\b\b\b\b\b\b\b\b\b\b\b\b\b\b\b\b\b\b\b\b\b\b\b\b\b\b\b\b\r75/75 [==============================] - 1s 9ms/step - loss: 0.2824 - accuracy: 0.9339\n",
            "Epoch 100/150\n",
            "73/75 [============================>.] - ETA: 0s - loss: 0.2745 - accuracy: 0.9349"
          ]
        },
        {
          "output_type": "stream",
          "name": "stderr",
          "text": [
            "WARNING:tensorflow:Early stopping conditioned on metric `val_loss` which is not available. Available metrics are: loss,accuracy\n"
          ]
        },
        {
          "output_type": "stream",
          "name": "stdout",
          "text": [
            "\b\b\b\b\b\b\b\b\b\b\b\b\b\b\b\b\b\b\b\b\b\b\b\b\b\b\b\b\b\b\b\b\b\b\b\b\b\b\b\b\b\b\b\b\b\b\b\b\b\b\b\b\b\b\b\b\b\b\b\b\b\b\b\b\b\b\b\b\b\b\b\b\b\b\b\b\b\b\b\b\b\b\r75/75 [==============================] - 1s 9ms/step - loss: 0.2760 - accuracy: 0.9343\n",
            "Epoch 101/150\n",
            "75/75 [==============================] - ETA: 0s - loss: 0.2828 - accuracy: 0.9305"
          ]
        },
        {
          "output_type": "stream",
          "name": "stderr",
          "text": [
            "WARNING:tensorflow:Early stopping conditioned on metric `val_loss` which is not available. Available metrics are: loss,accuracy\n"
          ]
        },
        {
          "output_type": "stream",
          "name": "stdout",
          "text": [
            "\b\b\b\b\b\b\b\b\b\b\b\b\b\b\b\b\b\b\b\b\b\b\b\b\b\b\b\b\b\b\b\b\b\b\b\b\b\b\b\b\b\b\b\b\b\b\b\b\b\b\b\b\b\b\b\b\b\b\b\b\b\b\b\b\b\b\b\b\b\b\b\b\b\b\b\b\b\b\b\b\b\b\r75/75 [==============================] - 1s 10ms/step - loss: 0.2828 - accuracy: 0.9305\n",
            "Epoch 102/150\n",
            "75/75 [==============================] - ETA: 0s - loss: 0.2836 - accuracy: 0.9297"
          ]
        },
        {
          "output_type": "stream",
          "name": "stderr",
          "text": [
            "WARNING:tensorflow:Early stopping conditioned on metric `val_loss` which is not available. Available metrics are: loss,accuracy\n"
          ]
        },
        {
          "output_type": "stream",
          "name": "stdout",
          "text": [
            "\b\b\b\b\b\b\b\b\b\b\b\b\b\b\b\b\b\b\b\b\b\b\b\b\b\b\b\b\b\b\b\b\b\b\b\b\b\b\b\b\b\b\b\b\b\b\b\b\b\b\b\b\b\b\b\b\b\b\b\b\b\b\b\b\b\b\b\b\b\b\b\b\b\b\b\b\b\b\b\b\b\b\r75/75 [==============================] - 1s 10ms/step - loss: 0.2836 - accuracy: 0.9297\n",
            "Epoch 103/150\n",
            "72/75 [===========================>..] - ETA: 0s - loss: 0.2808 - accuracy: 0.9358"
          ]
        },
        {
          "output_type": "stream",
          "name": "stderr",
          "text": [
            "WARNING:tensorflow:Early stopping conditioned on metric `val_loss` which is not available. Available metrics are: loss,accuracy\n"
          ]
        },
        {
          "output_type": "stream",
          "name": "stdout",
          "text": [
            "\b\b\b\b\b\b\b\b\b\b\b\b\b\b\b\b\b\b\b\b\b\b\b\b\b\b\b\b\b\b\b\b\b\b\b\b\b\b\b\b\b\b\b\b\b\b\b\b\b\b\b\b\b\b\b\b\b\b\b\b\b\b\b\b\b\b\b\b\b\b\b\b\b\b\b\b\b\b\b\b\b\b\r75/75 [==============================] - 1s 10ms/step - loss: 0.2813 - accuracy: 0.9356\n",
            "Epoch 104/150\n",
            "74/75 [============================>.] - ETA: 0s - loss: 0.2758 - accuracy: 0.9350"
          ]
        },
        {
          "output_type": "stream",
          "name": "stderr",
          "text": [
            "WARNING:tensorflow:Early stopping conditioned on metric `val_loss` which is not available. Available metrics are: loss,accuracy\n"
          ]
        },
        {
          "output_type": "stream",
          "name": "stdout",
          "text": [
            "\b\b\b\b\b\b\b\b\b\b\b\b\b\b\b\b\b\b\b\b\b\b\b\b\b\b\b\b\b\b\b\b\b\b\b\b\b\b\b\b\b\b\b\b\b\b\b\b\b\b\b\b\b\b\b\b\b\b\b\b\b\b\b\b\b\b\b\b\b\b\b\b\b\b\b\b\b\b\b\b\b\b\r75/75 [==============================] - 1s 11ms/step - loss: 0.2764 - accuracy: 0.9347\n",
            "Epoch 105/150\n",
            "75/75 [==============================] - ETA: 0s - loss: 0.2761 - accuracy: 0.9352"
          ]
        },
        {
          "output_type": "stream",
          "name": "stderr",
          "text": [
            "WARNING:tensorflow:Early stopping conditioned on metric `val_loss` which is not available. Available metrics are: loss,accuracy\n"
          ]
        },
        {
          "output_type": "stream",
          "name": "stdout",
          "text": [
            "\b\b\b\b\b\b\b\b\b\b\b\b\b\b\b\b\b\b\b\b\b\b\b\b\b\b\b\b\b\b\b\b\b\b\b\b\b\b\b\b\b\b\b\b\b\b\b\b\b\b\b\b\b\b\b\b\b\b\b\b\b\b\b\b\b\b\b\b\b\b\b\b\b\b\b\b\b\b\b\b\b\b\r75/75 [==============================] - 1s 10ms/step - loss: 0.2761 - accuracy: 0.9352\n",
            "Epoch 106/150\n",
            "75/75 [==============================] - ETA: 0s - loss: 0.2814 - accuracy: 0.9343"
          ]
        },
        {
          "output_type": "stream",
          "name": "stderr",
          "text": [
            "WARNING:tensorflow:Early stopping conditioned on metric `val_loss` which is not available. Available metrics are: loss,accuracy\n"
          ]
        },
        {
          "output_type": "stream",
          "name": "stdout",
          "text": [
            "\b\b\b\b\b\b\b\b\b\b\b\b\b\b\b\b\b\b\b\b\b\b\b\b\b\b\b\b\b\b\b\b\b\b\b\b\b\b\b\b\b\b\b\b\b\b\b\b\b\b\b\b\b\b\b\b\b\b\b\b\b\b\b\b\b\b\b\b\b\b\b\b\b\b\b\b\b\b\b\b\b\b\r75/75 [==============================] - 1s 10ms/step - loss: 0.2814 - accuracy: 0.9343\n",
            "Epoch 107/150\n",
            "71/75 [===========================>..] - ETA: 0s - loss: 0.2770 - accuracy: 0.9313"
          ]
        },
        {
          "output_type": "stream",
          "name": "stderr",
          "text": [
            "WARNING:tensorflow:Early stopping conditioned on metric `val_loss` which is not available. Available metrics are: loss,accuracy\n"
          ]
        },
        {
          "output_type": "stream",
          "name": "stdout",
          "text": [
            "\b\b\b\b\b\b\b\b\b\b\b\b\b\b\b\b\b\b\b\b\b\b\b\b\b\b\b\b\b\b\b\b\b\b\b\b\b\b\b\b\b\b\b\b\b\b\b\b\b\b\b\b\b\b\b\b\b\b\b\b\b\b\b\b\b\b\b\b\b\b\b\b\b\b\b\b\b\b\b\b\b\b\r75/75 [==============================] - 1s 9ms/step - loss: 0.2765 - accuracy: 0.9322\n",
            "Epoch 108/150\n",
            "72/75 [===========================>..] - ETA: 0s - loss: 0.2871 - accuracy: 0.9336"
          ]
        },
        {
          "output_type": "stream",
          "name": "stderr",
          "text": [
            "WARNING:tensorflow:Early stopping conditioned on metric `val_loss` which is not available. Available metrics are: loss,accuracy\n"
          ]
        },
        {
          "output_type": "stream",
          "name": "stdout",
          "text": [
            "\b\b\b\b\b\b\b\b\b\b\b\b\b\b\b\b\b\b\b\b\b\b\b\b\b\b\b\b\b\b\b\b\b\b\b\b\b\b\b\b\b\b\b\b\b\b\b\b\b\b\b\b\b\b\b\b\b\b\b\b\b\b\b\b\b\b\b\b\b\b\b\b\b\b\b\b\b\b\b\b\b\b\r75/75 [==============================] - 1s 9ms/step - loss: 0.2893 - accuracy: 0.9326\n",
            "Epoch 109/150\n",
            "73/75 [============================>.] - ETA: 0s - loss: 0.6441 - accuracy: 0.8647"
          ]
        },
        {
          "output_type": "stream",
          "name": "stderr",
          "text": [
            "WARNING:tensorflow:Early stopping conditioned on metric `val_loss` which is not available. Available metrics are: loss,accuracy\n"
          ]
        },
        {
          "output_type": "stream",
          "name": "stdout",
          "text": [
            "\b\b\b\b\b\b\b\b\b\b\b\b\b\b\b\b\b\b\b\b\b\b\b\b\b\b\b\b\b\b\b\b\b\b\b\b\b\b\b\b\b\b\b\b\b\b\b\b\b\b\b\b\b\b\b\b\b\b\b\b\b\b\b\b\b\b\b\b\b\b\b\b\b\b\b\b\b\b\b\b\b\b\r75/75 [==============================] - 1s 12ms/step - loss: 0.6394 - accuracy: 0.8648\n",
            "Epoch 110/150\n",
            "75/75 [==============================] - ETA: 0s - loss: 0.4084 - accuracy: 0.9124"
          ]
        },
        {
          "output_type": "stream",
          "name": "stderr",
          "text": [
            "WARNING:tensorflow:Early stopping conditioned on metric `val_loss` which is not available. Available metrics are: loss,accuracy\n"
          ]
        },
        {
          "output_type": "stream",
          "name": "stdout",
          "text": [
            "\b\b\b\b\b\b\b\b\b\b\b\b\b\b\b\b\b\b\b\b\b\b\b\b\b\b\b\b\b\b\b\b\b\b\b\b\b\b\b\b\b\b\b\b\b\b\b\b\b\b\b\b\b\b\b\b\b\b\b\b\b\b\b\b\b\b\b\b\b\b\b\b\b\b\b\b\b\b\b\b\b\b\r75/75 [==============================] - 1s 13ms/step - loss: 0.4084 - accuracy: 0.9124\n",
            "Epoch 111/150\n",
            "71/75 [===========================>..] - ETA: 0s - loss: 0.3364 - accuracy: 0.9247"
          ]
        },
        {
          "output_type": "stream",
          "name": "stderr",
          "text": [
            "WARNING:tensorflow:Early stopping conditioned on metric `val_loss` which is not available. Available metrics are: loss,accuracy\n"
          ]
        },
        {
          "output_type": "stream",
          "name": "stdout",
          "text": [
            "\b\b\b\b\b\b\b\b\b\b\b\b\b\b\b\b\b\b\b\b\b\b\b\b\b\b\b\b\b\b\b\b\b\b\b\b\b\b\b\b\b\b\b\b\b\b\b\b\b\b\b\b\b\b\b\b\b\b\b\b\b\b\b\b\b\b\b\b\b\b\b\b\b\b\b\b\b\b\b\b\b\b\r75/75 [==============================] - 1s 10ms/step - loss: 0.3329 - accuracy: 0.9255\n",
            "Epoch 112/150\n",
            "73/75 [============================>.] - ETA: 0s - loss: 0.2982 - accuracy: 0.9328"
          ]
        },
        {
          "output_type": "stream",
          "name": "stderr",
          "text": [
            "WARNING:tensorflow:Early stopping conditioned on metric `val_loss` which is not available. Available metrics are: loss,accuracy\n"
          ]
        },
        {
          "output_type": "stream",
          "name": "stdout",
          "text": [
            "\b\b\b\b\b\b\b\b\b\b\b\b\b\b\b\b\b\b\b\b\b\b\b\b\b\b\b\b\b\b\b\b\b\b\b\b\b\b\b\b\b\b\b\b\b\b\b\b\b\b\b\b\b\b\b\b\b\b\b\b\b\b\b\b\b\b\b\b\b\b\b\b\b\b\b\b\b\b\b\b\b\b\r75/75 [==============================] - 1s 9ms/step - loss: 0.3017 - accuracy: 0.9318\n",
            "Epoch 113/150\n",
            "75/75 [==============================] - ETA: 0s - loss: 0.2893 - accuracy: 0.9297"
          ]
        },
        {
          "output_type": "stream",
          "name": "stderr",
          "text": [
            "WARNING:tensorflow:Early stopping conditioned on metric `val_loss` which is not available. Available metrics are: loss,accuracy\n"
          ]
        },
        {
          "output_type": "stream",
          "name": "stdout",
          "text": [
            "\b\b\b\b\b\b\b\b\b\b\b\b\b\b\b\b\b\b\b\b\b\b\b\b\b\b\b\b\b\b\b\b\b\b\b\b\b\b\b\b\b\b\b\b\b\b\b\b\b\b\b\b\b\b\b\b\b\b\b\b\b\b\b\b\b\b\b\b\b\b\b\b\b\b\b\b\b\b\b\b\b\b\r75/75 [==============================] - 1s 10ms/step - loss: 0.2893 - accuracy: 0.9297\n",
            "Epoch 114/150\n",
            "72/75 [===========================>..] - ETA: 0s - loss: 0.2715 - accuracy: 0.9353"
          ]
        },
        {
          "output_type": "stream",
          "name": "stderr",
          "text": [
            "WARNING:tensorflow:Early stopping conditioned on metric `val_loss` which is not available. Available metrics are: loss,accuracy\n"
          ]
        },
        {
          "output_type": "stream",
          "name": "stdout",
          "text": [
            "\b\b\b\b\b\b\b\b\b\b\b\b\b\b\b\b\b\b\b\b\b\b\b\b\b\b\b\b\b\b\b\b\b\b\b\b\b\b\b\b\b\b\b\b\b\b\b\b\b\b\b\b\b\b\b\b\b\b\b\b\b\b\b\b\b\b\b\b\b\b\b\b\b\b\b\b\b\b\b\b\b\b\r75/75 [==============================] - 1s 10ms/step - loss: 0.2746 - accuracy: 0.9335\n",
            "Epoch 115/150\n",
            "70/75 [===========================>..] - ETA: 0s - loss: 0.2692 - accuracy: 0.9330"
          ]
        },
        {
          "output_type": "stream",
          "name": "stderr",
          "text": [
            "WARNING:tensorflow:Early stopping conditioned on metric `val_loss` which is not available. Available metrics are: loss,accuracy\n"
          ]
        },
        {
          "output_type": "stream",
          "name": "stdout",
          "text": [
            "\b\b\b\b\b\b\b\b\b\b\b\b\b\b\b\b\b\b\b\b\b\b\b\b\b\b\b\b\b\b\b\b\b\b\b\b\b\b\b\b\b\b\b\b\b\b\b\b\b\b\b\b\b\b\b\b\b\b\b\b\b\b\b\b\b\b\b\b\b\b\b\b\b\b\b\b\b\b\b\b\b\b\r75/75 [==============================] - 1s 10ms/step - loss: 0.2698 - accuracy: 0.9326\n",
            "Epoch 116/150\n",
            "73/75 [============================>.] - ETA: 0s - loss: 0.2709 - accuracy: 0.9362"
          ]
        },
        {
          "output_type": "stream",
          "name": "stderr",
          "text": [
            "WARNING:tensorflow:Early stopping conditioned on metric `val_loss` which is not available. Available metrics are: loss,accuracy\n"
          ]
        },
        {
          "output_type": "stream",
          "name": "stdout",
          "text": [
            "\b\b\b\b\b\b\b\b\b\b\b\b\b\b\b\b\b\b\b\b\b\b\b\b\b\b\b\b\b\b\b\b\b\b\b\b\b\b\b\b\b\b\b\b\b\b\b\b\b\b\b\b\b\b\b\b\b\b\b\b\b\b\b\b\b\b\b\b\b\b\b\b\b\b\b\b\b\b\b\b\b\b\r75/75 [==============================] - 1s 9ms/step - loss: 0.2699 - accuracy: 0.9373\n",
            "Epoch 117/150\n",
            "71/75 [===========================>..] - ETA: 0s - loss: 0.2657 - accuracy: 0.9327"
          ]
        },
        {
          "output_type": "stream",
          "name": "stderr",
          "text": [
            "WARNING:tensorflow:Early stopping conditioned on metric `val_loss` which is not available. Available metrics are: loss,accuracy\n"
          ]
        },
        {
          "output_type": "stream",
          "name": "stdout",
          "text": [
            "\b\b\b\b\b\b\b\b\b\b\b\b\b\b\b\b\b\b\b\b\b\b\b\b\b\b\b\b\b\b\b\b\b\b\b\b\b\b\b\b\b\b\b\b\b\b\b\b\b\b\b\b\b\b\b\b\b\b\b\b\b\b\b\b\b\b\b\b\b\b\b\b\b\b\b\b\b\b\b\b\b\b\r75/75 [==============================] - 1s 9ms/step - loss: 0.2685 - accuracy: 0.9314\n",
            "Epoch 118/150\n",
            "72/75 [===========================>..] - ETA: 0s - loss: 0.2635 - accuracy: 0.9271"
          ]
        },
        {
          "output_type": "stream",
          "name": "stderr",
          "text": [
            "WARNING:tensorflow:Early stopping conditioned on metric `val_loss` which is not available. Available metrics are: loss,accuracy\n"
          ]
        },
        {
          "output_type": "stream",
          "name": "stdout",
          "text": [
            "\b\b\b\b\b\b\b\b\b\b\b\b\b\b\b\b\b\b\b\b\b\b\b\b\b\b\b\b\b\b\b\b\b\b\b\b\b\b\b\b\b\b\b\b\b\b\b\b\b\b\b\b\b\b\b\b\b\b\b\b\b\b\b\b\b\b\b\b\b\b\b\b\b\b\b\b\b\b\b\b\b\b\r75/75 [==============================] - 1s 11ms/step - loss: 0.2632 - accuracy: 0.9272\n",
            "Epoch 119/150\n",
            "72/75 [===========================>..] - ETA: 0s - loss: 0.2669 - accuracy: 0.9353"
          ]
        },
        {
          "output_type": "stream",
          "name": "stderr",
          "text": [
            "WARNING:tensorflow:Early stopping conditioned on metric `val_loss` which is not available. Available metrics are: loss,accuracy\n"
          ]
        },
        {
          "output_type": "stream",
          "name": "stdout",
          "text": [
            "\b\b\b\b\b\b\b\b\b\b\b\b\b\b\b\b\b\b\b\b\b\b\b\b\b\b\b\b\b\b\b\b\b\b\b\b\b\b\b\b\b\b\b\b\b\b\b\b\b\b\b\b\b\b\b\b\b\b\b\b\b\b\b\b\b\b\b\b\b\b\b\b\b\b\b\b\b\b\b\b\b\b\r75/75 [==============================] - 1s 9ms/step - loss: 0.2662 - accuracy: 0.9356\n",
            "Epoch 120/150\n",
            "70/75 [===========================>..] - ETA: 0s - loss: 0.2658 - accuracy: 0.9348"
          ]
        },
        {
          "output_type": "stream",
          "name": "stderr",
          "text": [
            "WARNING:tensorflow:Early stopping conditioned on metric `val_loss` which is not available. Available metrics are: loss,accuracy\n"
          ]
        },
        {
          "output_type": "stream",
          "name": "stdout",
          "text": [
            "\b\b\b\b\b\b\b\b\b\b\b\b\b\b\b\b\b\b\b\b\b\b\b\b\b\b\b\b\b\b\b\b\b\b\b\b\b\b\b\b\b\b\b\b\b\b\b\b\b\b\b\b\b\b\b\b\b\b\b\b\b\b\b\b\b\b\b\b\b\b\b\b\b\b\b\b\b\b\b\b\b\b\r75/75 [==============================] - 1s 10ms/step - loss: 0.2644 - accuracy: 0.9352\n",
            "Epoch 121/150\n",
            "71/75 [===========================>..] - ETA: 0s - loss: 0.2633 - accuracy: 0.9331"
          ]
        },
        {
          "output_type": "stream",
          "name": "stderr",
          "text": [
            "WARNING:tensorflow:Early stopping conditioned on metric `val_loss` which is not available. Available metrics are: loss,accuracy\n"
          ]
        },
        {
          "output_type": "stream",
          "name": "stdout",
          "text": [
            "\b\b\b\b\b\b\b\b\b\b\b\b\b\b\b\b\b\b\b\b\b\b\b\b\b\b\b\b\b\b\b\b\b\b\b\b\b\b\b\b\b\b\b\b\b\b\b\b\b\b\b\b\b\b\b\b\b\b\b\b\b\b\b\b\b\b\b\b\b\b\b\b\b\b\b\b\b\b\b\b\b\b\r75/75 [==============================] - 1s 9ms/step - loss: 0.2656 - accuracy: 0.9322\n",
            "Epoch 122/150\n",
            "71/75 [===========================>..] - ETA: 0s - loss: 0.2568 - accuracy: 0.9331"
          ]
        },
        {
          "output_type": "stream",
          "name": "stderr",
          "text": [
            "WARNING:tensorflow:Early stopping conditioned on metric `val_loss` which is not available. Available metrics are: loss,accuracy\n"
          ]
        },
        {
          "output_type": "stream",
          "name": "stdout",
          "text": [
            "\b\b\b\b\b\b\b\b\b\b\b\b\b\b\b\b\b\b\b\b\b\b\b\b\b\b\b\b\b\b\b\b\b\b\b\b\b\b\b\b\b\b\b\b\b\b\b\b\b\b\b\b\b\b\b\b\b\b\b\b\b\b\b\b\b\b\b\b\b\b\b\b\b\b\b\b\b\b\b\b\b\b\r75/75 [==============================] - 1s 9ms/step - loss: 0.2565 - accuracy: 0.9339\n",
            "Epoch 123/150\n",
            "71/75 [===========================>..] - ETA: 0s - loss: 0.2557 - accuracy: 0.9331"
          ]
        },
        {
          "output_type": "stream",
          "name": "stderr",
          "text": [
            "WARNING:tensorflow:Early stopping conditioned on metric `val_loss` which is not available. Available metrics are: loss,accuracy\n"
          ]
        },
        {
          "output_type": "stream",
          "name": "stdout",
          "text": [
            "\b\b\b\b\b\b\b\b\b\b\b\b\b\b\b\b\b\b\b\b\b\b\b\b\b\b\b\b\b\b\b\b\b\b\b\b\b\b\b\b\b\b\b\b\b\b\b\b\b\b\b\b\b\b\b\b\b\b\b\b\b\b\b\b\b\b\b\b\b\b\b\b\b\b\b\b\b\b\b\b\b\b\r75/75 [==============================] - 1s 10ms/step - loss: 0.2565 - accuracy: 0.9326\n",
            "Epoch 124/150\n",
            "75/75 [==============================] - ETA: 0s - loss: 0.2560 - accuracy: 0.9347"
          ]
        },
        {
          "output_type": "stream",
          "name": "stderr",
          "text": [
            "WARNING:tensorflow:Early stopping conditioned on metric `val_loss` which is not available. Available metrics are: loss,accuracy\n"
          ]
        },
        {
          "output_type": "stream",
          "name": "stdout",
          "text": [
            "\b\b\b\b\b\b\b\b\b\b\b\b\b\b\b\b\b\b\b\b\b\b\b\b\b\b\b\b\b\b\b\b\b\b\b\b\b\b\b\b\b\b\b\b\b\b\b\b\b\b\b\b\b\b\b\b\b\b\b\b\b\b\b\b\b\b\b\b\b\b\b\b\b\b\b\b\b\b\b\b\b\b\r75/75 [==============================] - 1s 12ms/step - loss: 0.2560 - accuracy: 0.9347\n",
            "Epoch 125/150\n",
            "73/75 [============================>.] - ETA: 0s - loss: 0.2609 - accuracy: 0.9311"
          ]
        },
        {
          "output_type": "stream",
          "name": "stderr",
          "text": [
            "WARNING:tensorflow:Early stopping conditioned on metric `val_loss` which is not available. Available metrics are: loss,accuracy\n"
          ]
        },
        {
          "output_type": "stream",
          "name": "stdout",
          "text": [
            "\b\b\b\b\b\b\b\b\b\b\b\b\b\b\b\b\b\b\b\b\b\b\b\b\b\b\b\b\b\b\b\b\b\b\b\b\b\b\b\b\b\b\b\b\b\b\b\b\b\b\b\b\b\b\b\b\b\b\b\b\b\b\b\b\b\b\b\b\b\b\b\b\b\b\b\b\b\b\b\b\b\b\r75/75 [==============================] - 1s 13ms/step - loss: 0.2622 - accuracy: 0.9305\n",
            "Epoch 126/150\n",
            "75/75 [==============================] - ETA: 0s - loss: 0.2578 - accuracy: 0.9309"
          ]
        },
        {
          "output_type": "stream",
          "name": "stderr",
          "text": [
            "WARNING:tensorflow:Early stopping conditioned on metric `val_loss` which is not available. Available metrics are: loss,accuracy\n"
          ]
        },
        {
          "output_type": "stream",
          "name": "stdout",
          "text": [
            "\b\b\b\b\b\b\b\b\b\b\b\b\b\b\b\b\b\b\b\b\b\b\b\b\b\b\b\b\b\b\b\b\b\b\b\b\b\b\b\b\b\b\b\b\b\b\b\b\b\b\b\b\b\b\b\b\b\b\b\b\b\b\b\b\b\b\b\b\b\b\b\b\b\b\b\b\b\b\b\b\b\b\r75/75 [==============================] - 1s 11ms/step - loss: 0.2578 - accuracy: 0.9309\n",
            "Epoch 127/150\n",
            "75/75 [==============================] - ETA: 0s - loss: 0.2549 - accuracy: 0.9347"
          ]
        },
        {
          "output_type": "stream",
          "name": "stderr",
          "text": [
            "WARNING:tensorflow:Early stopping conditioned on metric `val_loss` which is not available. Available metrics are: loss,accuracy\n"
          ]
        },
        {
          "output_type": "stream",
          "name": "stdout",
          "text": [
            "\b\b\b\b\b\b\b\b\b\b\b\b\b\b\b\b\b\b\b\b\b\b\b\b\b\b\b\b\b\b\b\b\b\b\b\b\b\b\b\b\b\b\b\b\b\b\b\b\b\b\b\b\b\b\b\b\b\b\b\b\b\b\b\b\b\b\b\b\b\b\b\b\b\b\b\b\b\b\b\b\b\b\r75/75 [==============================] - 1s 10ms/step - loss: 0.2549 - accuracy: 0.9347\n",
            "Epoch 128/150\n",
            "71/75 [===========================>..] - ETA: 0s - loss: 0.2512 - accuracy: 0.9362"
          ]
        },
        {
          "output_type": "stream",
          "name": "stderr",
          "text": [
            "WARNING:tensorflow:Early stopping conditioned on metric `val_loss` which is not available. Available metrics are: loss,accuracy\n"
          ]
        },
        {
          "output_type": "stream",
          "name": "stdout",
          "text": [
            "\b\b\b\b\b\b\b\b\b\b\b\b\b\b\b\b\b\b\b\b\b\b\b\b\b\b\b\b\b\b\b\b\b\b\b\b\b\b\b\b\b\b\b\b\b\b\b\b\b\b\b\b\b\b\b\b\b\b\b\b\b\b\b\b\b\b\b\b\b\b\b\b\b\b\b\b\b\b\b\b\b\b\r75/75 [==============================] - 1s 9ms/step - loss: 0.2522 - accuracy: 0.9360\n",
            "Epoch 129/150\n",
            "72/75 [===========================>..] - ETA: 0s - loss: 0.2491 - accuracy: 0.9306"
          ]
        },
        {
          "output_type": "stream",
          "name": "stderr",
          "text": [
            "WARNING:tensorflow:Early stopping conditioned on metric `val_loss` which is not available. Available metrics are: loss,accuracy\n"
          ]
        },
        {
          "output_type": "stream",
          "name": "stdout",
          "text": [
            "\b\b\b\b\b\b\b\b\b\b\b\b\b\b\b\b\b\b\b\b\b\b\b\b\b\b\b\b\b\b\b\b\b\b\b\b\b\b\b\b\b\b\b\b\b\b\b\b\b\b\b\b\b\b\b\b\b\b\b\b\b\b\b\b\b\b\b\b\b\b\b\b\b\b\b\b\b\b\b\b\b\b\r75/75 [==============================] - 1s 9ms/step - loss: 0.2497 - accuracy: 0.9305\n",
            "Epoch 130/150\n",
            "75/75 [==============================] - ETA: 0s - loss: 0.2559 - accuracy: 0.9411"
          ]
        },
        {
          "output_type": "stream",
          "name": "stderr",
          "text": [
            "WARNING:tensorflow:Early stopping conditioned on metric `val_loss` which is not available. Available metrics are: loss,accuracy\n"
          ]
        },
        {
          "output_type": "stream",
          "name": "stdout",
          "text": [
            "\b\b\b\b\b\b\b\b\b\b\b\b\b\b\b\b\b\b\b\b\b\b\b\b\b\b\b\b\b\b\b\b\b\b\b\b\b\b\b\b\b\b\b\b\b\b\b\b\b\b\b\b\b\b\b\b\b\b\b\b\b\b\b\b\b\b\b\b\b\b\b\b\b\b\b\b\b\b\b\b\b\b\r75/75 [==============================] - 1s 10ms/step - loss: 0.2559 - accuracy: 0.9411\n",
            "Epoch 131/150\n",
            "75/75 [==============================] - ETA: 0s - loss: 0.2568 - accuracy: 0.9339"
          ]
        },
        {
          "output_type": "stream",
          "name": "stderr",
          "text": [
            "WARNING:tensorflow:Early stopping conditioned on metric `val_loss` which is not available. Available metrics are: loss,accuracy\n"
          ]
        },
        {
          "output_type": "stream",
          "name": "stdout",
          "text": [
            "\b\b\b\b\b\b\b\b\b\b\b\b\b\b\b\b\b\b\b\b\b\b\b\b\b\b\b\b\b\b\b\b\b\b\b\b\b\b\b\b\b\b\b\b\b\b\b\b\b\b\b\b\b\b\b\b\b\b\b\b\b\b\b\b\b\b\b\b\b\b\b\b\b\b\b\b\b\b\b\b\b\b\r75/75 [==============================] - 1s 10ms/step - loss: 0.2568 - accuracy: 0.9339\n",
            "Epoch 132/150\n",
            "70/75 [===========================>..] - ETA: 0s - loss: 0.2540 - accuracy: 0.9330"
          ]
        },
        {
          "output_type": "stream",
          "name": "stderr",
          "text": [
            "WARNING:tensorflow:Early stopping conditioned on metric `val_loss` which is not available. Available metrics are: loss,accuracy\n"
          ]
        },
        {
          "output_type": "stream",
          "name": "stdout",
          "text": [
            "\b\b\b\b\b\b\b\b\b\b\b\b\b\b\b\b\b\b\b\b\b\b\b\b\b\b\b\b\b\b\b\b\b\b\b\b\b\b\b\b\b\b\b\b\b\b\b\b\b\b\b\b\b\b\b\b\b\b\b\b\b\b\b\b\b\b\b\b\b\b\b\b\b\b\b\b\b\b\b\b\b\b\r75/75 [==============================] - 1s 10ms/step - loss: 0.2528 - accuracy: 0.9326\n",
            "Epoch 133/150\n",
            "71/75 [===========================>..] - ETA: 0s - loss: 0.2484 - accuracy: 0.9327"
          ]
        },
        {
          "output_type": "stream",
          "name": "stderr",
          "text": [
            "WARNING:tensorflow:Early stopping conditioned on metric `val_loss` which is not available. Available metrics are: loss,accuracy\n"
          ]
        },
        {
          "output_type": "stream",
          "name": "stdout",
          "text": [
            "\b\b\b\b\b\b\b\b\b\b\b\b\b\b\b\b\b\b\b\b\b\b\b\b\b\b\b\b\b\b\b\b\b\b\b\b\b\b\b\b\b\b\b\b\b\b\b\b\b\b\b\b\b\b\b\b\b\b\b\b\b\b\b\b\b\b\b\b\b\b\b\b\b\b\b\b\b\b\b\b\b\b\r75/75 [==============================] - 1s 9ms/step - loss: 0.2509 - accuracy: 0.9322\n",
            "Epoch 134/150\n",
            "75/75 [==============================] - ETA: 0s - loss: 0.2512 - accuracy: 0.9347"
          ]
        },
        {
          "output_type": "stream",
          "name": "stderr",
          "text": [
            "WARNING:tensorflow:Early stopping conditioned on metric `val_loss` which is not available. Available metrics are: loss,accuracy\n"
          ]
        },
        {
          "output_type": "stream",
          "name": "stdout",
          "text": [
            "\b\b\b\b\b\b\b\b\b\b\b\b\b\b\b\b\b\b\b\b\b\b\b\b\b\b\b\b\b\b\b\b\b\b\b\b\b\b\b\b\b\b\b\b\b\b\b\b\b\b\b\b\b\b\b\b\b\b\b\b\b\b\b\b\b\b\b\b\b\b\b\b\b\b\b\b\b\b\b\b\b\b\r75/75 [==============================] - 1s 10ms/step - loss: 0.2512 - accuracy: 0.9347\n",
            "Epoch 135/150\n",
            "71/75 [===========================>..] - ETA: 0s - loss: 0.2683 - accuracy: 0.9247"
          ]
        },
        {
          "output_type": "stream",
          "name": "stderr",
          "text": [
            "WARNING:tensorflow:Early stopping conditioned on metric `val_loss` which is not available. Available metrics are: loss,accuracy\n"
          ]
        },
        {
          "output_type": "stream",
          "name": "stdout",
          "text": [
            "\b\b\b\b\b\b\b\b\b\b\b\b\b\b\b\b\b\b\b\b\b\b\b\b\b\b\b\b\b\b\b\b\b\b\b\b\b\b\b\b\b\b\b\b\b\b\b\b\b\b\b\b\b\b\b\b\b\b\b\b\b\b\b\b\b\b\b\b\b\b\b\b\b\b\b\b\b\b\b\b\b\b\r75/75 [==============================] - 1s 9ms/step - loss: 0.2654 - accuracy: 0.9267\n",
            "Epoch 136/150\n",
            "75/75 [==============================] - ETA: 0s - loss: 0.2759 - accuracy: 0.9301"
          ]
        },
        {
          "output_type": "stream",
          "name": "stderr",
          "text": [
            "WARNING:tensorflow:Early stopping conditioned on metric `val_loss` which is not available. Available metrics are: loss,accuracy\n"
          ]
        },
        {
          "output_type": "stream",
          "name": "stdout",
          "text": [
            "\b\b\b\b\b\b\b\b\b\b\b\b\b\b\b\b\b\b\b\b\b\b\b\b\b\b\b\b\b\b\b\b\b\b\b\b\b\b\b\b\b\b\b\b\b\b\b\b\b\b\b\b\b\b\b\b\b\b\b\b\b\b\b\b\b\b\b\b\b\b\b\b\b\b\b\b\b\b\b\b\b\b\r75/75 [==============================] - 1s 10ms/step - loss: 0.2759 - accuracy: 0.9301\n",
            "Epoch 137/150\n",
            "71/75 [===========================>..] - ETA: 0s - loss: 0.2721 - accuracy: 0.9283"
          ]
        },
        {
          "output_type": "stream",
          "name": "stderr",
          "text": [
            "WARNING:tensorflow:Early stopping conditioned on metric `val_loss` which is not available. Available metrics are: loss,accuracy\n"
          ]
        },
        {
          "output_type": "stream",
          "name": "stdout",
          "text": [
            "\b\b\b\b\b\b\b\b\b\b\b\b\b\b\b\b\b\b\b\b\b\b\b\b\b\b\b\b\b\b\b\b\b\b\b\b\b\b\b\b\b\b\b\b\b\b\b\b\b\b\b\b\b\b\b\b\b\b\b\b\b\b\b\b\b\b\b\b\b\b\b\b\b\b\b\b\b\b\b\b\b\b\r75/75 [==============================] - 1s 9ms/step - loss: 0.2704 - accuracy: 0.9284\n",
            "Epoch 138/150\n",
            "72/75 [===========================>..] - ETA: 0s - loss: 0.2586 - accuracy: 0.9362"
          ]
        },
        {
          "output_type": "stream",
          "name": "stderr",
          "text": [
            "WARNING:tensorflow:Early stopping conditioned on metric `val_loss` which is not available. Available metrics are: loss,accuracy\n"
          ]
        },
        {
          "output_type": "stream",
          "name": "stdout",
          "text": [
            "\b\b\b\b\b\b\b\b\b\b\b\b\b\b\b\b\b\b\b\b\b\b\b\b\b\b\b\b\b\b\b\b\b\b\b\b\b\b\b\b\b\b\b\b\b\b\b\b\b\b\b\b\b\b\b\b\b\b\b\b\b\b\b\b\b\b\b\b\b\b\b\b\b\b\b\b\b\b\b\b\b\b\r75/75 [==============================] - 1s 10ms/step - loss: 0.2584 - accuracy: 0.9364\n",
            "Epoch 139/150\n",
            "74/75 [============================>.] - ETA: 0s - loss: 0.2556 - accuracy: 0.9350"
          ]
        },
        {
          "output_type": "stream",
          "name": "stderr",
          "text": [
            "WARNING:tensorflow:Early stopping conditioned on metric `val_loss` which is not available. Available metrics are: loss,accuracy\n"
          ]
        },
        {
          "output_type": "stream",
          "name": "stdout",
          "text": [
            "\b\b\b\b\b\b\b\b\b\b\b\b\b\b\b\b\b\b\b\b\b\b\b\b\b\b\b\b\b\b\b\b\b\b\b\b\b\b\b\b\b\b\b\b\b\b\b\b\b\b\b\b\b\b\b\b\b\b\b\b\b\b\b\b\b\b\b\b\b\b\b\b\b\b\b\b\b\b\b\b\b\b\r75/75 [==============================] - 1s 12ms/step - loss: 0.2551 - accuracy: 0.9352\n",
            "Epoch 140/150\n",
            "75/75 [==============================] - ETA: 0s - loss: 0.2544 - accuracy: 0.9331"
          ]
        },
        {
          "output_type": "stream",
          "name": "stderr",
          "text": [
            "WARNING:tensorflow:Early stopping conditioned on metric `val_loss` which is not available. Available metrics are: loss,accuracy\n"
          ]
        },
        {
          "output_type": "stream",
          "name": "stdout",
          "text": [
            "\b\b\b\b\b\b\b\b\b\b\b\b\b\b\b\b\b\b\b\b\b\b\b\b\b\b\b\b\b\b\b\b\b\b\b\b\b\b\b\b\b\b\b\b\b\b\b\b\b\b\b\b\b\b\b\b\b\b\b\b\b\b\b\b\b\b\b\b\b\b\b\b\b\b\b\b\b\b\b\b\b\b\r75/75 [==============================] - 1s 14ms/step - loss: 0.2544 - accuracy: 0.9331\n",
            "Epoch 141/150\n",
            "75/75 [==============================] - ETA: 0s - loss: 0.2531 - accuracy: 0.9318"
          ]
        },
        {
          "output_type": "stream",
          "name": "stderr",
          "text": [
            "WARNING:tensorflow:Early stopping conditioned on metric `val_loss` which is not available. Available metrics are: loss,accuracy\n"
          ]
        },
        {
          "output_type": "stream",
          "name": "stdout",
          "text": [
            "\b\b\b\b\b\b\b\b\b\b\b\b\b\b\b\b\b\b\b\b\b\b\b\b\b\b\b\b\b\b\b\b\b\b\b\b\b\b\b\b\b\b\b\b\b\b\b\b\b\b\b\b\b\b\b\b\b\b\b\b\b\b\b\b\b\b\b\b\b\b\b\b\b\b\b\b\b\b\b\b\b\b\r75/75 [==============================] - 1s 10ms/step - loss: 0.2531 - accuracy: 0.9318\n",
            "Epoch 142/150\n",
            "71/75 [===========================>..] - ETA: 0s - loss: 0.2479 - accuracy: 0.9344"
          ]
        },
        {
          "output_type": "stream",
          "name": "stderr",
          "text": [
            "WARNING:tensorflow:Early stopping conditioned on metric `val_loss` which is not available. Available metrics are: loss,accuracy\n"
          ]
        },
        {
          "output_type": "stream",
          "name": "stdout",
          "text": [
            "\b\b\b\b\b\b\b\b\b\b\b\b\b\b\b\b\b\b\b\b\b\b\b\b\b\b\b\b\b\b\b\b\b\b\b\b\b\b\b\b\b\b\b\b\b\b\b\b\b\b\b\b\b\b\b\b\b\b\b\b\b\b\b\b\b\b\b\b\b\b\b\b\b\b\b\b\b\b\b\b\b\b\r75/75 [==============================] - 1s 10ms/step - loss: 0.2506 - accuracy: 0.9331\n",
            "Epoch 143/150\n",
            "71/75 [===========================>..] - ETA: 0s - loss: 0.2616 - accuracy: 0.9331"
          ]
        },
        {
          "output_type": "stream",
          "name": "stderr",
          "text": [
            "WARNING:tensorflow:Early stopping conditioned on metric `val_loss` which is not available. Available metrics are: loss,accuracy\n"
          ]
        },
        {
          "output_type": "stream",
          "name": "stdout",
          "text": [
            "\b\b\b\b\b\b\b\b\b\b\b\b\b\b\b\b\b\b\b\b\b\b\b\b\b\b\b\b\b\b\b\b\b\b\b\b\b\b\b\b\b\b\b\b\b\b\b\b\b\b\b\b\b\b\b\b\b\b\b\b\b\b\b\b\b\b\b\b\b\b\b\b\b\b\b\b\b\b\b\b\b\b\r75/75 [==============================] - 1s 10ms/step - loss: 0.2641 - accuracy: 0.9318\n",
            "Epoch 144/150\n",
            "71/75 [===========================>..] - ETA: 0s - loss: 0.2517 - accuracy: 0.9340"
          ]
        },
        {
          "output_type": "stream",
          "name": "stderr",
          "text": [
            "WARNING:tensorflow:Early stopping conditioned on metric `val_loss` which is not available. Available metrics are: loss,accuracy\n"
          ]
        },
        {
          "output_type": "stream",
          "name": "stdout",
          "text": [
            "\b\b\b\b\b\b\b\b\b\b\b\b\b\b\b\b\b\b\b\b\b\b\b\b\b\b\b\b\b\b\b\b\b\b\b\b\b\b\b\b\b\b\b\b\b\b\b\b\b\b\b\b\b\b\b\b\b\b\b\b\b\b\b\b\b\b\b\b\b\b\b\b\b\b\b\b\b\b\b\b\b\b\r75/75 [==============================] - 1s 10ms/step - loss: 0.2488 - accuracy: 0.9360\n",
            "Epoch 145/150\n",
            "71/75 [===========================>..] - ETA: 0s - loss: 0.2479 - accuracy: 0.9331"
          ]
        },
        {
          "output_type": "stream",
          "name": "stderr",
          "text": [
            "WARNING:tensorflow:Early stopping conditioned on metric `val_loss` which is not available. Available metrics are: loss,accuracy\n"
          ]
        },
        {
          "output_type": "stream",
          "name": "stdout",
          "text": [
            "\b\b\b\b\b\b\b\b\b\b\b\b\b\b\b\b\b\b\b\b\b\b\b\b\b\b\b\b\b\b\b\b\b\b\b\b\b\b\b\b\b\b\b\b\b\b\b\b\b\b\b\b\b\b\b\b\b\b\b\b\b\b\b\b\b\b\b\b\b\b\b\b\b\b\b\b\b\b\b\b\b\b\r75/75 [==============================] - 1s 10ms/step - loss: 0.2498 - accuracy: 0.9326\n",
            "Epoch 146/150\n",
            "70/75 [===========================>..] - ETA: 0s - loss: 0.2442 - accuracy: 0.9357"
          ]
        },
        {
          "output_type": "stream",
          "name": "stderr",
          "text": [
            "WARNING:tensorflow:Early stopping conditioned on metric `val_loss` which is not available. Available metrics are: loss,accuracy\n"
          ]
        },
        {
          "output_type": "stream",
          "name": "stdout",
          "text": [
            "\b\b\b\b\b\b\b\b\b\b\b\b\b\b\b\b\b\b\b\b\b\b\b\b\b\b\b\b\b\b\b\b\b\b\b\b\b\b\b\b\b\b\b\b\b\b\b\b\b\b\b\b\b\b\b\b\b\b\b\b\b\b\b\b\b\b\b\b\b\b\b\b\b\b\b\b\b\b\b\b\b\b\r75/75 [==============================] - 1s 10ms/step - loss: 0.2474 - accuracy: 0.9335\n",
            "Epoch 147/150\n",
            "75/75 [==============================] - ETA: 0s - loss: 0.2404 - accuracy: 0.9322"
          ]
        },
        {
          "output_type": "stream",
          "name": "stderr",
          "text": [
            "WARNING:tensorflow:Early stopping conditioned on metric `val_loss` which is not available. Available metrics are: loss,accuracy\n"
          ]
        },
        {
          "output_type": "stream",
          "name": "stdout",
          "text": [
            "\b\b\b\b\b\b\b\b\b\b\b\b\b\b\b\b\b\b\b\b\b\b\b\b\b\b\b\b\b\b\b\b\b\b\b\b\b\b\b\b\b\b\b\b\b\b\b\b\b\b\b\b\b\b\b\b\b\b\b\b\b\b\b\b\b\b\b\b\b\b\b\b\b\b\b\b\b\b\b\b\b\b\r75/75 [==============================] - 1s 10ms/step - loss: 0.2404 - accuracy: 0.9322\n",
            "Epoch 148/150\n",
            "72/75 [===========================>..] - ETA: 0s - loss: 0.2404 - accuracy: 0.9375"
          ]
        },
        {
          "output_type": "stream",
          "name": "stderr",
          "text": [
            "WARNING:tensorflow:Early stopping conditioned on metric `val_loss` which is not available. Available metrics are: loss,accuracy\n"
          ]
        },
        {
          "output_type": "stream",
          "name": "stdout",
          "text": [
            "\b\b\b\b\b\b\b\b\b\b\b\b\b\b\b\b\b\b\b\b\b\b\b\b\b\b\b\b\b\b\b\b\b\b\b\b\b\b\b\b\b\b\b\b\b\b\b\b\b\b\b\b\b\b\b\b\b\b\b\b\b\b\b\b\b\b\b\b\b\b\b\b\b\b\b\b\b\b\b\b\b\b\r75/75 [==============================] - 1s 9ms/step - loss: 0.2442 - accuracy: 0.9356\n",
            "Epoch 149/150\n",
            "70/75 [===========================>..] - ETA: 0s - loss: 0.2539 - accuracy: 0.9295"
          ]
        },
        {
          "output_type": "stream",
          "name": "stderr",
          "text": [
            "WARNING:tensorflow:Early stopping conditioned on metric `val_loss` which is not available. Available metrics are: loss,accuracy\n"
          ]
        },
        {
          "output_type": "stream",
          "name": "stdout",
          "text": [
            "\b\b\b\b\b\b\b\b\b\b\b\b\b\b\b\b\b\b\b\b\b\b\b\b\b\b\b\b\b\b\b\b\b\b\b\b\b\b\b\b\b\b\b\b\b\b\b\b\b\b\b\b\b\b\b\b\b\b\b\b\b\b\b\b\b\b\b\b\b\b\b\b\b\b\b\b\b\b\b\b\b\b\r75/75 [==============================] - 1s 9ms/step - loss: 0.2553 - accuracy: 0.9284\n",
            "Epoch 150/150\n",
            "70/75 [===========================>..] - ETA: 0s - loss: 0.2722 - accuracy: 0.9317"
          ]
        },
        {
          "output_type": "stream",
          "name": "stderr",
          "text": [
            "WARNING:tensorflow:Early stopping conditioned on metric `val_loss` which is not available. Available metrics are: loss,accuracy\n"
          ]
        },
        {
          "output_type": "stream",
          "name": "stdout",
          "text": [
            "\b\b\b\b\b\b\b\b\b\b\b\b\b\b\b\b\b\b\b\b\b\b\b\b\b\b\b\b\b\b\b\b\b\b\b\b\b\b\b\b\b\b\b\b\b\b\b\b\b\b\b\b\b\b\b\b\b\b\b\b\b\b\b\b\b\b\b\b\b\b\b\b\b\b\b\b\b\b\b\b\b\b\r75/75 [==============================] - 1s 10ms/step - loss: 0.2711 - accuracy: 0.9326\n"
          ]
        }
      ],
      "source": [
        "history = model.fit(predictors, label, epochs=150, verbose=1, callbacks=[early_stopping])"
      ]
    },
    {
      "cell_type": "markdown",
      "metadata": {
        "id": "8heXdtslDpGU"
      },
      "source": [
        "### 5. Predict the next N words."
      ]
    },
    {
      "cell_type": "code",
      "execution_count": 42,
      "metadata": {
        "id": "CNUO-xP4Y03Z"
      },
      "outputs": [],
      "source": [
        "test_seq = 'em ổn không'"
      ]
    },
    {
      "cell_type": "code",
      "execution_count": 43,
      "metadata": {
        "colab": {
          "base_uri": "https://localhost:8080/"
        },
        "id": "tnFicgjcDuqu",
        "outputId": "698af914-f670-44f3-8183-6837219e10ce"
      },
      "outputs": [
        {
          "output_type": "stream",
          "name": "stdout",
          "text": [
            "em ổn không hiểu thấu em như nắng mai trong đời cho em đau ai ngờ để phải nhớ có có khóc xôi ai anh thêm bao nhiêu lâu anh có thêm rơi sẽ hẹn rong chơi và côi rồi nhạc vang lên xe tranh và côi lắm cứ rơi nhưng có yêu ai sao sao đêm nay trong xa là ai anh sao anh khóc cho qua thấu đừng khóc có có thấu đau thế ai ai cười lần vương em có cơn khóc có có xưa còn nói nhớ có vào ùa về và cứ rơi anh tối chẳng khi tố như mưa rơi đâu em hiểu anh dành hơn nửa thứ thứ đó em ở nhớ em có sẽ lánh ở phần anh ơi lại thể anh sẽ chờ em ơi lại cho anh biết vương và vấn khô rồi kêu vẫn mà vẫn phần cũng không biết bầu trời kia lại anh dành thứ chậm em sao anh cũng nhắm mắt em cũng khóc còn vào kiếm ăn rơi còn có cơn nhưng có nhau ăn xôi lắm này đời phiến thăng trầm ấy về rơi nhưng mưa rơi nếu thấu em mưa rơi em yêu như thế mà\n"
          ]
        }
      ],
      "source": [
        "next_words = 200\n",
        "\n",
        "for _ in range(next_words):\n",
        "  token_list = tokenizer.texts_to_sequences([test_seq])[0]\n",
        "  token_list = pad_sequences([token_list], maxlen=max_sequence_len-1, padding='pre')\n",
        "  predicted = model.predict(token_list, verbose=0)\n",
        "\n",
        "  output_word = \"\"\n",
        "\n",
        "  predicted_id = np.argmax(predicted)\n",
        "\n",
        "  if predicted_id in tokenizer.index_word:\n",
        "    output_word = tokenizer.index_word[predicted_id]\n",
        "\n",
        "    if output_word == '<end>':\n",
        "        break\n",
        "    test_seq += \" \" + output_word\n",
        "  else:\n",
        "    break\n",
        "\n",
        "print(test_seq)"
      ]
    },
    {
      "cell_type": "code",
      "source": [],
      "metadata": {
        "id": "2zFlNAofsY2C"
      },
      "execution_count": null,
      "outputs": []
    }
  ],
  "metadata": {
    "accelerator": "GPU",
    "colab": {
      "machine_shape": "hm",
      "provenance": []
    },
    "kernelspec": {
      "display_name": "Python 3",
      "name": "python3"
    }
  },
  "nbformat": 4,
  "nbformat_minor": 0
}