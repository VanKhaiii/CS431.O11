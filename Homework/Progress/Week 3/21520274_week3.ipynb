{
  "nbformat": 4,
  "nbformat_minor": 0,
  "metadata": {
    "colab": {
      "provenance": []
    },
    "kernelspec": {
      "name": "python3",
      "display_name": "Python 3"
    },
    "language_info": {
      "name": "python"
    }
  },
  "cells": [
    {
      "cell_type": "code",
      "execution_count": 1,
      "metadata": {
        "id": "dYuRvtpYMXWO"
      },
      "outputs": [],
      "source": [
        "import tensorflow as tf\n",
        "from tensorflow.keras import layers, models"
      ]
    },
    {
      "cell_type": "markdown",
      "source": [
        "**Mô tả mô hình CNN:**\n",
        "\n",
        "1. **Convolutional layer 1**:\n",
        "   - Input Shape: (78,78,3) => ảnh màu RGB với kích thước 78x78 pixel\n",
        "   - Số lượng filters: 32\n",
        "   - Kernel size: (3, 3)\n",
        "   - Stride: 1\n",
        "   - Padding: 0\n",
        "   - Output Shape: (76,76,32)\n",
        "   - Activation Function: ReLU\n",
        "\n",
        "2. **MaxPooling 1**:\n",
        "   - Input Shape: (76,76,32)\n",
        "   - Kernel size: (2, 2)\n",
        "   - Loại pooling: Max pooling\n",
        "   - Output size (38,38,32)\n",
        "\n",
        "3. **Convolutional layer 2**:\n",
        "   - Input shape: (38,38,32)\n",
        "   - Số lượng filters: 64\n",
        "   - Kernel size: (3, 3)\n",
        "   - Stride: 1\n",
        "   - Padding: 0\n",
        "   - Output shape: (36,36,64)\n",
        "   - Activation Function: ReLU\n",
        "\n",
        "4. **MaxPooling 2**:\n",
        "   - Input Shape: (36,36,64)\n",
        "   - Kernel size: (2, 2)\n",
        "   - Loại pooling: Max pooling\n",
        "   - Output size: (18,18,64)\n",
        "\n",
        "5. **Convolutional layer 3**:\n",
        "   - Input shape: (18,18,64)\n",
        "   - Số lượng filters: 128\n",
        "   - Kernel size: (3, 3)\n",
        "   - Stride: 1\n",
        "   - Padding: 0\n",
        "   - Output shape: (16,16,128)\n",
        "   - Activation Function: ReLU\n",
        "\n",
        "6. **MaxPooling 3**:\n",
        "   - Input Shape: (16,16,128)\n",
        "   - Kernel size: (2, 2)\n",
        "   - Loại pooling: Max pooling\n",
        "   - Output size: (8,8,128)\n",
        "\n",
        "7. **Flatten**:\n",
        "   - Input shape: (8,8,128)\n",
        "   - Lớp này chuyển từ tensor 3D thành vector 1D bằng cách \"làm phẳng\" dữ liệu. Đầu ra của nó có kích thước (8 x 8 x 128) = 8192.\n",
        "\n",
        "8. **Fully connected (Dense 1)**:\n",
        "   - Input shape: 8 x 8 x 128\n",
        "   - Activation Function: ReLU.\n",
        "   - Lớp fully connected này kết nối toàn bộ các đơn vị trong vector 8192 chiều thành 128 đơn vị.\n",
        "\n",
        "9. **Fully connected (Dense 2 - Lớp đầu ra)**:\n",
        "   - Input shape: 128\n",
        "   - Activation Function: Softmax.\n",
        "   - Lớp fully connected cuối cùng với 3 đơn vị, tương ứng với số lớp đầu ra (3 lớp) và sử dụng hàm Softmax để ánh xạ các giá trị thành xác suất.\n"
      ],
      "metadata": {
        "id": "yBoTdZzbfdN8"
      }
    },
    {
      "cell_type": "code",
      "source": [
        "def create_cnn_model():\n",
        "  model = models.Sequential()\n",
        "\n",
        "  # Convolutional layer 1\n",
        "  model.add(layers.Conv2D(32, (3, 3), activation='relu', input_shape=(78, 78, 3)))\n",
        "  model.add(layers.MaxPooling2D((2, 2)))\n",
        "\n",
        "  #Convolutional layer 2\n",
        "  model.add(layers.Conv2D(64, (3, 3), activation='relu'))\n",
        "  model.add(layers.MaxPooling2D(2, 2))\n",
        "\n",
        "  #Convolutional layer 3\n",
        "  model.add(layers.Conv2D(128, (3,3), activation='relu'))\n",
        "  model.add(layers.MaxPooling2D(2,2))\n",
        "\n",
        "  # Lớp Flatten\n",
        "  model.add(layers.Flatten())\n",
        "\n",
        "  # Lớp fully connected (Dense)\n",
        "  model.add(layers.Dense(128, activation='relu'))\n",
        "\n",
        "  # Lớp đầu ra với 3 đơn vị\n",
        "  model.add(layers.Dense(3, activation='softmax'))\n",
        "\n",
        "  return model\n",
        "\n",
        "model = create_cnn_model()\n",
        "model.summary()"
      ],
      "metadata": {
        "colab": {
          "base_uri": "https://localhost:8080/"
        },
        "id": "H0K6VMqGMvGK",
        "outputId": "63739a20-84c1-412e-bd01-5bd31dafe6af"
      },
      "execution_count": 5,
      "outputs": [
        {
          "output_type": "stream",
          "name": "stdout",
          "text": [
            "Model: \"sequential_3\"\n",
            "_________________________________________________________________\n",
            " Layer (type)                Output Shape              Param #   \n",
            "=================================================================\n",
            " conv2d_9 (Conv2D)           (None, 76, 76, 32)        896       \n",
            "                                                                 \n",
            " max_pooling2d_8 (MaxPoolin  (None, 38, 38, 32)        0         \n",
            " g2D)                                                            \n",
            "                                                                 \n",
            " conv2d_10 (Conv2D)          (None, 36, 36, 64)        18496     \n",
            "                                                                 \n",
            " max_pooling2d_9 (MaxPoolin  (None, 18, 18, 64)        0         \n",
            " g2D)                                                            \n",
            "                                                                 \n",
            " conv2d_11 (Conv2D)          (None, 16, 16, 128)       73856     \n",
            "                                                                 \n",
            " max_pooling2d_10 (MaxPooli  (None, 8, 8, 128)         0         \n",
            " ng2D)                                                           \n",
            "                                                                 \n",
            " flatten_2 (Flatten)         (None, 8192)              0         \n",
            "                                                                 \n",
            " dense_4 (Dense)             (None, 128)               1048704   \n",
            "                                                                 \n",
            " dense_5 (Dense)             (None, 3)                 387       \n",
            "                                                                 \n",
            "=================================================================\n",
            "Total params: 1142339 (4.36 MB)\n",
            "Trainable params: 1142339 (4.36 MB)\n",
            "Non-trainable params: 0 (0.00 Byte)\n",
            "_________________________________________________________________\n"
          ]
        }
      ]
    },
    {
      "cell_type": "code",
      "source": [],
      "metadata": {
        "id": "i9z0RQOdc6_5"
      },
      "execution_count": null,
      "outputs": []
    }
  ]
}