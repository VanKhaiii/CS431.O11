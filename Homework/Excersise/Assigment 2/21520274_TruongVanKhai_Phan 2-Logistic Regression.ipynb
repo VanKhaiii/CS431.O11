{
 "cells": [
  {
   "attachments": {},
   "cell_type": "markdown",
   "id": "a63fbbc1",
   "metadata": {},
   "source": [
    "# MODULE CS431 - CÁC KỸ THUẬT HỌC SÂU VÀ ỨNG DỤNG\n",
    "\n",
    "**Hướng dẫn**:\n",
    "- Khởi động kernel: Ở thanh menu, chọn Kernel$\\rightarrow$Restart kernel.\n",
    "- Hoàn tất tất cả các mục có comment `YOUR CODE HERE`\n",
    "- Chạy toàn bộ các block code để kiểm tra: Ở thanh menu, chọn Cell$\\rightarrow$Run All."
   ]
  },
  {
   "cell_type": "markdown",
   "id": "4c1407b7",
   "metadata": {},
   "source": [
    "---"
   ]
  },
  {
   "cell_type": "markdown",
   "id": "32d8e798-415f-437f-9595-395432d2f6ea",
   "metadata": {
    "deletable": false,
    "editable": false,
    "nbgrader": {
     "cell_type": "markdown",
     "checksum": "92ac8d025f725d001eb6f3d2583eb277",
     "grade": false,
     "grade_id": "cell-cd8ada6364a44dde",
     "locked": true,
     "schema_version": 3,
     "solution": false,
     "task": false
    },
    "tags": []
   },
   "source": [
    "# CÀI ĐẶT MÔ HÌNH LOGISTIC REGRESSION VỚI KERAS"
   ]
  },
  {
   "cell_type": "markdown",
   "id": "fd050030-303d-46a5-814b-39eb047ad932",
   "metadata": {
    "deletable": false,
    "editable": false,
    "nbgrader": {
     "cell_type": "markdown",
     "checksum": "30977e2983aaebcf2baeee83d603d3ff",
     "grade": false,
     "grade_id": "cell-0bffba57d1ad9cb3",
     "locked": true,
     "schema_version": 3,
     "solution": false,
     "task": false
    },
    "tags": []
   },
   "source": [
    "Một mô hình máy học cần có đủ ít nhất 7 phương thức sau:\n",
    "- `__init__`: hàm constructor trong hướng đối tượng, được sử dụng để khởi tạo các tham số mặc định hoặc tham số bắt đầu một mô hình. Trong những bài tập đầu tiên, để đơn giản constructor sẽ không sử dụng.\n",
    "- `build`: xây dựng kiến trúc của mô hình\n",
    "- `train`: bắt đầu quá trình huấn luyện mô hình\n",
    "- `save`: lưu lại mô hình sau khi đã huấn luyện\n",
    "- `load`: load lên mô hình từ file đã huấn luyện (pretrained)\n",
    "- `summary`: in tóm tắt kiến trúc mô hình\n",
    "- `predict`: dự đoán giá trị output từ dữ liệu đầu vào"
   ]
  },
  {
   "cell_type": "code",
   "execution_count": 1,
   "id": "4045ce28-ee6d-4e9b-a48a-f1735f301574",
   "metadata": {
    "deletable": false,
    "editable": false,
    "nbgrader": {
     "cell_type": "code",
     "checksum": "d9b238ae74e12b38c0ac8d7442967d56",
     "grade": false,
     "grade_id": "cell-126fc97be75a7453",
     "locked": true,
     "schema_version": 3,
     "solution": false,
     "task": false
    },
    "tags": []
   },
   "outputs": [],
   "source": [
    "# Mô hình cài đặt tổng quát bao gồm 7 phương thức cơ bản\n",
    "# Lưu ý: mô hình này chỉ mang tính gợi ý, không bắt buộc\n",
    "# Tuy nhiên, trong phần bài tập cần tuân theo các tên phương thức này\n",
    "class MyModel:\n",
    "    # constructor\n",
    "    def __init__(self):\n",
    "        return None\n",
    "  \n",
    "    # Implement architecture of the model\n",
    "    def build(self):\n",
    "        return None\n",
    "\n",
    "    # Train the defined model with training and validation data \n",
    "    def train(self):\n",
    "        return None\n",
    "\n",
    "    # Save the trained model to file\n",
    "    def save(self, model_path):\n",
    "        return None\n",
    "\n",
    "    # Load pretrained model from file\n",
    "    def load(self):\n",
    "        return None\n",
    "    # Visualize your model\n",
    "    def summary(self):\n",
    "        return None\n",
    "\n",
    "    # Apply your model with new input data\n",
    "    def predict(self):\n",
    "        return None"
   ]
  },
  {
   "cell_type": "markdown",
   "id": "498cd880-c80c-4d9a-9ca8-bff003cf2ae6",
   "metadata": {
    "deletable": false,
    "editable": false,
    "nbgrader": {
     "cell_type": "markdown",
     "checksum": "91058848e4d8a35e61983b4fd9e493de",
     "grade": false,
     "grade_id": "cell-449bbee0eee23e80",
     "locked": true,
     "schema_version": 3,
     "solution": false,
     "task": false
    },
    "tags": []
   },
   "source": [
    "## 1. Import các thư viện Keras\n",
    "\n",
    "Đầu tiên, ta sẽ import các thư viện, module, hàm của `Keras`:\n",
    "- `Input`: để nhận dữ liệu đầu vào cho mô hình\n",
    "- `Dense`: hay còn gọi là lớp Fully Connected (Lớp kết nối đầy đủ), một thành phần quan trọng của các mô hình dựa trên mạng Neural Network.\n",
    "- `Model`: đây là lớp đối tượng mô hình được sử dụng để đóng gói lớp đầu vào, đầu ra, sau đó huấn luyện với phương thức `fit` và dự đoán kết quả với `predict`.\n",
    "- `load_model`: hàm sử dụng để load mô hình lên từ file"
   ]
  },
  {
   "cell_type": "code",
   "execution_count": 2,
   "id": "1f4b4acb-157f-4309-96de-b8e7b01f6506",
   "metadata": {
    "deletable": false,
    "editable": false,
    "nbgrader": {
     "cell_type": "code",
     "checksum": "362deb48b42f34099c7bf7f0cf350fb3",
     "grade": false,
     "grade_id": "cell-57c79d33953aeef2",
     "locked": true,
     "schema_version": 3,
     "solution": false,
     "task": false
    },
    "tags": []
   },
   "outputs": [],
   "source": [
    "from keras.layers import Input, Dense\n",
    "from keras import Model\n",
    "import tensorflow as tf\n",
    "from keras.models import load_model"
   ]
  },
  {
   "cell_type": "markdown",
   "id": "04a833c1-4990-489c-bbac-968b578eac39",
   "metadata": {
    "deletable": false,
    "editable": false,
    "nbgrader": {
     "cell_type": "markdown",
     "checksum": "45e9e06440c105152f463718fff57b20",
     "grade": false,
     "grade_id": "cell-f72ad50b2c988c98",
     "locked": true,
     "schema_version": 3,
     "solution": false,
     "task": false
    },
    "tags": []
   },
   "source": [
    "## 2. Cài đặt mô hình Logistic Regression\n",
    "Tiếp theo, ta sẽ dựa trên khung đối tượng `MyModel` đã trình bày ở mục trước để tiến hành cài đặt mô hình **Logistic Regression**. Phương thức chính mà bài tập này cần thực hiện là `def build()`. Các phương thức còn lại đã được cài đặt sẵn, các bạn cần đọc, hiểu ý nghĩa và cách thức sử dụng về sau.\n",
    "\n",
    "<p align=\"center\">\n",
    "  <img src=\"LogisticReg.png\" />\n",
    "</p>"
   ]
  },
  {
   "cell_type": "code",
   "execution_count": 19,
   "id": "60b33717-b96f-4c9b-97f8-2e0eb49d7afa",
   "metadata": {
    "deletable": false,
    "nbgrader": {
     "cell_type": "code",
     "checksum": "93a615eb8241eb09f06be5af661c3f84",
     "grade": false,
     "grade_id": "cell-39579eccef29b960",
     "locked": false,
     "schema_version": 3,
     "solution": true,
     "task": false
    },
    "tags": []
   },
   "outputs": [],
   "source": [
    "# Logistic Regression\n",
    "class LogisticRegression:\n",
    "    def __init__(self): # Self is similar to your 'this' pointer in C++\n",
    "        return None\n",
    "\n",
    "    def build(self, input_dim):\n",
    "        \n",
    "        self.model = None\n",
    "        # Hãy cài đặt để định nghĩa KIẾN TRÚC MÔ HÌNH và lưu ở thuộc tính `self.model`\n",
    "        # với các biến đối tượng sau:\n",
    "        #  - tạo biến `input` với lớp đối tượng `Input` của Keras, \n",
    "        #    truyền vào kích thước đầu vào `input_dim`\n",
    "        #  - tạo biến `output` với lớp đối tượng `Dense` của Keras,\n",
    "        #    truyền vào các tham số:  kích thước output, có sử dụng bias, \n",
    "        #    CÓ SỬ DỤNG hàm activation là `sigmoid`\n",
    "        # Sau bước này, self.model sẽ đóng gói 2 biến `input` và `output` để tạo thành mô hình\n",
    "        # YOUR CODE HERE\n",
    "        input = Input(shape=(input_dim,))\n",
    "        \n",
    "        output = Dense(1, use_bias=True, activation='sigmoid')(input)\n",
    "        \n",
    "        self.model = Model(input, output)\n",
    "        return self.model\n",
    "\n",
    "    def train(self, x_train, y_train):\n",
    "        opt = tf.keras.optimizers.SGD(learning_rate=0.1) # Stochastic Gradient Descent\n",
    "        self.model.compile(optimizer=opt, loss='binary_crossentropy') # BCE loss\n",
    "        return self.model.fit(x_train, y_train, epochs=50)\n",
    "\n",
    "    def save(self, model_file):\n",
    "        return self.model.save(model_file)\n",
    "  \n",
    "    def load(self, model_file):\n",
    "        self.model = load_model(model_file)\n",
    "\n",
    "    def summary(self):\n",
    "        self.model.summary()\n",
    "\n",
    "    def predict(self, x_test):\n",
    "        return self.model.predict(x_test)\n",
    "  \n",
    "    def get_weights(self):\n",
    "        return self.model.layers[1].get_weights()"
   ]
  },
  {
   "cell_type": "markdown",
   "id": "97f6c731-3e41-4d71-988d-b41a6dfa2999",
   "metadata": {
    "deletable": false,
    "editable": false,
    "nbgrader": {
     "cell_type": "markdown",
     "checksum": "5b7ea614f7285bf47b15821593942e27",
     "grade": false,
     "grade_id": "cell-ac1cf2df36b35acb",
     "locked": true,
     "schema_version": 3,
     "solution": false,
     "task": false
    },
    "tags": []
   },
   "source": [
    "Tiếp theo, ta sẽ khởi tạo đối tượng LogisticRegression và kiểm tra thử xem phương `build` đã cài đặt chính xác chưa."
   ]
  },
  {
   "cell_type": "code",
   "execution_count": 12,
   "id": "74d6e729-8fcc-4464-9d1f-0e24da5629dc",
   "metadata": {
    "deletable": false,
    "editable": false,
    "nbgrader": {
     "cell_type": "code",
     "checksum": "a591b0f428457c3cb1e78c77406c3321",
     "grade": false,
     "grade_id": "cell-cb24e77ca4ff451e",
     "locked": true,
     "schema_version": 3,
     "solution": false,
     "task": false
    },
    "tags": []
   },
   "outputs": [
    {
     "data": {
      "text/plain": [
       "<keras.engine.functional.Functional at 0x25459a266b0>"
      ]
     },
     "execution_count": 12,
     "metadata": {},
     "output_type": "execute_result"
    }
   ],
   "source": [
    "lr = LogisticRegression()\n",
    "# Trong ví dụ này, ta sẽ khởi tạo input là một vector 1000 chiều:\n",
    "lr.build(1000)"
   ]
  },
  {
   "cell_type": "code",
   "execution_count": 13,
   "id": "9ca9fdb2-e913-4c1d-a858-48a3842f3436",
   "metadata": {
    "deletable": false,
    "editable": false,
    "nbgrader": {
     "cell_type": "code",
     "checksum": "bb48a0a656e5aea846b67ef76c6b009b",
     "grade": true,
     "grade_id": "cell-278fafeae5c407d0",
     "locked": true,
     "points": 5,
     "schema_version": 3,
     "solution": false,
     "task": false
    },
    "tags": []
   },
   "outputs": [],
   "source": [
    "# Kiểm tra kiến trúc mạng gồm 2 lớp: Input và Output\n",
    "assert len(lr.model.layers)==2\n",
    "assert str(type(lr.model.layers[0])).endswith(\"input_layer.InputLayer'>\") == True\n",
    "assert str(type(lr.model.layers[1])).endswith(\"core.dense.Dense'>\") == True\n",
    "assert lr.model.layers[0].input_shape[0][1] == 1000\n",
    "assert lr.model.layers[1].activation(0.0).numpy() == 0.5\n"
   ]
  },
  {
   "cell_type": "code",
   "execution_count": 14,
   "id": "a5589098-a98d-4356-b01c-c4c01139b1c3",
   "metadata": {
    "deletable": false,
    "editable": false,
    "nbgrader": {
     "cell_type": "code",
     "checksum": "2ee9383762bb4552b6d1cc7cb398e40d",
     "grade": true,
     "grade_id": "cell-05b9ba2de5ca007e",
     "locked": true,
     "points": 10,
     "schema_version": 3,
     "solution": false,
     "task": false
    },
    "tags": []
   },
   "outputs": [],
   "source": [
    "# Kiểm tra với bộ test ẩn"
   ]
  },
  {
   "cell_type": "markdown",
   "id": "834e8988-86a3-4914-8b48-5b1e0c26ef9f",
   "metadata": {
    "deletable": false,
    "editable": false,
    "nbgrader": {
     "cell_type": "markdown",
     "checksum": "feed24068c09e2bc604a8dc29e283c51",
     "grade": false,
     "grade_id": "cell-ac7a9ddf407c8762",
     "locked": true,
     "schema_version": 3,
     "solution": false,
     "task": false
    },
    "tags": []
   },
   "source": [
    "## 3. Tạo dữ liệu mẫu (toy example)\n",
    "Bước tiếp theo, ta sẽ tiến hành tạo mẫu dữ liệu để huấn luyện và kiểm thử.\n",
    "\n",
    "Dữ liệu được tạo ra là 02 cụm điểm ngẫu nhiên xung quanh hai tâm cụm:\n",
    "- [1, 5]\n",
    "- [5, 1]\n",
    "\n",
    "Lưu ý rằng, hai điểm này đủ cách xa để khi các điểm ngẫu nhiên phát sinh không giao thoa với nhau."
   ]
  },
  {
   "cell_type": "code",
   "execution_count": 15,
   "id": "e85e8cda-f476-4091-8bbc-e1c5c05a8c99",
   "metadata": {
    "deletable": false,
    "editable": false,
    "nbgrader": {
     "cell_type": "code",
     "checksum": "ffb923ebcad1d8b8983065c309696623",
     "grade": false,
     "grade_id": "cell-596b906e8b2db48f",
     "locked": true,
     "schema_version": 3,
     "solution": false,
     "task": false
    },
    "tags": []
   },
   "outputs": [
    {
     "data": {
      "text/plain": [
       "[<matplotlib.lines.Line2D at 0x25459d04cd0>]"
      ]
     },
     "execution_count": 15,
     "metadata": {},
     "output_type": "execute_result"
    },
    {
     "data": {
      "image/png": "[encoded data removed]",
      "text/plain": [
       "<Figure size 640x480 with 1 Axes>"
      ]
     },
     "metadata": {},
     "output_type": "display_data"
    }
   ],
   "source": [
    "import numpy as np\n",
    "import matplotlib.pyplot as plt\n",
    "\n",
    "n_sample = 10\n",
    "\n",
    "# Tạo bộ dữ  liệu gồm 2 tập đỏ và xanh\n",
    "red_points = np.random.randn(n_sample, 2) + np.array([[1,5]])\n",
    "blue_points = np.random.randn(n_sample, 2) + np.array([[5,1]])\n",
    "x_train = np.concatenate((red_points, blue_points)) \n",
    "y_train = np.concatenate((np.ones(n_sample), np.zeros(n_sample)))\n",
    "\n",
    "# Tạo tập dữ liệu validation\n",
    "red_points_test = np.random.randn(n_sample, 2) + np.array([[1,5]])\n",
    "blue_points_test = np.random.randn(n_sample, 2) + np.array([[5,1]])\n",
    "x_test = np.concatenate((red_points_test, blue_points_test)) \n",
    "y_test = np.concatenate((np.ones(n_sample), np.zeros(n_sample)))\n",
    "\n",
    "# Trực quan hóa dữ liệu bằng các hình tròn màu đỏ, xanh\n",
    "plt.plot(red_points[:,0], red_points[:,1], 'ro')\n",
    "plt.plot(blue_points[:,0], blue_points[:,1], 'bo')\n"
   ]
  },
  {
   "cell_type": "code",
   "execution_count": 20,
   "id": "8aa7ce32-4f59-4cee-ae56-25f0cd972886",
   "metadata": {
    "deletable": false,
    "nbgrader": {
     "cell_type": "code",
     "checksum": "bd99a94b1d93ca1cc38a396a5342c7fb",
     "grade": false,
     "grade_id": "cell-7b350a0e29be5844",
     "locked": false,
     "schema_version": 3,
     "solution": true,
     "task": false
    },
    "tags": []
   },
   "outputs": [
    {
     "name": "stdout",
     "output_type": "stream",
     "text": [
      "Kiến trúc của mô hình Logistic Regression: \n",
      "Model: \"model_4\"\n",
      "_________________________________________________________________\n",
      " Layer (type)                Output Shape              Param #   \n",
      "=================================================================\n",
      " input_5 (InputLayer)        [(None, 2)]               0         \n",
      "                                                                 \n",
      " dense_4 (Dense)             (None, 1)                 3         \n",
      "                                                                 \n",
      "=================================================================\n",
      "Total params: 3\n",
      "Trainable params: 3\n",
      "Non-trainable params: 0\n",
      "_________________________________________________________________\n"
     ]
    }
   ],
   "source": [
    "lr = LogisticRegression()\n",
    "\n",
    "# Hãy gọi phương thức `build` cho đối tượng `lr` và truyền tham số đầu vào\n",
    "# tương ứng với dữ liệu train đã phát sinh ở code block trên\n",
    "# Theo bạn, `input_dim` bằng bao nhiêu?\n",
    "\n",
    "# YOUR CODE HERE\n",
    "input_dim = 2\n",
    "lr.build(input_dim)\n",
    "\n",
    "# Để hiển thị kiến trúc của mô hình ta gọi phương thức `summary`\n",
    "print(\"Kiến trúc của mô hình Logistic Regression: \")\n",
    "lr.summary()"
   ]
  },
  {
   "cell_type": "code",
   "execution_count": 21,
   "id": "0c6a3f9c-d529-4e33-968f-ef924a7f7ef7",
   "metadata": {
    "deletable": false,
    "editable": false,
    "nbgrader": {
     "cell_type": "code",
     "checksum": "bc6fc50e4c7769eaedafd0a00290d063",
     "grade": true,
     "grade_id": "cell-cf64170f2b98a6d3",
     "locked": true,
     "points": 5,
     "schema_version": 3,
     "solution": false,
     "task": false
    },
    "tags": []
   },
   "outputs": [],
   "source": [
    "# Kiểm tra bước gọi phương thức `build`"
   ]
  },
  {
   "cell_type": "code",
   "execution_count": 22,
   "id": "7f34ecff-3ef0-497f-bcd0-c138cb7b7af3",
   "metadata": {
    "deletable": false,
    "editable": false,
    "nbgrader": {
     "cell_type": "code",
     "checksum": "e0149decc795274ee8e5ad4b274c6ed1",
     "grade": false,
     "grade_id": "cell-9ba3148b1e8aacd3",
     "locked": true,
     "schema_version": 3,
     "solution": false,
     "task": false
    },
    "tags": []
   },
   "outputs": [
    {
     "name": "stdout",
     "output_type": "stream",
     "text": [
      "Epoch 1/50\n"
     ]
    },
    {
     "name": "stdout",
     "output_type": "stream",
     "text": [
      "1/1 [==============================] - 0s 328ms/step - loss: 0.1327\n",
      "Epoch 2/50\n",
      "1/1 [==============================] - 0s 2ms/step - loss: 0.1220\n",
      "Epoch 3/50\n",
      "1/1 [==============================] - 0s 2ms/step - loss: 0.1136\n",
      "Epoch 4/50\n",
      "1/1 [==============================] - 0s 2ms/step - loss: 0.1067\n",
      "Epoch 5/50\n",
      "1/1 [==============================] - 0s 2ms/step - loss: 0.1008\n",
      "Epoch 6/50\n",
      "1/1 [==============================] - 0s 2ms/step - loss: 0.0958\n",
      "Epoch 7/50\n",
      "1/1 [==============================] - 0s 2ms/step - loss: 0.0913\n",
      "Epoch 8/50\n",
      "1/1 [==============================] - 0s 2ms/step - loss: 0.0874\n",
      "Epoch 9/50\n",
      "1/1 [==============================] - 0s 3ms/step - loss: 0.0838\n",
      "Epoch 10/50\n",
      "1/1 [==============================] - 0s 2ms/step - loss: 0.0806\n",
      "Epoch 11/50\n",
      "1/1 [==============================] - 0s 2ms/step - loss: 0.0776\n",
      "Epoch 12/50\n",
      "1/1 [==============================] - 0s 2ms/step - loss: 0.0749\n",
      "Epoch 13/50\n",
      "1/1 [==============================] - 0s 995us/step - loss: 0.0724\n",
      "Epoch 14/50\n",
      "1/1 [==============================] - 0s 2ms/step - loss: 0.0701\n",
      "Epoch 15/50\n",
      "1/1 [==============================] - 0s 2ms/step - loss: 0.0680\n",
      "Epoch 16/50\n",
      "1/1 [==============================] - 0s 1ms/step - loss: 0.0660\n",
      "Epoch 17/50\n",
      "1/1 [==============================] - 0s 2ms/step - loss: 0.0641\n",
      "Epoch 18/50\n",
      "1/1 [==============================] - 0s 1ms/step - loss: 0.0623\n",
      "Epoch 19/50\n",
      "1/1 [==============================] - 0s 2ms/step - loss: 0.0606\n",
      "Epoch 20/50\n",
      "1/1 [==============================] - 0s 2ms/step - loss: 0.0591\n",
      "Epoch 21/50\n",
      "1/1 [==============================] - 0s 2ms/step - loss: 0.0576\n",
      "Epoch 22/50\n",
      "1/1 [==============================] - 0s 3ms/step - loss: 0.0562\n",
      "Epoch 23/50\n",
      "1/1 [==============================] - 0s 2ms/step - loss: 0.0548\n",
      "Epoch 24/50\n",
      "1/1 [==============================] - 0s 2ms/step - loss: 0.0536\n",
      "Epoch 25/50\n",
      "1/1 [==============================] - 0s 2ms/step - loss: 0.0523\n",
      "Epoch 26/50\n",
      "1/1 [==============================] - 0s 2ms/step - loss: 0.0512\n",
      "Epoch 27/50\n",
      "1/1 [==============================] - 0s 2ms/step - loss: 0.0501\n",
      "Epoch 28/50\n",
      "1/1 [==============================] - 0s 2ms/step - loss: 0.0491\n",
      "Epoch 29/50\n",
      "1/1 [==============================] - 0s 2ms/step - loss: 0.0481\n",
      "Epoch 30/50\n",
      "1/1 [==============================] - 0s 2ms/step - loss: 0.0471\n",
      "Epoch 31/50\n",
      "1/1 [==============================] - 0s 2ms/step - loss: 0.0462\n",
      "Epoch 32/50\n",
      "1/1 [==============================] - 0s 2ms/step - loss: 0.0453\n",
      "Epoch 33/50\n",
      "1/1 [==============================] - 0s 2ms/step - loss: 0.0445\n",
      "Epoch 34/50\n",
      "1/1 [==============================] - 0s 2ms/step - loss: 0.0436\n",
      "Epoch 35/50\n",
      "1/1 [==============================] - 0s 2ms/step - loss: 0.0429\n",
      "Epoch 36/50\n",
      "1/1 [==============================] - 0s 2ms/step - loss: 0.0421\n",
      "Epoch 37/50\n",
      "1/1 [==============================] - 0s 2ms/step - loss: 0.0414\n",
      "Epoch 38/50\n",
      "1/1 [==============================] - 0s 2ms/step - loss: 0.0407\n",
      "Epoch 39/50\n",
      "1/1 [==============================] - 0s 2ms/step - loss: 0.0400\n",
      "Epoch 40/50\n",
      "1/1 [==============================] - 0s 2ms/step - loss: 0.0394\n",
      "Epoch 41/50\n",
      "1/1 [==============================] - 0s 3ms/step - loss: 0.0387\n",
      "Epoch 42/50\n",
      "1/1 [==============================] - 0s 2ms/step - loss: 0.0381\n",
      "Epoch 43/50\n",
      "1/1 [==============================] - 0s 2ms/step - loss: 0.0375\n",
      "Epoch 44/50\n",
      "1/1 [==============================] - 0s 1000us/step - loss: 0.0370\n",
      "Epoch 45/50\n",
      "1/1 [==============================] - 0s 2ms/step - loss: 0.0364\n",
      "Epoch 46/50\n",
      "1/1 [==============================] - 0s 2ms/step - loss: 0.0359\n",
      "Epoch 47/50\n",
      "1/1 [==============================] - 0s 2ms/step - loss: 0.0354\n",
      "Epoch 48/50\n",
      "1/1 [==============================] - 0s 2ms/step - loss: 0.0349\n",
      "Epoch 49/50\n",
      "1/1 [==============================] - 0s 2ms/step - loss: 0.0344\n",
      "Epoch 50/50\n",
      "1/1 [==============================] - 0s 3ms/step - loss: 0.0339\n"
     ]
    }
   ],
   "source": [
    "# Để huấn luyện mô hình ta gọi phương thức `train` với dữ liệu mẫu đã tạo được\n",
    "# Nếu bước `build` mô hình gọi đúng thì bước `train` sau sẽ thực hiện thành công\n",
    "hist = lr.train(x_train, y_train)"
   ]
  },
  {
   "cell_type": "code",
   "execution_count": 23,
   "id": "44d04e58-792d-40e7-b4c5-01b4e0a582df",
   "metadata": {
    "deletable": false,
    "editable": false,
    "nbgrader": {
     "cell_type": "code",
     "checksum": "1eee35f30b79c20b3d1e1879203a74fb",
     "grade": false,
     "grade_id": "cell-410570417a6e9fdd",
     "locked": true,
     "schema_version": 3,
     "solution": false,
     "task": false
    },
    "tags": []
   },
   "outputs": [
    {
     "data": {
      "image/png": "[encoded data removed]",
      "text/plain": [
       "<Figure size 640x480 with 1 Axes>"
      ]
     },
     "metadata": {},
     "output_type": "display_data"
    }
   ],
   "source": [
    "# Hiển thị loss theo số epoch\n",
    "plt.plot(hist.history['loss'])\n",
    "plt.title('Model Loss')\n",
    "plt.ylabel('loss')\n",
    "plt.xlabel('epoch')\n",
    "plt.show()"
   ]
  },
  {
   "cell_type": "code",
   "execution_count": 24,
   "id": "3fb633a4-92b1-4d1d-a189-df8b64bca31d",
   "metadata": {
    "deletable": false,
    "editable": false,
    "nbgrader": {
     "cell_type": "code",
     "checksum": "010501af07b903cc29debee92b93c433",
     "grade": false,
     "grade_id": "cell-bbe1e1b3f7109f67",
     "locked": true,
     "schema_version": 3,
     "solution": false,
     "task": false
    },
    "tags": []
   },
   "outputs": [],
   "source": [
    "# Sau khi đã huấn luyện, ta lưu mô hình về để sau này tái sử dụng\n",
    "# Lưu ý: hai phương thức lưu mô hình `save` và tải mô hình lên 'load'\n",
    "# được sử dụng khi muốn tái sử dụng nhiều lần mà KHÔNG CẦN PHẢI HUẤN LUYỆN LẠI\n",
    "lr.save('logistic_regression_model.h5')"
   ]
  },
  {
   "cell_type": "markdown",
   "id": "f3552f10-3e91-425d-b34f-b45da7d84a6c",
   "metadata": {},
   "source": [
    "## 5. Trực quan hóa mô hình và dự đoán với dữ liệu test"
   ]
  },
  {
   "cell_type": "code",
   "execution_count": 25,
   "id": "734b3a8b-8f30-4acb-a92a-471ee4c3b052",
   "metadata": {
    "deletable": false,
    "editable": false,
    "nbgrader": {
     "cell_type": "code",
     "checksum": "4b69b1f1faa19b97da2758df7a4ccae7",
     "grade": false,
     "grade_id": "cell-6caaefefab9d0f32",
     "locked": true,
     "schema_version": 3,
     "solution": false,
     "task": false
    },
    "tags": []
   },
   "outputs": [],
   "source": [
    "# Khởi tạo đối tượng mới và gọi phương thức load mô hình từ file\n",
    "pretrain_lr = LogisticRegression()\n",
    "pretrain_lr.load('logistic_regression_model.h5')"
   ]
  },
  {
   "cell_type": "code",
   "execution_count": 26,
   "id": "dd9a079b-2dd4-49f6-b766-d16fe4358b55",
   "metadata": {
    "deletable": false,
    "editable": false,
    "nbgrader": {
     "cell_type": "code",
     "checksum": "2c2097c275f3544560771f910f88b18c",
     "grade": false,
     "grade_id": "cell-4c57bf1e1c1fe3c9",
     "locked": true,
     "schema_version": 3,
     "solution": false,
     "task": false
    },
    "tags": []
   },
   "outputs": [
    {
     "name": "stdout",
     "output_type": "stream",
     "text": [
      "Tham số tối ưu: \n",
      "[array([[-0.9569734],\n",
      "       [ 1.0509117]], dtype=float32), array([-0.02874779], dtype=float32)]\n",
      "Trong đó: \n",
      "   - bias (hệ số tự do) :  -0.028747786\n",
      "   - theta1 (hệ số cho dữ liệu x1):  -0.9569734\n",
      "   - theta2 (hệ số cho dữ liệu x2):  1.0509117\n"
     ]
    }
   ],
   "source": [
    "theta = pretrain_lr.get_weights()\n",
    "print('Tham số tối ưu: ')\n",
    "print(theta)\n",
    "bias = theta[1][0] # bias chính là theta0 trong mô hình gốc\n",
    "theta1 = theta[0][0][0]\n",
    "theta2 = theta[0][1][0]\n",
    "print('Trong đó: ')\n",
    "print('   - bias (hệ số tự do) : ', bias)\n",
    "print('   - theta1 (hệ số cho dữ liệu x1): ', theta1)\n",
    "print('   - theta2 (hệ số cho dữ liệu x2): ', theta2)"
   ]
  },
  {
   "cell_type": "code",
   "execution_count": 27,
   "id": "6d32360d-f18c-4c90-85af-1a4df14d8ae6",
   "metadata": {
    "deletable": false,
    "editable": false,
    "nbgrader": {
     "cell_type": "code",
     "checksum": "f4f0ff86ba92d16d41f771bea027b4b0",
     "grade": false,
     "grade_id": "cell-1ad67705d50f701d",
     "locked": true,
     "schema_version": 3,
     "solution": false,
     "task": false
    },
    "tags": []
   },
   "outputs": [
    {
     "data": {
      "image/png": "[encoded data removed]",
      "text/plain": [
       "<Figure size 640x480 with 1 Axes>"
      ]
     },
     "metadata": {},
     "output_type": "display_data"
    }
   ],
   "source": [
    "# Trực quan hóa dữ liệu và mô hình sau khi huấn luyện\n",
    "plt.plot(red_points[:,0], red_points[:,1], 'ro')\n",
    "plt.plot(blue_points[:,0], blue_points[:,1], 'bo')\n",
    "\n",
    "# Trực quan hóa đường thẳng phân lớp 2 tập đỏ, xanh\n",
    "# Khoảng giá trị nhỏ nhất và lớn nhất mà x1 có thể nhận được từ 0-6\n",
    "x1=[0, 6] \n",
    "# Tính giá trị x2 dựa trên phương trình đường thẳng:\n",
    "# theta1*x1 + theta2*x2 + bias = 0\n",
    "# => x2 = -(theta1*x1 + bias)/theta2\n",
    "x2=[-(theta1*x1[0]+bias)/theta2, -(theta1*x1[-1]+bias)/theta2]\n",
    "plt.plot(x1, x2)\n",
    "plt.show()"
   ]
  },
  {
   "cell_type": "markdown",
   "id": "f6d90f1f-8ff1-49f7-9c4b-a099ca7bfed8",
   "metadata": {
    "deletable": false,
    "editable": false,
    "nbgrader": {
     "cell_type": "markdown",
     "checksum": "ed76fe1986bf8b036fa6066d77577e99",
     "grade": false,
     "grade_id": "cell-64f389b662b21977",
     "locked": true,
     "schema_version": 3,
     "solution": false,
     "task": false
    },
    "tags": []
   },
   "source": [
    "Như vậy ta có thể thấy rằng, các hệ số đã huấn luyện tương ứng đã tạo thành phương trình đường thẳng chia tách các điểm huấn luyện đỏ và xanh."
   ]
  },
  {
   "cell_type": "code",
   "execution_count": 28,
   "id": "771bd466-09b3-4baf-b746-7ca63c50e095",
   "metadata": {
    "deletable": false,
    "editable": false,
    "nbgrader": {
     "cell_type": "code",
     "checksum": "65fb9096e3e0c8421c003f6a8c701d98",
     "grade": false,
     "grade_id": "cell-179da7d7be1454f7",
     "locked": true,
     "schema_version": 3,
     "solution": false,
     "task": false
    },
    "tags": []
   },
   "outputs": [
    {
     "name": "stdout",
     "output_type": "stream",
     "text": [
      "1/1 [==============================] - 0s 47ms/step\n",
      "Giá trị nhãn dự đoán trên tập test: \n",
      "[1. 1. 1. 1. 1. 1. 1. 1. 1. 1. 0. 0. 0. 0. 0. 0. 0. 0. 0. 0.]\n",
      "Giá trị nhãn phát sinh (tập test): \n",
      "[1. 1. 1. 1. 1. 1. 1. 1. 1. 1. 0. 0. 0. 0. 0. 0. 0. 0. 0. 0.]\n"
     ]
    }
   ],
   "source": [
    "# Sai số trung bình khi thử nghiệm trên  tập test:\n",
    "y_pred = lr.predict(x_test)[:,0]\n",
    "y_pred[y_pred >= 0.5] = 1\n",
    "y_pred[y_pred < 0.5] = 0\n",
    "print('Giá trị nhãn dự đoán trên tập test: ')\n",
    "print(y_pred)\n",
    "print('Giá trị nhãn phát sinh (tập test): ')\n",
    "print(y_test)"
   ]
  },
  {
   "cell_type": "markdown",
   "id": "00cb135c-e154-40fa-bf8b-16c926357919",
   "metadata": {
    "deletable": false,
    "editable": false,
    "nbgrader": {
     "cell_type": "markdown",
     "checksum": "c5100dbe33b48fddcf42076eecc4cbde",
     "grade": false,
     "grade_id": "cell-7c27476a9e38e75d",
     "locked": true,
     "schema_version": 3,
     "solution": false,
     "task": false
    },
    "tags": []
   },
   "source": [
    "Như ta đã thấy, giá trị dự đoán `y_pred` **gần như chính xác** so với dữ liệu phát sinh `y_test`. Sẽ có tình huống `y_pred` không khớp với `y_test`, phụ thuộc vào yếu tố nhiễu khi tạo sinh dữ liệu.\n",
    "\n",
    "Để tính tổng độ chính xác (Accuracy), ta đếm tổng số mẫu mà giá trị dự đoán khớp với giá trị phát sinh, sau đó chia cho tổng số mẫu:"
   ]
  },
  {
   "cell_type": "code",
   "execution_count": 30,
   "id": "9b0274cb-2348-4882-826c-2471254c0fdb",
   "metadata": {
    "deletable": false,
    "nbgrader": {
     "cell_type": "code",
     "checksum": "2b46aa700329ba730cbb3ca8b9f93610",
     "grade": false,
     "grade_id": "cell-7fc5dee8a7eaf0a3",
     "locked": false,
     "schema_version": 3,
     "solution": true,
     "task": false
    },
    "tags": []
   },
   "outputs": [],
   "source": [
    "def accuracy(y_pred, y_test):\n",
    "    acc = None\n",
    "    # Cài đặt biến `acc` chứa độ chính xác theo %\n",
    "    # với công thức tính bằng tổng số mẫu dự đoán đúng \n",
    "    # (`y_pred` và `y_test` khớp nhau) chia cho tổng số mẫu\n",
    "    # của tập test. \n",
    "    # Lưu ý: giá trị nhỏ nhất là 0%, lớn nhất là 100%\n",
    "    # YOUR CODE HERE\n",
    "    nb_correct = (y_pred == y_test).sum()\n",
    "    nb_sample = len(y_test)\n",
    "    \n",
    "    acc = (nb_correct / nb_sample) * 100\n",
    "    return acc"
   ]
  },
  {
   "cell_type": "code",
   "execution_count": 31,
   "id": "d0bb8bc0-f7dc-4173-a9bc-c5434f193932",
   "metadata": {
    "deletable": false,
    "editable": false,
    "nbgrader": {
     "cell_type": "code",
     "checksum": "d8601c8c4256b88336712829a11e9a1e",
     "grade": false,
     "grade_id": "cell-0ff379cb8aa1d20f",
     "locked": true,
     "schema_version": 3,
     "solution": false,
     "task": false
    },
    "tags": []
   },
   "outputs": [
    {
     "name": "stdout",
     "output_type": "stream",
     "text": [
      "Độ chính xác trên tập test:  100.0 (%)\n"
     ]
    }
   ],
   "source": [
    "print(\"Độ chính xác trên tập test: \", accuracy(y_pred, y_test), \"(%)\")"
   ]
  },
  {
   "cell_type": "code",
   "execution_count": 32,
   "id": "26e86721-179d-4468-80e9-2caa28258ebc",
   "metadata": {
    "deletable": false,
    "editable": false,
    "nbgrader": {
     "cell_type": "code",
     "checksum": "e542cdde0170f6e38629629c7a232b02",
     "grade": true,
     "grade_id": "cell-764540b103774c74",
     "locked": true,
     "points": 5,
     "schema_version": 3,
     "solution": false,
     "task": false
    },
    "tags": []
   },
   "outputs": [],
   "source": [
    "# Kiểm tra với một số bộ test mở\n",
    "assert accuracy(np.array([1, 1]), np.array([0, 1])) == 50.0\n",
    "assert accuracy(np.array([1, 0, 1]), np.array([0, 1, 0])) == 0.0"
   ]
  },
  {
   "cell_type": "code",
   "execution_count": 33,
   "id": "3aac9594-601c-456e-a193-d7d5859c4f89",
   "metadata": {
    "deletable": false,
    "editable": false,
    "nbgrader": {
     "cell_type": "code",
     "checksum": "cc4e498af1c3e39357c94dd8b8454d40",
     "grade": true,
     "grade_id": "cell-d19b40edc82ecb8f",
     "locked": true,
     "points": 5,
     "schema_version": 3,
     "solution": false,
     "task": false
    },
    "tags": []
   },
   "outputs": [],
   "source": [
    "# Kiểm tra với bộ test ẩn"
   ]
  },
  {
   "cell_type": "code",
   "execution_count": null,
   "id": "10caeb5e",
   "metadata": {},
   "outputs": [],
   "source": []
  }
 ],
 "metadata": {
  "kernelspec": {
   "display_name": "Python 3 (ipykernel)",
   "language": "python",
   "name": "python3"
  },
  "language_info": {
   "codemirror_mode": {
    "name": "ipython",
    "version": 3
   },
   "file_extension": ".py",
   "mimetype": "text/x-python",
   "name": "python",
   "nbconvert_exporter": "python",
   "pygments_lexer": "ipython3",
   "version": "3.10.7"
  }
 },
 "nbformat": 4,
 "nbformat_minor": 5
}
