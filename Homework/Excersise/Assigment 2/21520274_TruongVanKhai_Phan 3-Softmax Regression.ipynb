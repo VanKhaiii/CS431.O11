{
 "cells": [
  {
   "attachments": {},
   "cell_type": "markdown",
   "id": "806692d4",
   "metadata": {},
   "source": [
    "# MODULE CS431 - CÁC KỸ THUẬT HỌC SÂU VÀ ỨNG DỤNG\n",
    "\n",
    "**Hướng dẫn**:\n",
    "- Khởi động kernel: Ở thanh menu, chọn Kernel$\\rightarrow$Restart kernel.\n",
    "- Hoàn tất tất cả các mục có comment `YOUR CODE HERE`\n",
    "- Chạy toàn bộ các block code để kiểm tra: Ở thanh menu, chọn Cell$\\rightarrow$Run All."
   ]
  },
  {
   "cell_type": "markdown",
   "id": "2501df60",
   "metadata": {},
   "source": [
    "---"
   ]
  },
  {
   "cell_type": "markdown",
   "id": "32d8e798-415f-437f-9595-395432d2f6ea",
   "metadata": {
    "deletable": false,
    "editable": false,
    "nbgrader": {
     "cell_type": "markdown",
     "checksum": "e3f5916c8dc9fc934d7a81432306bc8c",
     "grade": false,
     "grade_id": "cell-cd8ada6364a44dde",
     "locked": true,
     "schema_version": 3,
     "solution": false,
     "task": false
    },
    "tags": []
   },
   "source": [
    "# CÀI ĐẶT MÔ HÌNH SOFTMAX REGRESSION VỚI KERAS"
   ]
  },
  {
   "cell_type": "markdown",
   "id": "fd050030-303d-46a5-814b-39eb047ad932",
   "metadata": {
    "deletable": false,
    "editable": false,
    "nbgrader": {
     "cell_type": "markdown",
     "checksum": "30977e2983aaebcf2baeee83d603d3ff",
     "grade": false,
     "grade_id": "cell-0bffba57d1ad9cb3",
     "locked": true,
     "schema_version": 3,
     "solution": false,
     "task": false
    },
    "tags": []
   },
   "source": [
    "Một mô hình máy học cần có đủ ít nhất 7 phương thức sau:\n",
    "- `__init__`: hàm constructor trong hướng đối tượng, được sử dụng để khởi tạo các tham số mặc định hoặc tham số bắt đầu một mô hình. Trong những bài tập đầu tiên, để đơn giản constructor sẽ không sử dụng.\n",
    "- `build`: xây dựng kiến trúc của mô hình\n",
    "- `train`: bắt đầu quá trình huấn luyện mô hình\n",
    "- `save`: lưu lại mô hình sau khi đã huấn luyện\n",
    "- `load`: load lên mô hình từ file đã huấn luyện (pretrained)\n",
    "- `summary`: in tóm tắt kiến trúc mô hình\n",
    "- `predict`: dự đoán giá trị output từ dữ liệu đầu vào"
   ]
  },
  {
   "cell_type": "code",
   "execution_count": 1,
   "id": "4045ce28-ee6d-4e9b-a48a-f1735f301574",
   "metadata": {
    "deletable": false,
    "editable": false,
    "nbgrader": {
     "cell_type": "code",
     "checksum": "d9b238ae74e12b38c0ac8d7442967d56",
     "grade": false,
     "grade_id": "cell-126fc97be75a7453",
     "locked": true,
     "schema_version": 3,
     "solution": false,
     "task": false
    },
    "tags": []
   },
   "outputs": [],
   "source": [
    "# Mô hình cài đặt tổng quát bao gồm 7 phương thức cơ bản\n",
    "# Lưu ý: mô hình này chỉ mang tính gợi ý, không bắt buộc\n",
    "# Tuy nhiên, trong phần bài tập cần tuân theo các tên phương thức này\n",
    "class MyModel:\n",
    "    # constructor\n",
    "    def __init__(self):\n",
    "        return None\n",
    "  \n",
    "    # Implement architecture of the model\n",
    "    def build(self):\n",
    "        return None\n",
    "\n",
    "    # Train the defined model with training and validation data \n",
    "    def train(self):\n",
    "        return None\n",
    "\n",
    "    # Save the trained model to file\n",
    "    def save(self, model_path):\n",
    "        return None\n",
    "\n",
    "    # Load pretrained model from file\n",
    "    def load(self):\n",
    "        return None\n",
    "    # Visualize your model\n",
    "    def summary(self):\n",
    "        return None\n",
    "\n",
    "    # Apply your model with new input data\n",
    "    def predict(self):\n",
    "        return None"
   ]
  },
  {
   "cell_type": "markdown",
   "id": "498cd880-c80c-4d9a-9ca8-bff003cf2ae6",
   "metadata": {
    "deletable": false,
    "editable": false,
    "nbgrader": {
     "cell_type": "markdown",
     "checksum": "91058848e4d8a35e61983b4fd9e493de",
     "grade": false,
     "grade_id": "cell-449bbee0eee23e80",
     "locked": true,
     "schema_version": 3,
     "solution": false,
     "task": false
    },
    "tags": []
   },
   "source": [
    "## 1. Import các thư viện Keras\n",
    "\n",
    "Đầu tiên, ta sẽ import các thư viện, module, hàm của `Keras`:\n",
    "- `Input`: để nhận dữ liệu đầu vào cho mô hình\n",
    "- `Dense`: hay còn gọi là lớp Fully Connected (Lớp kết nối đầy đủ), một thành phần quan trọng của các mô hình dựa trên mạng Neural Network.\n",
    "- `Model`: đây là lớp đối tượng mô hình được sử dụng để đóng gói lớp đầu vào, đầu ra, sau đó huấn luyện với phương thức `fit` và dự đoán kết quả với `predict`.\n",
    "- `load_model`: hàm sử dụng để load mô hình lên từ file"
   ]
  },
  {
   "cell_type": "code",
   "execution_count": 2,
   "id": "1f4b4acb-157f-4309-96de-b8e7b01f6506",
   "metadata": {
    "deletable": false,
    "editable": false,
    "nbgrader": {
     "cell_type": "code",
     "checksum": "734892ca26e766ec6ea542521dc4bee6",
     "grade": false,
     "grade_id": "cell-57c79d33953aeef2",
     "locked": true,
     "schema_version": 3,
     "solution": false,
     "task": false
    },
    "tags": []
   },
   "outputs": [],
   "source": [
    "from keras.layers import Input, Dense\n",
    "from keras import Model\n",
    "import tensorflow as tf\n",
    "from keras.models import load_model\n",
    "import numpy as np"
   ]
  },
  {
   "attachments": {},
   "cell_type": "markdown",
   "id": "04a833c1-4990-489c-bbac-968b578eac39",
   "metadata": {
    "deletable": false,
    "editable": false,
    "nbgrader": {
     "cell_type": "markdown",
     "checksum": "888e71dbf3973c5f67b50d68edd67716",
     "grade": false,
     "grade_id": "cell-f72ad50b2c988c98",
     "locked": true,
     "schema_version": 3,
     "solution": false,
     "task": false
    },
    "tags": []
   },
   "source": [
    "## 2. Cài đặt mô hình Softmax Regression\n",
    "Tiếp theo, ta sẽ dựa trên khung đối tượng `MyModel` đã trình bày ở mục trước để tiến hành cài đặt mô hình **Softmax Regression**. Phương thức chính mà bài tập này cần thực hiện là `def build()`. Các phương thức còn lại đã được cài đặt sẵn, các bạn cần đọc, hiểu ý nghĩa và cách thức sử dụng về sau.\n"
   ]
  },
  {
   "attachments": {},
   "cell_type": "markdown",
   "id": "b731f5bf",
   "metadata": {},
   "source": [
    "![SoftmaxReg.png](data:image/png;base64,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)"
   ]
  },
  {
   "cell_type": "code",
   "execution_count": 3,
   "id": "60b33717-b96f-4c9b-97f8-2e0eb49d7afa",
   "metadata": {
    "deletable": false,
    "nbgrader": {
     "cell_type": "code",
     "checksum": "c4899aec45cc1cc31e3e72acde5e3f01",
     "grade": false,
     "grade_id": "cell-39579eccef29b960",
     "locked": false,
     "schema_version": 3,
     "solution": true,
     "task": false
    },
    "tags": []
   },
   "outputs": [],
   "source": [
    "# Softmax Regression\n",
    "class SoftmaxRegression:\n",
    "    def __init__(self): # Self is similar to your 'this' pointer in C++\n",
    "        return None\n",
    "\n",
    "    def build(self, input_dim, output_dim):\n",
    "        # `input_dim`: kích thước input feature\n",
    "        # `output_dim`: số phân lớp cần phân loại\n",
    "        \n",
    "        # Khởi tạo model\n",
    "        self.model = None\n",
    "        \n",
    "        # Hãy cài đặt để định nghĩa KIẾN TRÚC MÔ HÌNH và lưu ở thuộc tính `self.model`\n",
    "        # với các biến đối tượng sau:\n",
    "        #  - tạo biến `input` với lớp đối tượng `Input` của Keras, \n",
    "        #    truyền vào kích thước đầu vào `input_dim`\n",
    "        #  - tạo biến `output` với lớp đối tượng `Dense` của Keras,\n",
    "        #    truyền vào các tham số:  kích thước output (chú ý PHÂN LOẠI ĐA LỚP),\n",
    "        #    có sử dụng bias, CÓ SỬ DỤNG hàm activation là `softmax`.\n",
    "        # Sau bước này, self.model sẽ đóng gói 2 biến `input` và `output` để tạo thành mô hình\n",
    "        # YOUR CODE HERE\n",
    "        input = Input(shape=(input_dim,))\n",
    "        \n",
    "        output = Dense(output_dim, use_bias=True, activation='softmax')(input)\n",
    "        \n",
    "        self.model = Model(input, output)\n",
    "        \n",
    "        return self.model\n",
    "\n",
    "    def train(self, x_train, y_train):\n",
    "        opt = tf.keras.optimizers.SGD(learning_rate=0.01) # Stochastic Gradient Descent\n",
    "        self.model.compile(optimizer=opt, loss='categorical_crossentropy') # CCE loss\n",
    "        return self.model.fit(x_train, y_train, epochs=100)\n",
    "\n",
    "    def save(self, model_file):\n",
    "        return self.model.save(model_file)\n",
    "  \n",
    "    def load(self, model_file):\n",
    "        self.model = load_model(model_file)\n",
    "\n",
    "    def summary(self):\n",
    "        self.model.summary()\n",
    "\n",
    "    def predict(self, x_test):\n",
    "        return self.model.predict(x_test)\n",
    "  \n",
    "    def get_weights(self):\n",
    "        return self.model.layers[1].get_weights()"
   ]
  },
  {
   "cell_type": "markdown",
   "id": "97f6c731-3e41-4d71-988d-b41a6dfa2999",
   "metadata": {
    "deletable": false,
    "editable": false,
    "nbgrader": {
     "cell_type": "markdown",
     "checksum": "a24196eaa4ea9715cfca7214929bd0d2",
     "grade": false,
     "grade_id": "cell-ac1cf2df36b35acb",
     "locked": true,
     "schema_version": 3,
     "solution": false,
     "task": false
    },
    "tags": []
   },
   "source": [
    "Tiếp theo, ta sẽ khởi tạo đối tượng SoftmaxRegression và kiểm tra thử xem phương `build` đã cài đặt chính xác chưa."
   ]
  },
  {
   "cell_type": "code",
   "execution_count": 4,
   "id": "74d6e729-8fcc-4464-9d1f-0e24da5629dc",
   "metadata": {
    "deletable": false,
    "editable": false,
    "nbgrader": {
     "cell_type": "code",
     "checksum": "9ce95f5c6c42b3250bf6d28c1a6aed77",
     "grade": false,
     "grade_id": "cell-cb24e77ca4ff451e",
     "locked": true,
     "schema_version": 3,
     "solution": false,
     "task": false
    },
    "tags": []
   },
   "outputs": [
    {
     "data": {
      "text/plain": [
       "<keras.engine.functional.Functional at 0x27056736560>"
      ]
     },
     "execution_count": 4,
     "metadata": {},
     "output_type": "execute_result"
    }
   ],
   "source": [
    "sr = SoftmaxRegression()\n",
    "# Trong ví dụ này, ta sẽ khởi tạo input là một vector 1000 chiều, \n",
    "# bài toán cần phân loại 20 lớp đối tượng.\n",
    "sr.build(1000, 20)"
   ]
  },
  {
   "cell_type": "code",
   "execution_count": 5,
   "id": "9ca9fdb2-e913-4c1d-a858-48a3842f3436",
   "metadata": {
    "deletable": false,
    "editable": false,
    "nbgrader": {
     "cell_type": "code",
     "checksum": "e9f11898cdefd1f2a4c9b0505bace746",
     "grade": true,
     "grade_id": "cell-278fafeae5c407d0",
     "locked": true,
     "points": 5,
     "schema_version": 3,
     "solution": false,
     "task": false
    },
    "tags": []
   },
   "outputs": [],
   "source": [
    "# Kiểm tra kiến trúc mạng gồm 2 lớp: Input và Output\n",
    "assert len(sr.model.layers)==2\n",
    "assert str(type(sr.model.layers[0])).endswith(\"input_layer.InputLayer'>\") == True\n",
    "assert str(type(sr.model.layers[1])).endswith(\"core.dense.Dense'>\") == True\n",
    "assert sr.model.layers[0].input_shape[0][1] == 1000\n",
    "assert sr.model.layers[1].output_shape[1] == 20\n",
    "assert sr.model.layers[1].use_bias == True"
   ]
  },
  {
   "cell_type": "code",
   "execution_count": 6,
   "id": "a5589098-a98d-4356-b01c-c4c01139b1c3",
   "metadata": {
    "deletable": false,
    "editable": false,
    "nbgrader": {
     "cell_type": "code",
     "checksum": "2ee9383762bb4552b6d1cc7cb398e40d",
     "grade": true,
     "grade_id": "cell-05b9ba2de5ca007e",
     "locked": true,
     "points": 10,
     "schema_version": 3,
     "solution": false,
     "task": false
    },
    "tags": []
   },
   "outputs": [],
   "source": [
    "# Kiểm tra với bộ test ẩn"
   ]
  },
  {
   "cell_type": "markdown",
   "id": "834e8988-86a3-4914-8b48-5b1e0c26ef9f",
   "metadata": {
    "deletable": false,
    "editable": false,
    "nbgrader": {
     "cell_type": "markdown",
     "checksum": "b8ada11ddff2be8f9a602191f0042cfe",
     "grade": false,
     "grade_id": "cell-ac7a9ddf407c8762",
     "locked": true,
     "schema_version": 3,
     "solution": false,
     "task": false
    },
    "tags": []
   },
   "source": [
    "## 3. Tạo dữ liệu mẫu (toy example)\n",
    "Bước tiếp theo, ta sẽ tiến hành tạo mẫu dữ liệu để huấn luyện và kiểm thử.\n",
    "\n",
    "Dữ liệu được tạo ra là các điểm rải ngẫu nhiên xung quanh 4 cụm điểm:\n",
    "- [10, -2]\n",
    "- [2, 8]\n",
    "- [12, 8]\n",
    "- [-2, 0]\n",
    "\n",
    "Lưu ý rằng, 4 cụm điểm này rời nhau đủ xa để khi thêm nhiễu ngẫu nhiên,\n",
    "các điểm thuộc 4 cụm này vẫn không giao thoa nhau."
   ]
  },
  {
   "cell_type": "code",
   "execution_count": 18,
   "id": "e85e8cda-f476-4091-8bbc-e1c5c05a8c99",
   "metadata": {
    "deletable": false,
    "editable": false,
    "nbgrader": {
     "cell_type": "code",
     "checksum": "8d3f42c6b3621e5857e8753a7a40d3a7",
     "grade": false,
     "grade_id": "cell-596b906e8b2db48f",
     "locked": true,
     "schema_version": 3,
     "solution": false,
     "task": false
    },
    "tags": []
   },
   "outputs": [
    {
     "data": {
      "image/png": "[encoded data removed]",
      "text/plain": [
       "<Figure size 640x480 with 1 Axes>"
      ]
     },
     "metadata": {},
     "output_type": "display_data"
    }
   ],
   "source": [
    "import numpy as np\n",
    "import matplotlib.pyplot as plt\n",
    "\n",
    "# Số phân lớp: 4\n",
    "K = 4\n",
    "# Tạo bộ dữ  liệu gồm 4 điểm\n",
    "# S1, S2, S3, S4 là tâm của 4 lớp\n",
    "S1= np.array([[10,-2]])\n",
    "S2= np.array([[2,8]])\n",
    "S3= np.array([[12,8]])\n",
    "S4= np.array([[-2,0]])\n",
    "\n",
    "# 50 samples mỗi lớp\n",
    "n_sample = 50\n",
    "# Phát sinh các điểm với nhiễu ngẫu nhiên xung quanh 4 tâm\n",
    "pts1 = S1 + np.random.normal(0, 1.5, size=(n_sample,2))\n",
    "pts2 = S2 + np.random.normal(0, 1.5, size=(n_sample,2))\n",
    "pts3 = S3 + np.random.normal(0, 1.5, size=(n_sample,2))\n",
    "pts4 = S4 + np.random.normal(0, 1.5, size=(n_sample,2))\n",
    "\n",
    "# Nối tất cả các mẫu thành một khối dữ liệu X (input feature) và Y (nhãn)\n",
    "X_train = np.concatenate((pts1, pts2, pts3, pts4))\n",
    "# Concatenate data labels to a single input variable Y\n",
    "Y_train = np.concatenate(([0]*n_sample, [1]*n_sample, [2]*n_sample, [3]*n_sample))\n",
    "\n",
    "# Chuyển Y từ dạng nhãn sang one-hot vector\n",
    "Y_train = Y_train.astype(int)\n",
    "Y_oh = np.zeros((Y_train.size, Y_train.max()+1 ))\n",
    "Y_oh[np.arange(Y_train.size), Y_train] = 1\n",
    "\n",
    "# Trực quan hóa dữ liệu bằng các hình tròn màu đỏ, xanh lá, xanh dương và vàng\n",
    "plt.plot(pts1[:,0], pts1[:,1], 'ro')\n",
    "plt.plot(pts2[:,0], pts2[:,1], 'go')\n",
    "plt.plot(pts3[:,0], pts3[:,1], 'bo')\n",
    "plt.plot(pts4[:,0], pts4[:,1], 'yo')\n",
    "plt.show()\n"
   ]
  },
  {
   "cell_type": "markdown",
   "id": "c94626d9-8c76-4c59-87fe-231e4448262a",
   "metadata": {
    "deletable": false,
    "editable": false,
    "nbgrader": {
     "cell_type": "markdown",
     "checksum": "2d810d05a3c4237d1daf63bb3b790c0a",
     "grade": false,
     "grade_id": "cell-420a13cae6d553e4",
     "locked": true,
     "schema_version": 3,
     "solution": false,
     "task": false
    },
    "tags": []
   },
   "source": [
    "## 4. Huấn luyện mô hình với dữ liệu mẫu\n",
    "\n",
    "Tiếp theo, ta sẽ khởi tạo lại mô hình để phù hợp với dữ liệu mẫu đã phát sinh ở bước trước. Việc xây dựng kiến trúc của mô hình phải phù hợp với số chiều của dữ liệu mẫu."
   ]
  },
  {
   "cell_type": "code",
   "execution_count": 19,
   "id": "8aa7ce32-4f59-4cee-ae56-25f0cd972886",
   "metadata": {
    "deletable": false,
    "nbgrader": {
     "cell_type": "code",
     "checksum": "f4749ca536975350a2019b77bdcf6f82",
     "grade": false,
     "grade_id": "cell-7b350a0e29be5844",
     "locked": false,
     "schema_version": 3,
     "solution": true,
     "task": false
    },
    "tags": []
   },
   "outputs": [
    {
     "name": "stdout",
     "output_type": "stream",
     "text": [
      "Kiến trúc của mô hình Softmax Regression: \n",
      "Model: \"model_4\"\n",
      "_________________________________________________________________\n",
      " Layer (type)                Output Shape              Param #   \n",
      "=================================================================\n",
      " input_5 (InputLayer)        [(None, 2)]               0         \n",
      "                                                                 \n",
      " dense_4 (Dense)             (None, 4)                 12        \n",
      "                                                                 \n",
      "=================================================================\n",
      "Total params: 12\n",
      "Trainable params: 12\n",
      "Non-trainable params: 0\n",
      "_________________________________________________________________\n"
     ]
    }
   ],
   "source": [
    "sr = SoftmaxRegression()\n",
    "\n",
    "# Hãy gọi phương thức `build` cho đối tượng `sr` và truyền tham số đầu vào\n",
    "# tương ứng với dữ liệu train đã phát sinh ở code block trên\n",
    "# Theo bạn, `input_dim` và `output_dim` bằng bao nhiêu?\n",
    "\n",
    "# YOUR CODE HERE\n",
    "input_dim = 2\n",
    "output_dim = 4 \n",
    "sr.build(input_dim, output_dim)\n",
    "\n",
    "\n",
    "# Để hiển thị kiến trúc của mô hình ta gọi phương thức `summary`\n",
    "print(\"Kiến trúc của mô hình Softmax Regression: \")\n",
    "sr.summary()"
   ]
  },
  {
   "cell_type": "code",
   "execution_count": 15,
   "id": "0c6a3f9c-d529-4e33-968f-ef924a7f7ef7",
   "metadata": {
    "deletable": false,
    "editable": false,
    "nbgrader": {
     "cell_type": "code",
     "checksum": "bc6fc50e4c7769eaedafd0a00290d063",
     "grade": true,
     "grade_id": "cell-cf64170f2b98a6d3",
     "locked": true,
     "points": 5,
     "schema_version": 3,
     "solution": false,
     "task": false
    },
    "tags": []
   },
   "outputs": [],
   "source": [
    "# Kiểm tra bước gọi phương thức `build`"
   ]
  },
  {
   "cell_type": "code",
   "execution_count": 20,
   "id": "7f34ecff-3ef0-497f-bcd0-c138cb7b7af3",
   "metadata": {
    "deletable": false,
    "editable": false,
    "nbgrader": {
     "cell_type": "code",
     "checksum": "1691a813d1dcb69ff311ebfa78433fd9",
     "grade": false,
     "grade_id": "cell-9ba3148b1e8aacd3",
     "locked": true,
     "schema_version": 3,
     "solution": false,
     "task": false
    },
    "tags": []
   },
   "outputs": [
    {
     "name": "stdout",
     "output_type": "stream",
     "text": [
      "Epoch 1/100\n"
     ]
    },
    {
     "name": "stdout",
     "output_type": "stream",
     "text": [
      "7/7 [==============================] - 0s 1ms/step - loss: 3.1597\n",
      "Epoch 2/100\n",
      "7/7 [==============================] - 0s 776us/step - loss: 1.8315\n",
      "Epoch 3/100\n",
      "7/7 [==============================] - 0s 834us/step - loss: 1.1043\n",
      "Epoch 4/100\n",
      "7/7 [==============================] - 0s 672us/step - loss: 0.7241\n",
      "Epoch 5/100\n",
      "7/7 [==============================] - 0s 834us/step - loss: 0.6017\n",
      "Epoch 6/100\n",
      "7/7 [==============================] - 0s 667us/step - loss: 0.5383\n",
      "Epoch 7/100\n",
      "7/7 [==============================] - 0s 666us/step - loss: 0.4999\n",
      "Epoch 8/100\n",
      "7/7 [==============================] - 0s 767us/step - loss: 0.4731\n",
      "Epoch 9/100\n",
      "7/7 [==============================] - 0s 667us/step - loss: 0.4515\n",
      "Epoch 10/100\n",
      "7/7 [==============================] - 0s 666us/step - loss: 0.4297\n",
      "Epoch 11/100\n",
      "7/7 [==============================] - 0s 834us/step - loss: 0.4122\n",
      "Epoch 12/100\n",
      "7/7 [==============================] - 0s 573us/step - loss: 0.3965\n",
      "Epoch 13/100\n",
      "7/7 [==============================] - 0s 667us/step - loss: 0.3835\n",
      "Epoch 14/100\n",
      "7/7 [==============================] - 0s 697us/step - loss: 0.3707\n",
      "Epoch 15/100\n",
      "7/7 [==============================] - 0s 667us/step - loss: 0.3578\n",
      "Epoch 16/100\n",
      "7/7 [==============================] - 0s 688us/step - loss: 0.3467\n",
      "Epoch 17/100\n",
      "7/7 [==============================] - 0s 834us/step - loss: 0.3379\n",
      "Epoch 18/100\n",
      "7/7 [==============================] - 0s 697us/step - loss: 0.3294\n",
      "Epoch 19/100\n",
      "7/7 [==============================] - 0s 834us/step - loss: 0.3209\n",
      "Epoch 20/100\n",
      "7/7 [==============================] - 0s 594us/step - loss: 0.3130\n",
      "Epoch 21/100\n",
      "7/7 [==============================] - 0s 667us/step - loss: 0.3063\n",
      "Epoch 22/100\n",
      "7/7 [==============================] - 0s 668us/step - loss: 0.2990\n",
      "Epoch 23/100\n",
      "7/7 [==============================] - 0s 862us/step - loss: 0.2936\n",
      "Epoch 24/100\n",
      "7/7 [==============================] - 0s 667us/step - loss: 0.2878\n",
      "Epoch 25/100\n",
      "7/7 [==============================] - 0s 768us/step - loss: 0.2819\n",
      "Epoch 26/100\n",
      "7/7 [==============================] - 0s 667us/step - loss: 0.2763\n",
      "Epoch 27/100\n",
      "7/7 [==============================] - 0s 670us/step - loss: 0.2711\n",
      "Epoch 28/100\n",
      "7/7 [==============================] - 0s 666us/step - loss: 0.2669\n",
      "Epoch 29/100\n",
      "7/7 [==============================] - 0s 750us/step - loss: 0.2624\n",
      "Epoch 30/100\n",
      "7/7 [==============================] - 0s 834us/step - loss: 0.2573\n",
      "Epoch 31/100\n",
      "7/7 [==============================] - 0s 826us/step - loss: 0.2535\n",
      "Epoch 32/100\n",
      "7/7 [==============================] - 0s 500us/step - loss: 0.2499\n",
      "Epoch 33/100\n",
      "7/7 [==============================] - 0s 797us/step - loss: 0.2462\n",
      "Epoch 34/100\n",
      "7/7 [==============================] - 0s 833us/step - loss: 0.2432\n",
      "Epoch 35/100\n",
      "7/7 [==============================] - 0s 865us/step - loss: 0.2400\n",
      "Epoch 36/100\n",
      "7/7 [==============================] - 0s 667us/step - loss: 0.2368\n",
      "Epoch 37/100\n",
      "7/7 [==============================] - 0s 707us/step - loss: 0.2346\n",
      "Epoch 38/100\n",
      "7/7 [==============================] - 0s 833us/step - loss: 0.2312\n",
      "Epoch 39/100\n",
      "7/7 [==============================] - 0s 704us/step - loss: 0.2286\n",
      "Epoch 40/100\n",
      "7/7 [==============================] - 0s 669us/step - loss: 0.2255\n",
      "Epoch 41/100\n",
      "7/7 [==============================] - 0s 668us/step - loss: 0.2230\n",
      "Epoch 42/100\n",
      "7/7 [==============================] - 0s 667us/step - loss: 0.2205\n",
      "Epoch 43/100\n",
      "7/7 [==============================] - 0s 668us/step - loss: 0.2182\n",
      "Epoch 44/100\n",
      "7/7 [==============================] - 0s 667us/step - loss: 0.2161\n",
      "Epoch 45/100\n",
      "7/7 [==============================] - 0s 831us/step - loss: 0.2138\n",
      "Epoch 46/100\n",
      "7/7 [==============================] - 0s 667us/step - loss: 0.2119\n",
      "Epoch 47/100\n",
      "7/7 [==============================] - 0s 795us/step - loss: 0.2096\n",
      "Epoch 48/100\n",
      "7/7 [==============================] - 0s 667us/step - loss: 0.2077\n",
      "Epoch 49/100\n",
      "7/7 [==============================] - 0s 820us/step - loss: 0.2056\n",
      "Epoch 50/100\n",
      "7/7 [==============================] - 0s 3ms/step - loss: 0.2039\n",
      "Epoch 51/100\n",
      "7/7 [==============================] - 0s 2ms/step - loss: 0.2018\n",
      "Epoch 52/100\n",
      "7/7 [==============================] - 0s 1ms/step - loss: 0.2001\n",
      "Epoch 53/100\n",
      "7/7 [==============================] - 0s 1ms/step - loss: 0.1983\n",
      "Epoch 54/100\n",
      "7/7 [==============================] - 0s 833us/step - loss: 0.1969\n",
      "Epoch 55/100\n",
      "7/7 [==============================] - 0s 950us/step - loss: 0.1954\n",
      "Epoch 56/100\n",
      "7/7 [==============================] - 0s 668us/step - loss: 0.1935\n",
      "Epoch 57/100\n",
      "7/7 [==============================] - 0s 711us/step - loss: 0.1919\n",
      "Epoch 58/100\n",
      "7/7 [==============================] - 0s 667us/step - loss: 0.1902\n",
      "Epoch 59/100\n",
      "7/7 [==============================] - 0s 799us/step - loss: 0.1889\n",
      "Epoch 60/100\n",
      "7/7 [==============================] - 0s 667us/step - loss: 0.1879\n",
      "Epoch 61/100\n",
      "7/7 [==============================] - 0s 629us/step - loss: 0.1859\n",
      "Epoch 62/100\n",
      "7/7 [==============================] - 0s 666us/step - loss: 0.1846\n",
      "Epoch 63/100\n",
      "7/7 [==============================] - 0s 753us/step - loss: 0.1834\n",
      "Epoch 64/100\n",
      "7/7 [==============================] - 0s 834us/step - loss: 0.1819\n",
      "Epoch 65/100\n",
      "7/7 [==============================] - 0s 668us/step - loss: 0.1804\n",
      "Epoch 66/100\n",
      "7/7 [==============================] - 0s 666us/step - loss: 0.1790\n",
      "Epoch 67/100\n",
      "7/7 [==============================] - 0s 667us/step - loss: 0.1779\n",
      "Epoch 68/100\n",
      "7/7 [==============================] - 0s 667us/step - loss: 0.1769\n",
      "Epoch 69/100\n",
      "7/7 [==============================] - 0s 564us/step - loss: 0.1754\n",
      "Epoch 70/100\n",
      "7/7 [==============================] - 0s 667us/step - loss: 0.1747\n",
      "Epoch 71/100\n",
      "7/7 [==============================] - 0s 770us/step - loss: 0.1735\n",
      "Epoch 72/100\n",
      "7/7 [==============================] - 0s 667us/step - loss: 0.1722\n",
      "Epoch 73/100\n",
      "7/7 [==============================] - 0s 666us/step - loss: 0.1713\n",
      "Epoch 74/100\n",
      "7/7 [==============================] - 0s 500us/step - loss: 0.1701\n",
      "Epoch 75/100\n",
      "7/7 [==============================] - 0s 668us/step - loss: 0.1691\n",
      "Epoch 76/100\n",
      "7/7 [==============================] - 0s 751us/step - loss: 0.1680\n",
      "Epoch 77/100\n",
      "7/7 [==============================] - 0s 668us/step - loss: 0.1669\n",
      "Epoch 78/100\n",
      "7/7 [==============================] - 0s 752us/step - loss: 0.1662\n",
      "Epoch 79/100\n",
      "7/7 [==============================] - 0s 834us/step - loss: 0.1650\n",
      "Epoch 80/100\n",
      "7/7 [==============================] - 0s 838us/step - loss: 0.1639\n",
      "Epoch 81/100\n",
      "7/7 [==============================] - 0s 667us/step - loss: 0.1633\n",
      "Epoch 82/100\n",
      "7/7 [==============================] - 0s 585us/step - loss: 0.1626\n",
      "Epoch 83/100\n",
      "7/7 [==============================] - 0s 667us/step - loss: 0.1613\n",
      "Epoch 84/100\n",
      "7/7 [==============================] - 0s 833us/step - loss: 0.1604\n",
      "Epoch 85/100\n",
      "7/7 [==============================] - 0s 667us/step - loss: 0.1598\n",
      "Epoch 86/100\n",
      "7/7 [==============================] - 0s 584us/step - loss: 0.1588\n",
      "Epoch 87/100\n",
      "7/7 [==============================] - 0s 834us/step - loss: 0.1580\n",
      "Epoch 88/100\n",
      "7/7 [==============================] - 0s 583us/step - loss: 0.1570\n",
      "Epoch 89/100\n",
      "7/7 [==============================] - 0s 666us/step - loss: 0.1560\n",
      "Epoch 90/100\n",
      "7/7 [==============================] - 0s 584us/step - loss: 0.1553\n",
      "Epoch 91/100\n",
      "7/7 [==============================] - 0s 667us/step - loss: 0.1546\n",
      "Epoch 92/100\n",
      "7/7 [==============================] - 0s 820us/step - loss: 0.1541\n",
      "Epoch 93/100\n",
      "7/7 [==============================] - 0s 833us/step - loss: 0.1532\n",
      "Epoch 94/100\n",
      "7/7 [==============================] - 0s 584us/step - loss: 0.1523\n",
      "Epoch 95/100\n",
      "7/7 [==============================] - 0s 833us/step - loss: 0.1516\n",
      "Epoch 96/100\n",
      "7/7 [==============================] - 0s 585us/step - loss: 0.1509\n",
      "Epoch 97/100\n",
      "7/7 [==============================] - 0s 667us/step - loss: 0.1502\n",
      "Epoch 98/100\n",
      "7/7 [==============================] - 0s 673us/step - loss: 0.1492\n",
      "Epoch 99/100\n",
      "7/7 [==============================] - 0s 1000us/step - loss: 0.1485\n",
      "Epoch 100/100\n",
      "7/7 [==============================] - 0s 762us/step - loss: 0.1479\n"
     ]
    }
   ],
   "source": [
    "# Để huấn luyện mô hình ta gọi phương thức `train` với dữ liệu mẫu đã tạo được\n",
    "# Nếu bước `build` mô hình gọi đúng thì bước `train` sau sẽ thực hiện thành công\n",
    "# LƯU Ý: Ở đây ta sử dụng output là Y_oh dạng one-hot thay vì dạng nhãn (label)\n",
    "hist = sr.train(X_train, Y_oh)"
   ]
  },
  {
   "cell_type": "code",
   "execution_count": 21,
   "id": "44d04e58-792d-40e7-b4c5-01b4e0a582df",
   "metadata": {
    "deletable": false,
    "editable": false,
    "nbgrader": {
     "cell_type": "code",
     "checksum": "1eee35f30b79c20b3d1e1879203a74fb",
     "grade": false,
     "grade_id": "cell-410570417a6e9fdd",
     "locked": true,
     "schema_version": 3,
     "solution": false,
     "task": false
    },
    "tags": []
   },
   "outputs": [
    {
     "data": {
      "image/png": "[encoded data removed]",
      "text/plain": [
       "<Figure size 640x480 with 1 Axes>"
      ]
     },
     "metadata": {},
     "output_type": "display_data"
    }
   ],
   "source": [
    "# Hiển thị loss theo số epoch\n",
    "plt.plot(hist.history['loss'])\n",
    "plt.title('Model Loss')\n",
    "plt.ylabel('loss')\n",
    "plt.xlabel('epoch')\n",
    "plt.show()"
   ]
  },
  {
   "cell_type": "code",
   "execution_count": 22,
   "id": "3fb633a4-92b1-4d1d-a189-df8b64bca31d",
   "metadata": {
    "deletable": false,
    "editable": false,
    "nbgrader": {
     "cell_type": "code",
     "checksum": "1f5a204e185c19a1f2049bdfbb8b67df",
     "grade": false,
     "grade_id": "cell-bbe1e1b3f7109f67",
     "locked": true,
     "schema_version": 3,
     "solution": false,
     "task": false
    },
    "tags": []
   },
   "outputs": [],
   "source": [
    "# Sau khi đã huấn luyện, ta lưu mô hình về để sau này tái sử dụng\n",
    "# Lưu ý: hai phương thức lưu mô hình `save` và tải mô hình lên 'load'\n",
    "# được sử dụng khi muốn tái sử dụng nhiều lần mà KHÔNG CẦN PHẢI HUẤN LUYỆN LẠI\n",
    "sr.save('softmax_regression_model.h5')"
   ]
  },
  {
   "cell_type": "markdown",
   "id": "3ce541da-ad32-4636-9b14-4975f960ec4f",
   "metadata": {
    "deletable": false,
    "editable": false,
    "nbgrader": {
     "cell_type": "markdown",
     "checksum": "759ea7fd2d8f6089c7f67887d6045c13",
     "grade": false,
     "grade_id": "cell-f1519fd2a8642c8b",
     "locked": true,
     "schema_version": 3,
     "solution": false,
     "task": false
    },
    "tags": []
   },
   "source": [
    "## 5. Trực quan hóa mô hình và dự đoán với dữ liệu test"
   ]
  },
  {
   "cell_type": "code",
   "execution_count": 23,
   "id": "734b3a8b-8f30-4acb-a92a-471ee4c3b052",
   "metadata": {
    "deletable": false,
    "editable": false,
    "nbgrader": {
     "cell_type": "code",
     "checksum": "87aaeed2a2337bdaf08aadb9493eaf2a",
     "grade": false,
     "grade_id": "cell-6caaefefab9d0f32",
     "locked": true,
     "schema_version": 3,
     "solution": false,
     "task": false
    },
    "tags": []
   },
   "outputs": [],
   "source": [
    "# Khởi tạo đối tượng mới và gọi phương thức load mô hình từ file\n",
    "pretrain_sr = SoftmaxRegression()\n",
    "pretrain_sr.load('softmax_regression_model.h5')"
   ]
  },
  {
   "cell_type": "code",
   "execution_count": 24,
   "id": "dd9a079b-2dd4-49f6-b766-d16fe4358b55",
   "metadata": {
    "deletable": false,
    "editable": false,
    "nbgrader": {
     "cell_type": "code",
     "checksum": "89286fc9ea9bb74fc90c91c78e19c2c0",
     "grade": false,
     "grade_id": "cell-4c57bf1e1c1fe3c9",
     "locked": true,
     "schema_version": 3,
     "solution": false,
     "task": false
    },
    "tags": []
   },
   "outputs": [
    {
     "name": "stdout",
     "output_type": "stream",
     "text": [
      "Tham số tối ưu: \n",
      "[array([[ 0.28214735, -0.6337786 ,  0.09359645, -1.4040792 ],\n",
      "       [-0.64831084,  0.755245  ,  0.19291283,  0.00331228]],\n",
      "      dtype=float32), array([-0.13342819, -0.28147575, -0.27377594,  0.68867946], dtype=float32)]\n"
     ]
    }
   ],
   "source": [
    "# Hiển thị bộ tham số của mô hình Softmax\n",
    "theta = pretrain_sr.get_weights()\n",
    "print('Tham số tối ưu: ')\n",
    "print(theta)"
   ]
  },
  {
   "cell_type": "code",
   "execution_count": 25,
   "id": "6d32360d-f18c-4c90-85af-1a4df14d8ae6",
   "metadata": {
    "deletable": false,
    "editable": false,
    "nbgrader": {
     "cell_type": "code",
     "checksum": "d44f826bbdfc1a4823982a0e2837b5d9",
     "grade": false,
     "grade_id": "cell-1ad67705d50f701d",
     "locked": true,
     "schema_version": 3,
     "solution": false,
     "task": false
    },
    "tags": []
   },
   "outputs": [
    {
     "name": "stdout",
     "output_type": "stream",
     "text": [
      "20/20 [==============================] - 0s 515us/step\n"
     ]
    },
    {
     "data": {
      "image/png": "[encoded data removed]",
      "text/plain": [
       "<Figure size 640x480 with 1 Axes>"
      ]
     },
     "metadata": {},
     "output_type": "display_data"
    }
   ],
   "source": [
    "# Trực quan hóa dữ liệu và mô hình sau khi huấn luyện\n",
    "# Ý tưởng: lấy mẫu dày đặc các điểm trong phạm vi dữ liệu train\n",
    "# Sau đó dùng mô hình để dự đoán và hiển thị kết quả\n",
    "\n",
    "# `colors` là các marker được sử dụng để trực quan hóa kết quả test\n",
    "colors = ['r+', 'g+', 'b+', 'y+']\n",
    "# `gt_colors` là các marker được sử dụng để trực quan hóa dữ liệu train\n",
    "gt_colors = ['ro', 'go', 'bo', 'yo']\n",
    "\n",
    "# Lấy mẫu dày đặc các điểm\n",
    "x = np.arange(-8, 17, 1)\n",
    "y = np.arange(-8, 17, 1)\n",
    "xx, yy = np.meshgrid(x,y)\n",
    "\n",
    "xx = xx.reshape(-1)\n",
    "yy = yy.reshape(-1)\n",
    "\n",
    "# Tạo các dữ liệu test dày đặc\n",
    "X_test = np.concatenate([[xx],[yy]], axis=0).T\n",
    "Y_pred = pretrain_sr.predict(X_test)\n",
    "\n",
    "for i in range(len(xx)):\n",
    "    plt.plot(xx[i],yy[i], colors[np.argmax(Y_pred[i])])\n",
    "plt.plot(pts1[:,0], pts1[:,1], gt_colors[0])\n",
    "plt.plot(pts2[:,0], pts2[:,1], gt_colors[1])\n",
    "plt.plot(pts3[:,0], pts3[:,1], gt_colors[2])\n",
    "plt.plot(pts4[:,0], pts4[:,1], gt_colors[3])\n",
    "plt.show()"
   ]
  },
  {
   "cell_type": "markdown",
   "id": "f6d90f1f-8ff1-49f7-9c4b-a099ca7bfed8",
   "metadata": {
    "deletable": false,
    "editable": false,
    "nbgrader": {
     "cell_type": "markdown",
     "checksum": "442c560a8487a899effc06e88bf01f73",
     "grade": false,
     "grade_id": "cell-64f389b662b21977",
     "locked": true,
     "schema_version": 3,
     "solution": false,
     "task": false
    },
    "tags": []
   },
   "source": [
    "Như vậy ta có thể thấy rằng, không gian mặt phẳng đã được phân loại sử dụng mô hình đã huấn luyện trước đó với Softmax Regression. Dựa trên hình trên ta thấy kết quả khá chính xác, chỉ trừ một số điểm ở biên giữa các lớp."
   ]
  }
 ],
 "metadata": {
  "kernelspec": {
   "display_name": "Python 3 (ipykernel)",
   "language": "python",
   "name": "python3"
  },
  "language_info": {
   "codemirror_mode": {
    "name": "ipython",
    "version": 3
   },
   "file_extension": ".py",
   "mimetype": "text/x-python",
   "name": "python",
   "nbconvert_exporter": "python",
   "pygments_lexer": "ipython3",
   "version": "3.10.7"
  }
 },
 "nbformat": 4,
 "nbformat_minor": 5
}
