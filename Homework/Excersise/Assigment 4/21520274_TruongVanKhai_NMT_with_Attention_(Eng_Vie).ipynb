{
  "cells": [
    {
      "cell_type": "markdown",
      "metadata": {
        "id": "4q37tSJ_avX2"
      },
      "source": [
        "# MODULE CS431 - CÁC KỸ THUẬT HỌC SÂU VÀ ỨNG DỤNG\n",
        "\n",
        "**Hướng dẫn**:\n",
        "- Khởi động kernel: Ở thanh menu, chọn Kernel$\\rightarrow$Restart kernel.\n",
        "- Hoàn tất tất cả các mục có comment `YOUR CODE HERE`\n",
        "- Chạy toàn bộ các block code để kiểm tra: Ở thanh menu, chọn Cell$\\rightarrow$Run All."
      ]
    },
    {
      "cell_type": "markdown",
      "metadata": {
        "id": "2FOXjQTJavX_"
      },
      "source": [
        "---"
      ]
    },
    {
      "cell_type": "markdown",
      "metadata": {
        "deletable": false,
        "editable": false,
        "id": "dHBP5xzmrM4U",
        "nbgrader": {
          "cell_type": "markdown",
          "checksum": "5d6f5c3a6e970c15dce5a8a28f7659b9",
          "grade": false,
          "grade_id": "cell-b8bc4640efacad5c",
          "locked": true,
          "schema_version": 3,
          "solution": false,
          "task": false
        },
        "tags": []
      },
      "source": [
        "# ATTENTION IN MACHINE LEARNING TRANSLATION\n",
        "## Dịch các câu từ tiếng Anh sang tiếng Việt với cơ chế Attention\n",
        "\n",
        "Trong bài tập trước, chúng ta đã làm quen và thực hành bài tập Dịch máy từ ngôn ngữ tiếng Anh sang tiếng Việt với sự hỗ trợ của mô hình Seq2Seq. Tuy nhiên, dễ thấy rằng, kết quả đánh giá hiệu năng thu được còn hạn chế.\n",
        "\n",
        "Vậy, làm thế nào để cải thiện khả năng dịch thuật của mô hình Dịch máy?"
      ]
    },
    {
      "cell_type": "markdown",
      "metadata": {
        "deletable": false,
        "editable": false,
        "id": "p5sIh9bcS-Ok",
        "nbgrader": {
          "cell_type": "markdown",
          "checksum": "5875feeee9299aed59843d083223ebb8",
          "grade": false,
          "grade_id": "cell-5c02ac88a9e39beb",
          "locked": true,
          "schema_version": 3,
          "solution": false,
          "task": false
        },
        "tags": []
      },
      "source": [
        "<table>\n",
        "<tr>\n",
        "  <td>\n",
        "   <img width=700 src=\"https://www.tensorflow.org/images/tutorials/transformer/RNN%2Battention-words-spa.png\"/>\n",
        "  </td>\n",
        "</tr>\n",
        "<tr>\n",
        "  <th colspan=1>Minh họa sử dụng cơ chế Attention cho Encoder/Decoder.</th>\n",
        "<tr>\n",
        "</table>"
      ]
    },
    {
      "cell_type": "markdown",
      "metadata": {
        "id": "L0FuKhv7avYC"
      },
      "source": [
        "Cơ chế Attention là một trong những giải pháp tiềm năng để giải quyết vấn đề này thông qua quá trình tập trung vào các vùng thông tin quan trọng để giúp mô hình học tốt hơn. Với cơ chế Attention, một \"từ\" có thể hiệu chỉnh được trọng số của nó cho các từ khác trong câu, sao cho các từ ở gần nó thì trọng số lớn hơn, ở xa nó thì trọng số nhỏ hơn.\n",
        "\n",
        "Mỗi \"câu\" sau khi đi qua bước embedding sẽ được biểu diễn dưới dạng một ma trận X(m, n) với m, n lần lượt thể hiện số từ và số chiều của mỗi vector từ được biểu diễn. Mô hình sẽ cần học được bộ trọng số (Wq, Wk, Wv) để thu được ma trận Q, K, V (Query, Key và Value). Ma trận Query và Key có tác dụng tính toán ra score cho các cặp từ. Ma trận Value sẽ dựa trên score để tính ra vector phân phối xác suất đầu ra. Hàm softmax được sử dụng để đưa giá trị score về một phân phối xác suất mà độ lớn sẽ đại diện cho mức độ attention của từ query và từ key. Như vậy mỗi một từ sẽ được biểu diễn bởi 3 vector Query, Key và Value. Bộ ba này sẽ thể hiện trọng số của mỗi từ với các từ còn lại trong câu. (Xem hình minh họa)"
      ]
    },
    {
      "cell_type": "markdown",
      "metadata": {
        "id": "ktqJqiP0avYD"
      },
      "source": [
        "<table>\n",
        "<tr>\n",
        "  <td>\n",
        "   <img width=700 src=\"https://phamdinhkhanh.github.io/assets/images/20190616_attention/ScoreAllWords.png\"/>\n",
        "  </td>\n",
        "</tr>\n",
        "<tr>\n",
        "  <th colspan=1>Minh họa kết quả tính toán attention cho từng từ trong câu. (Blog phamdinhkhanh)</th>\n",
        "<tr>\n",
        "</table>"
      ]
    },
    {
      "cell_type": "markdown",
      "metadata": {
        "deletable": false,
        "editable": false,
        "id": "IVPRC0bOtBas",
        "nbgrader": {
          "cell_type": "markdown",
          "checksum": "24ea81fc60989bc64ce6cd152813d15c",
          "grade": false,
          "grade_id": "cell-d1d1804885216b14",
          "locked": true,
          "schema_version": 3,
          "solution": false,
          "task": false
        },
        "tags": []
      },
      "source": [
        "Trong bài tập này, chúng ta sẽ tạo ra một mô hình LSTM encoder-decoder sử dụng [Keras Functional API](https://www.tensorflow.org/alpha/guide/keras/functional ( với [TensorFlow](https://www.tensorflow.org/) ). Sau đó, chúng ta thực hành chuyển đổi các câu tiếng Anh sang Tiếng Việt như bài tập lần trước. Sự khác biệt ở đây chính là chúng ta sẽ cài đặt thêm một Attention Head để cải thiện hiệu năng.\n",
        "\n",
        "Lưu ý: Sử dụng GPU để có thể huấn luyện mô hình nhanh hơn.\n",
        "\n",
        "Chúng ta cùng thực hiện các bước khởi tạo mô hình như bài tập lần trước nhé!"
      ]
    },
    {
      "cell_type": "markdown",
      "metadata": {
        "deletable": false,
        "editable": false,
        "id": "a_r70epHozOt",
        "nbgrader": {
          "cell_type": "markdown",
          "checksum": "21cc1db8374b0f0d32236f08199a8478",
          "grade": false,
          "grade_id": "cell-d64e0385d2c2b7db",
          "locked": true,
          "schema_version": 3,
          "solution": false,
          "task": false
        },
        "tags": []
      },
      "source": [
        "## Chuẩn bị dữ liệu"
      ]
    },
    {
      "cell_type": "markdown",
      "metadata": {
        "deletable": false,
        "editable": false,
        "id": "Yq4aH4u1uq5V",
        "nbgrader": {
          "cell_type": "markdown",
          "checksum": "fe127e3edaa33cd617706ef58c34af7d",
          "grade": false,
          "grade_id": "cell-30bfcc131f6e53a4",
          "locked": true,
          "schema_version": 3,
          "solution": false,
          "task": false
        },
        "tags": []
      },
      "source": [
        "### 1) Khai báo các thư viện\n",
        "\n",
        "Chúng ta sẽ khai báo TensorFlow và Keras. Từ Keras, chúng ta sẽ sử dụng các module khác để giúp xây dựng các lớp NN, tiền xử lý dữ liệu và xây dựng các mô hình LSTM"
      ]
    },
    {
      "cell_type": "code",
      "execution_count": null,
      "metadata": {
        "deletable": false,
        "editable": false,
        "id": "qK2TWV1nm48Q",
        "nbgrader": {
          "cell_type": "code",
          "checksum": "b5e8619cb77fa622a3ba820f89359080",
          "grade": false,
          "grade_id": "cell-f46f116d5fc79bb9",
          "locked": true,
          "schema_version": 3,
          "solution": false,
          "task": false
        },
        "tags": []
      },
      "outputs": [],
      "source": [
        "# import các thư viện cần thiết\n",
        "import numpy as np\n",
        "import tensorflow as tf\n",
        "from tensorflow.keras import layers , activations , models , preprocessing , utils\n",
        "import pandas as pd\n",
        "from keras.models import load_model, Model\n",
        "import matplotlib.pyplot as plt\n",
        "import matplotlib.ticker as ticker\n",
        "\n",
        "def fix_random_seed():\n",
        "    np.random.seed(1)\n",
        "    tf.random.set_seed(1)"
      ]
    },
    {
      "cell_type": "markdown",
      "metadata": {
        "deletable": false,
        "editable": false,
        "id": "NnIg8HdTGW4o",
        "nbgrader": {
          "cell_type": "markdown",
          "checksum": "afa913ce7548b4086e23129720022de4",
          "grade": false,
          "grade_id": "cell-766488d990fd3f70",
          "locked": true,
          "schema_version": 3,
          "solution": false,
          "task": false
        },
        "tags": []
      },
      "source": [
        "### 2) Đọc dữ liệu\n",
        "\n",
        "\n",
        "Dữ liệu có hơn 9K cặp cụm từ English-Vietnamese. Bộ dữ liệu này có thể tải tại http://www.manythings.org/anki/. Hơn thế nữa, tại đây có hơn 50 bộ câu song ngữ. Chúng ta sẽ tải bộ dữ liệu cụm từ English-Vietnamese, giải nén và đọc bằng [Pandas](https://pandas.pydata.org/).\n",
        "\n",
        "**Server đã có sẵn dữ liệu này cho các bạn sử dụng, các bạn có thể sử dụng các lệnh dưới đây để tải và sử dụng dữ liệu trên các nền tảng khác.**"
      ]
    },
    {
      "cell_type": "code",
      "execution_count": null,
      "metadata": {
        "colab": {
          "base_uri": "https://localhost:8080/"
        },
        "deletable": false,
        "editable": false,
        "id": "27OzmS-MIymc",
        "nbgrader": {
          "cell_type": "code",
          "checksum": "b7468df4147e20168be575a7d97f6d7d",
          "grade": false,
          "grade_id": "cell-d39d32e70c6497b8",
          "locked": true,
          "schema_version": 3,
          "solution": false,
          "task": false
        },
        "outputId": "7d2ede4b-3a85-46ba-bb61-444ef92302b0",
        "tags": []
      },
      "outputs": [
        {
          "output_type": "stream",
          "name": "stdout",
          "text": [
            "--2023-11-11 08:17:42--  http://www.manythings.org/anki/vie-eng.zip\n",
            "Resolving www.manythings.org (www.manythings.org)... 173.254.30.110\n",
            "Connecting to www.manythings.org (www.manythings.org)|173.254.30.110|:80... connected.\n",
            "HTTP request sent, awaiting response... 200 OK\n",
            "Length: 372787 (364K) [application/zip]\n",
            "Saving to: ‘vie-eng.zip’\n",
            "\n",
            "vie-eng.zip         100%[===================>] 364.05K  --.-KB/s    in 0.1s    \n",
            "\n",
            "2023-11-11 08:17:42 (3.10 MB/s) - ‘vie-eng.zip’ saved [372787/372787]\n",
            "\n",
            "Archive:  vie-eng.zip\n",
            "  inflating: _about.txt              \n",
            "  inflating: vie.txt                 \n"
          ]
        }
      ],
      "source": [
        "!wget http://www.manythings.org/anki/vie-eng.zip -O vie-eng.zip\n",
        "!unzip vie-eng.zip"
      ]
    },
    {
      "cell_type": "markdown",
      "metadata": {
        "deletable": false,
        "editable": false,
        "id": "rK_-miCLPZvV",
        "nbgrader": {
          "cell_type": "markdown",
          "checksum": "9d134b8b12ddcfd122bee552452d0bd2",
          "grade": false,
          "grade_id": "cell-198faa27e708a97c",
          "locked": true,
          "schema_version": 3,
          "solution": false,
          "task": false
        },
        "tags": []
      },
      "source": [
        "Sử dụng pandas để đọc dữ liệu và thêm tên cho các cột."
      ]
    },
    {
      "cell_type": "code",
      "execution_count": null,
      "metadata": {
        "deletable": false,
        "id": "QGmBbVVTrm74",
        "nbgrader": {
          "cell_type": "code",
          "checksum": "c5fda81b8dfbc6fb27a20017202af39b",
          "grade": false,
          "grade_id": "cell-89d0e438979b282e",
          "locked": false,
          "schema_version": 3,
          "solution": true,
          "task": false
        },
        "tags": [],
        "colab": {
          "base_uri": "https://localhost:8080/",
          "height": 206
        },
        "outputId": "6cd46153-6327-413f-9026-9e2b39e12fbd"
      },
      "outputs": [
        {
          "output_type": "execute_result",
          "data": {
            "text/plain": [
              "     eng            vie\n",
              "0   Run!          Chạy!\n",
              "1   Run!       Chạy đi!\n",
              "2  Help!  Giúp tôi với!\n",
              "3  Help!       Cứu tôi!\n",
              "4  Jump!       Nhảy đi!"
            ],
            "text/html": [
              "\n",
              "  <div id=\"df-cc388534-be7f-4089-b29a-4c018420c3e3\" class=\"colab-df-container\">\n",
              "    <div>\n",
              "<style scoped>\n",
              "    .dataframe tbody tr th:only-of-type {\n",
              "        vertical-align: middle;\n",
              "    }\n",
              "\n",
              "    .dataframe tbody tr th {\n",
              "        vertical-align: top;\n",
              "    }\n",
              "\n",
              "    .dataframe thead th {\n",
              "        text-align: right;\n",
              "    }\n",
              "</style>\n",
              "<table border=\"1\" class=\"dataframe\">\n",
              "  <thead>\n",
              "    <tr style=\"text-align: right;\">\n",
              "      <th></th>\n",
              "      <th>eng</th>\n",
              "      <th>vie</th>\n",
              "    </tr>\n",
              "  </thead>\n",
              "  <tbody>\n",
              "    <tr>\n",
              "      <th>0</th>\n",
              "      <td>Run!</td>\n",
              "      <td>Chạy!</td>\n",
              "    </tr>\n",
              "    <tr>\n",
              "      <th>1</th>\n",
              "      <td>Run!</td>\n",
              "      <td>Chạy đi!</td>\n",
              "    </tr>\n",
              "    <tr>\n",
              "      <th>2</th>\n",
              "      <td>Help!</td>\n",
              "      <td>Giúp tôi với!</td>\n",
              "    </tr>\n",
              "    <tr>\n",
              "      <th>3</th>\n",
              "      <td>Help!</td>\n",
              "      <td>Cứu tôi!</td>\n",
              "    </tr>\n",
              "    <tr>\n",
              "      <th>4</th>\n",
              "      <td>Jump!</td>\n",
              "      <td>Nhảy đi!</td>\n",
              "    </tr>\n",
              "  </tbody>\n",
              "</table>\n",
              "</div>\n",
              "    <div class=\"colab-df-buttons\">\n",
              "\n",
              "  <div class=\"colab-df-container\">\n",
              "    <button class=\"colab-df-convert\" onclick=\"convertToInteractive('df-cc388534-be7f-4089-b29a-4c018420c3e3')\"\n",
              "            title=\"Convert this dataframe to an interactive table.\"\n",
              "            style=\"display:none;\">\n",
              "\n",
              "  <svg xmlns=\"http://www.w3.org/2000/svg\" height=\"24px\" viewBox=\"0 -960 960 960\">\n",
              "    <path d=\"M120-120v-720h720v720H120Zm60-500h600v-160H180v160Zm220 220h160v-160H400v160Zm0 220h160v-160H400v160ZM180-400h160v-160H180v160Zm440 0h160v-160H620v160ZM180-180h160v-160H180v160Zm440 0h160v-160H620v160Z\"/>\n",
              "  </svg>\n",
              "    </button>\n",
              "\n",
              "  <style>\n",
              "    .colab-df-container {\n",
              "      display:flex;\n",
              "      gap: 12px;\n",
              "    }\n",
              "\n",
              "    .colab-df-convert {\n",
              "      background-color: #E8F0FE;\n",
              "      border: none;\n",
              "      border-radius: 50%;\n",
              "      cursor: pointer;\n",
              "      display: none;\n",
              "      fill: #1967D2;\n",
              "      height: 32px;\n",
              "      padding: 0 0 0 0;\n",
              "      width: 32px;\n",
              "    }\n",
              "\n",
              "    .colab-df-convert:hover {\n",
              "      background-color: #E2EBFA;\n",
              "      box-shadow: 0px 1px 2px rgba(60, 64, 67, 0.3), 0px 1px 3px 1px rgba(60, 64, 67, 0.15);\n",
              "      fill: #174EA6;\n",
              "    }\n",
              "\n",
              "    .colab-df-buttons div {\n",
              "      margin-bottom: 4px;\n",
              "    }\n",
              "\n",
              "    [theme=dark] .colab-df-convert {\n",
              "      background-color: #3B4455;\n",
              "      fill: #D2E3FC;\n",
              "    }\n",
              "\n",
              "    [theme=dark] .colab-df-convert:hover {\n",
              "      background-color: #434B5C;\n",
              "      box-shadow: 0px 1px 3px 1px rgba(0, 0, 0, 0.15);\n",
              "      filter: drop-shadow(0px 1px 2px rgba(0, 0, 0, 0.3));\n",
              "      fill: #FFFFFF;\n",
              "    }\n",
              "  </style>\n",
              "\n",
              "    <script>\n",
              "      const buttonEl =\n",
              "        document.querySelector('#df-cc388534-be7f-4089-b29a-4c018420c3e3 button.colab-df-convert');\n",
              "      buttonEl.style.display =\n",
              "        google.colab.kernel.accessAllowed ? 'block' : 'none';\n",
              "\n",
              "      async function convertToInteractive(key) {\n",
              "        const element = document.querySelector('#df-cc388534-be7f-4089-b29a-4c018420c3e3');\n",
              "        const dataTable =\n",
              "          await google.colab.kernel.invokeFunction('convertToInteractive',\n",
              "                                                    [key], {});\n",
              "        if (!dataTable) return;\n",
              "\n",
              "        const docLinkHtml = 'Like what you see? Visit the ' +\n",
              "          '<a target=\"_blank\" href=https://colab.research.google.com/notebooks/data_table.ipynb>data table notebook</a>'\n",
              "          + ' to learn more about interactive tables.';\n",
              "        element.innerHTML = '';\n",
              "        dataTable['output_type'] = 'display_data';\n",
              "        await google.colab.output.renderOutput(dataTable, element);\n",
              "        const docLink = document.createElement('div');\n",
              "        docLink.innerHTML = docLinkHtml;\n",
              "        element.appendChild(docLink);\n",
              "      }\n",
              "    </script>\n",
              "  </div>\n",
              "\n",
              "\n",
              "<div id=\"df-68a96de6-43d9-49b8-9cf6-eafe5dd78389\">\n",
              "  <button class=\"colab-df-quickchart\" onclick=\"quickchart('df-68a96de6-43d9-49b8-9cf6-eafe5dd78389')\"\n",
              "            title=\"Suggest charts\"\n",
              "            style=\"display:none;\">\n",
              "\n",
              "<svg xmlns=\"http://www.w3.org/2000/svg\" height=\"24px\"viewBox=\"0 0 24 24\"\n",
              "     width=\"24px\">\n",
              "    <g>\n",
              "        <path d=\"M19 3H5c-1.1 0-2 .9-2 2v14c0 1.1.9 2 2 2h14c1.1 0 2-.9 2-2V5c0-1.1-.9-2-2-2zM9 17H7v-7h2v7zm4 0h-2V7h2v10zm4 0h-2v-4h2v4z\"/>\n",
              "    </g>\n",
              "</svg>\n",
              "  </button>\n",
              "\n",
              "<style>\n",
              "  .colab-df-quickchart {\n",
              "      --bg-color: #E8F0FE;\n",
              "      --fill-color: #1967D2;\n",
              "      --hover-bg-color: #E2EBFA;\n",
              "      --hover-fill-color: #174EA6;\n",
              "      --disabled-fill-color: #AAA;\n",
              "      --disabled-bg-color: #DDD;\n",
              "  }\n",
              "\n",
              "  [theme=dark] .colab-df-quickchart {\n",
              "      --bg-color: #3B4455;\n",
              "      --fill-color: #D2E3FC;\n",
              "      --hover-bg-color: #434B5C;\n",
              "      --hover-fill-color: #FFFFFF;\n",
              "      --disabled-bg-color: #3B4455;\n",
              "      --disabled-fill-color: #666;\n",
              "  }\n",
              "\n",
              "  .colab-df-quickchart {\n",
              "    background-color: var(--bg-color);\n",
              "    border: none;\n",
              "    border-radius: 50%;\n",
              "    cursor: pointer;\n",
              "    display: none;\n",
              "    fill: var(--fill-color);\n",
              "    height: 32px;\n",
              "    padding: 0;\n",
              "    width: 32px;\n",
              "  }\n",
              "\n",
              "  .colab-df-quickchart:hover {\n",
              "    background-color: var(--hover-bg-color);\n",
              "    box-shadow: 0 1px 2px rgba(60, 64, 67, 0.3), 0 1px 3px 1px rgba(60, 64, 67, 0.15);\n",
              "    fill: var(--button-hover-fill-color);\n",
              "  }\n",
              "\n",
              "  .colab-df-quickchart-complete:disabled,\n",
              "  .colab-df-quickchart-complete:disabled:hover {\n",
              "    background-color: var(--disabled-bg-color);\n",
              "    fill: var(--disabled-fill-color);\n",
              "    box-shadow: none;\n",
              "  }\n",
              "\n",
              "  .colab-df-spinner {\n",
              "    border: 2px solid var(--fill-color);\n",
              "    border-color: transparent;\n",
              "    border-bottom-color: var(--fill-color);\n",
              "    animation:\n",
              "      spin 1s steps(1) infinite;\n",
              "  }\n",
              "\n",
              "  @keyframes spin {\n",
              "    0% {\n",
              "      border-color: transparent;\n",
              "      border-bottom-color: var(--fill-color);\n",
              "      border-left-color: var(--fill-color);\n",
              "    }\n",
              "    20% {\n",
              "      border-color: transparent;\n",
              "      border-left-color: var(--fill-color);\n",
              "      border-top-color: var(--fill-color);\n",
              "    }\n",
              "    30% {\n",
              "      border-color: transparent;\n",
              "      border-left-color: var(--fill-color);\n",
              "      border-top-color: var(--fill-color);\n",
              "      border-right-color: var(--fill-color);\n",
              "    }\n",
              "    40% {\n",
              "      border-color: transparent;\n",
              "      border-right-color: var(--fill-color);\n",
              "      border-top-color: var(--fill-color);\n",
              "    }\n",
              "    60% {\n",
              "      border-color: transparent;\n",
              "      border-right-color: var(--fill-color);\n",
              "    }\n",
              "    80% {\n",
              "      border-color: transparent;\n",
              "      border-right-color: var(--fill-color);\n",
              "      border-bottom-color: var(--fill-color);\n",
              "    }\n",
              "    90% {\n",
              "      border-color: transparent;\n",
              "      border-bottom-color: var(--fill-color);\n",
              "    }\n",
              "  }\n",
              "</style>\n",
              "\n",
              "  <script>\n",
              "    async function quickchart(key) {\n",
              "      const quickchartButtonEl =\n",
              "        document.querySelector('#' + key + ' button');\n",
              "      quickchartButtonEl.disabled = true;  // To prevent multiple clicks.\n",
              "      quickchartButtonEl.classList.add('colab-df-spinner');\n",
              "      try {\n",
              "        const charts = await google.colab.kernel.invokeFunction(\n",
              "            'suggestCharts', [key], {});\n",
              "      } catch (error) {\n",
              "        console.error('Error during call to suggestCharts:', error);\n",
              "      }\n",
              "      quickchartButtonEl.classList.remove('colab-df-spinner');\n",
              "      quickchartButtonEl.classList.add('colab-df-quickchart-complete');\n",
              "    }\n",
              "    (() => {\n",
              "      let quickchartButtonEl =\n",
              "        document.querySelector('#df-68a96de6-43d9-49b8-9cf6-eafe5dd78389 button');\n",
              "      quickchartButtonEl.style.display =\n",
              "        google.colab.kernel.accessAllowed ? 'block' : 'none';\n",
              "    })();\n",
              "  </script>\n",
              "</div>\n",
              "    </div>\n",
              "  </div>\n"
            ]
          },
          "metadata": {},
          "execution_count": 3
        }
      ],
      "source": [
        "lines = None\n",
        "\n",
        "# TODO: đọc dữ liệu bằng `padas.read_table`,\n",
        "# gắn label cho 2 cột đầu là `eng` và `vie`,\n",
        "# loại bỏ cột cuối cùng\n",
        "\n",
        "# YOUR CODE HERE\n",
        "lines = pd.read_table('vie.txt', names=['eng', 'vie', 'a'])\n",
        "lines = lines.drop(labels='a', axis=1)\n",
        "\n",
        "\n",
        "# Chỉ lấy 1/2 bộ dữ liệu để thực nghiệm\n",
        "lines = lines[:len(lines)//2]\n",
        "lines.head()"
      ]
    },
    {
      "cell_type": "code",
      "execution_count": null,
      "metadata": {
        "deletable": false,
        "editable": false,
        "id": "bwr1cuViqFZg",
        "nbgrader": {
          "cell_type": "code",
          "checksum": "a39dce1b96b6cfb086313877969e959d",
          "grade": true,
          "grade_id": "cell-c25d0d8186cd21e3",
          "locked": true,
          "points": 5,
          "schema_version": 3,
          "solution": false,
          "task": false
        },
        "tags": [],
        "colab": {
          "base_uri": "https://localhost:8080/"
        },
        "outputId": "668f71f5-b439-4b28-c497-b1bb5a31daff"
      },
      "outputs": [
        {
          "output_type": "stream",
          "name": "stdout",
          "text": [
            "Bạn đã qua bài test\n"
          ]
        }
      ],
      "source": [
        "# Kiểm tra với bộ test\n",
        "assert \"DataFrame\" in str(type(lines))\n",
        "assert list(lines.columns) == ['eng' , 'vie']\n",
        "assert len(lines.shape) == 2\n",
        "assert lines.shape[1] == 2\n",
        "assert lines.iloc[10]['eng']=='Hurry!'\n",
        "print('Bạn đã qua bài test')"
      ]
    },
    {
      "cell_type": "code",
      "execution_count": null,
      "metadata": {
        "deletable": false,
        "editable": false,
        "id": "GWqenCnrqoYs",
        "nbgrader": {
          "cell_type": "code",
          "checksum": "90b8ffe6547071ec6cb5d52c713e05bf",
          "grade": true,
          "grade_id": "cell-1c7f9e67d4cd90f4",
          "locked": true,
          "points": 5,
          "schema_version": 3,
          "solution": false,
          "task": false
        },
        "tags": []
      },
      "outputs": [],
      "source": [
        "# Kiểm tra với bộ test ẩn"
      ]
    },
    {
      "cell_type": "markdown",
      "metadata": {
        "deletable": false,
        "editable": false,
        "id": "-dgIdfjIRLDN",
        "nbgrader": {
          "cell_type": "markdown",
          "checksum": "baffbe4077ebeb4e97c9e91f840a4fd5",
          "grade": false,
          "grade_id": "cell-973083836ca3d96a",
          "locked": true,
          "schema_version": 3,
          "solution": false,
          "task": false
        },
        "tags": []
      },
      "source": [
        "### 3) Chuẩn bị dữ liệu đầu vào cho Encoder (`encoder_input_data`)\n",
        "Mô hình Encoder sẽ được cung cấp dữ liệu đầu vào là các câu tiếng Anh đã được tiền xử lý.\n",
        "Bước tiền xử lý được thực hiện như sau:\n",
        "\n",
        "Token hóa các câu tiếng Anh từ `eng_lines`.\n",
        "Xác định độ dài tối đa của câu tiếng Anh là `max_input_length`.\n",
        "Thêm vào `tokenized_eng_lines` để đạt đến `max_input_length`.\n",
        "Xác định kích thước từ vựng (`num_eng_tokens`) cho các từ tiếng Anh."
      ]
    },
    {
      "cell_type": "code",
      "execution_count": null,
      "metadata": {
        "deletable": false,
        "id": "Z2_ux1rZnDyY",
        "nbgrader": {
          "cell_type": "code",
          "checksum": "09283d9b92c9cc627b4dcf9868c98a9b",
          "grade": false,
          "grade_id": "cell-12a8e62e1c29fed5",
          "locked": false,
          "schema_version": 3,
          "solution": true,
          "task": false
        },
        "tags": [],
        "colab": {
          "base_uri": "https://localhost:8080/"
        },
        "outputId": "6e81fe09-f421-4f38-f440-063f7af74d6f"
      },
      "outputs": [
        {
          "output_type": "stream",
          "name": "stdout",
          "text": [
            "Độ dài lớn nhất của English là 8\n",
            "Kích thước dữ liệu của Encoder  -> (4604, 8)\n",
            "Số lượng English tokens = 2291\n"
          ]
        }
      ],
      "source": [
        "eng_lines = list()\n",
        "for line in lines.eng:\n",
        "    eng_lines.append( line )\n",
        "\n",
        "tokenizer = None\n",
        "tokenized_eng_lines = None\n",
        "max_input_length =  None\n",
        "\n",
        "# TODO: Sử dụng `preprocessing.text.Tokenizer` để biến đổi các câu thành các\n",
        "# tokens và lưu vào biến `tokenized_eng_lines`. Biến `max_input_length` lưu trữ\n",
        "# độ dài tối đa của các tokens.\n",
        "# Gợi ý: dùng 2 hàm là `fit_on_texts` và `texts_to_sequences`\n",
        "\n",
        "# YOUR CODE HERE\n",
        "eng_tokenizer = preprocessing.text.Tokenizer()\n",
        "eng_tokenizer.fit_on_texts(eng_lines)\n",
        "tokenized_eng_lines = eng_tokenizer.texts_to_sequences(eng_lines)\n",
        "max_input_length =  max([len(tok_en_line) for tok_en_line in tokenized_eng_lines])\n",
        "\n",
        "\n",
        "# sử dụng pad_sequences để cố định kích thước input của encoder\n",
        "padded_eng_lines = preprocessing.sequence.pad_sequences( tokenized_eng_lines, maxlen=max_input_length , padding='post' )\n",
        "encoder_input_data = np.array( padded_eng_lines )\n",
        "\n",
        "eng_word_dict = eng_tokenizer.word_index\n",
        "num_eng_tokens = len(eng_word_dict )+1\n",
        "\n",
        "print( 'Độ dài lớn nhất của English là {}'.format( max_input_length ))\n",
        "print( 'Kích thước dữ liệu của Encoder  -> {}'.format( encoder_input_data.shape ))\n",
        "print( 'Số lượng English tokens = {}'.format( num_eng_tokens))"
      ]
    },
    {
      "cell_type": "markdown",
      "metadata": {
        "deletable": false,
        "editable": false,
        "id": "cRwAd310SPkG",
        "nbgrader": {
          "cell_type": "markdown",
          "checksum": "7b425fb0ddd795ad1113aeeca66be802",
          "grade": false,
          "grade_id": "cell-a8825da111356c0b",
          "locked": true,
          "schema_version": 3,
          "solution": false,
          "task": false
        },
        "tags": []
      },
      "source": [
        "### 4) Chuẩn bị dữ liệu đầu vào cho Decoder ( `decoder_input_data` )\n",
        "Mô hình decoder sẽ được cung cấp dữ liệu tiếng Việt đã được tiền xử lý. Các bước tiền xử lý giống như trên. Bước này được thực hiện trước các bước khác.\n",
        "\n",
        "Thêm nhãn `<START>` vào vị trí đầu tiên trong mỗi câu tiếng Việt.\n",
        "Thêm nhãn `<END>` vào vị trí cuối cùng trong mỗi câu tiếng Việt.\n",
        "\n"
      ]
    },
    {
      "cell_type": "code",
      "execution_count": null,
      "metadata": {
        "deletable": false,
        "id": "deB0oX_0pj8R",
        "nbgrader": {
          "cell_type": "code",
          "checksum": "a24edbe3bdddf1e028272049e359c660",
          "grade": false,
          "grade_id": "cell-ea4c3acf8c5ec878",
          "locked": false,
          "schema_version": 3,
          "solution": true,
          "task": false
        },
        "tags": [],
        "colab": {
          "base_uri": "https://localhost:8080/"
        },
        "outputId": "8d47df62-d9d9-49e6-e28d-e2332c0797a6"
      },
      "outputs": [
        {
          "output_type": "stream",
          "name": "stdout",
          "text": [
            "Độ dài lớn nhất của tiếng việt là 16\n",
            "kích thước dữ liệu đầu vào của Decoder -> (4604, 16)\n",
            "Số lượng Vietnamese tokens = 1788\n"
          ]
        }
      ],
      "source": [
        "vie_lines = list()\n",
        "# TODO: Khác với trên chúng ta phải thêm '<START> ' và ' <END>' vào\n",
        "# các câu tiếng Việt để tạo thành các dữ liệu đầu vào cho decoder\n",
        "\n",
        "# YOUR CODE HERE\n",
        "for line in lines.vie:\n",
        "    vie_lines.append('<START> ' + line + ' <END>')\n",
        "\n",
        "tokenizer = None\n",
        "tokenized_vie_lines = None\n",
        "max_output_length = None\n",
        "\n",
        "# TODO: Tương tự như trên, chúng ta cũng sử dụng `preprocessing.text.Tokenizer`\n",
        "# để biến đổi các câu thành các tokens và lưu vào biến `tokenized_vie_lines`.\n",
        "# Biến `max_output_length` lưu trữ độ dài tối đa của các tokens.\n",
        "# Gợi ý: dùng 2 hàm là `fit_on_texts` và `texts_to_sequences`\n",
        "\n",
        "# YOUR CODE HERE\n",
        "vie_tokenizer = preprocessing.text.Tokenizer()\n",
        "vie_tokenizer.fit_on_texts(vie_lines)\n",
        "tokenized_vie_lines = vie_tokenizer.texts_to_sequences(vie_lines)\n",
        "max_output_length = max([len(tok_vi_line) for tok_vi_line in tokenized_vie_lines])\n",
        "\n",
        "# sử dụng pad_sequences để cố định kích thước output của decoder\n",
        "padded_vie_lines = preprocessing.sequence.pad_sequences( tokenized_vie_lines , maxlen=max_output_length, padding='post' )\n",
        "decoder_input_data = np.array( padded_vie_lines )\n",
        "vie_word_dict = vie_tokenizer.word_index\n",
        "num_vie_tokens = len(vie_word_dict )+1\n",
        "\n",
        "\n",
        "print( 'Độ dài lớn nhất của tiếng việt là {}'.format( max_output_length ))\n",
        "print( 'kích thước dữ liệu đầu vào của Decoder -> {}'.format( decoder_input_data.shape ))\n",
        "print( 'Số lượng Vietnamese tokens = {}'.format( num_vie_tokens))"
      ]
    },
    {
      "cell_type": "code",
      "execution_count": null,
      "metadata": {
        "deletable": false,
        "editable": false,
        "id": "tFLjwXm9Snq0",
        "nbgrader": {
          "cell_type": "code",
          "checksum": "8aa5313b584a420cf88c66a298ef1fd3",
          "grade": true,
          "grade_id": "cell-f6bbd9e4bbb5524e",
          "locked": true,
          "points": 5,
          "schema_version": 3,
          "solution": false,
          "task": false
        },
        "tags": [],
        "colab": {
          "base_uri": "https://localhost:8080/"
        },
        "outputId": "f57ac38b-ce61-4189-a1d1-b505a3a1736a"
      },
      "outputs": [
        {
          "output_type": "stream",
          "name": "stdout",
          "text": [
            "Bạn đã qua bài test\n"
          ]
        }
      ],
      "source": [
        "# Kiểm tra với bộ test\n",
        "assert num_eng_tokens == 2291\n",
        "assert num_vie_tokens == 1788\n",
        "assert encoder_input_data.shape[1] ==  8\n",
        "assert decoder_input_data.shape[1] ==  16\n",
        "assert tokenized_vie_lines[50:55] == [[1, 415, 2],\n",
        " [1, 11, 9, 14, 17, 3, 2],\n",
        " [1, 11, 9, 14, 17, 21, 2],\n",
        " [1, 713, 48, 2],\n",
        " [1, 713, 48, 18, 2]]\n",
        "assert tokenized_eng_lines[50:55] == [[36, 261], [36, 977], [36, 977], [116, 104], [116, 104]]\n",
        "print('Bạn đã qua bài test')"
      ]
    },
    {
      "cell_type": "code",
      "execution_count": null,
      "metadata": {
        "deletable": false,
        "editable": false,
        "id": "GeZPGIatTE_y",
        "nbgrader": {
          "cell_type": "code",
          "checksum": "613dc16ef78915fda6ff746b62039302",
          "grade": true,
          "grade_id": "cell-894b81eda9cd4871",
          "locked": true,
          "points": 5,
          "schema_version": 3,
          "solution": false,
          "task": false
        },
        "tags": []
      },
      "outputs": [],
      "source": [
        "# Kiểm tra với bộ test ẩn"
      ]
    },
    {
      "cell_type": "markdown",
      "metadata": {
        "deletable": false,
        "editable": false,
        "id": "DJTcSlygTQ_V",
        "nbgrader": {
          "cell_type": "markdown",
          "checksum": "e2e0ce46ee187e8d8a506a622a41200d",
          "grade": false,
          "grade_id": "cell-4bd882f192e54879",
          "locked": true,
          "schema_version": 3,
          "solution": false,
          "task": false
        },
        "tags": []
      },
      "source": [
        "### 5) Chuẩn bị nhãn cho decoder ( decoder_target_data )\n",
        "\n",
        "Chúng ta sẽ lấy một bản sao của `tokenized_vie_lines` và sửa đổi nó như sau:\n",
        "\n",
        "1. Chúng ta sẽ xóa nhãn `<start>` mà chúng ta đã đính kèm trước đó. Vì vậy, từ `<start>` sẽ bị xóa.\n",
        "\n",
        "2. Chuyển đổi `padded_vie_lines` (những dòng không có nhãn `<start>`) sang các vector one-hot để huấn luyện mô hình.\n",
        "Ví dụ:\n",
        "\n",
        "```\n",
        " [ '<start>' , 'hello' , 'world' , '<end>' ]\n",
        "\n",
        "```\n",
        "\n",
        "sẽ trở thành\n",
        "\n",
        "```\n",
        " [ 'hello' , 'world' , '<end>' ]\n",
        "\n",
        "```\n",
        "\n"
      ]
    },
    {
      "cell_type": "code",
      "execution_count": null,
      "metadata": {
        "deletable": false,
        "id": "NPCTmeL7qj3T",
        "nbgrader": {
          "cell_type": "code",
          "checksum": "438f2c72e65045dc29d49def8d194b5a",
          "grade": false,
          "grade_id": "cell-0c9281909c89941b",
          "locked": false,
          "schema_version": 3,
          "solution": true,
          "task": false
        },
        "tags": [],
        "colab": {
          "base_uri": "https://localhost:8080/"
        },
        "outputId": "355d47c7-e335-4769-b044-f031856ecada"
      },
      "outputs": [
        {
          "output_type": "stream",
          "name": "stdout",
          "text": [
            "Decoder target data shape -> (4604, 16, 1788)\n"
          ]
        }
      ],
      "source": [
        "input_decoder_target_data = list()\n",
        "\n",
        "# TODO: chúng ta sẽ loại bỏ '<START> ' đầu tiên của các dòng trong biến `tokenized_vie_lines`\n",
        "# và thêm vào `input_decoder_target_data`\n",
        "\n",
        "# YOUR CODE HERE\n",
        "for token_seq in tokenized_vie_lines:\n",
        "    input_decoder_target_data.append(token_seq[1:])\n",
        "\n",
        "padded_vie_lines = preprocessing.sequence.pad_sequences(input_decoder_target_data , maxlen=max_output_length, padding='post' )\n",
        "onehot_vie_lines = utils.to_categorical( padded_vie_lines , num_vie_tokens )\n",
        "decoder_target_data = np.array( onehot_vie_lines )\n",
        "print( 'Decoder target data shape -> {}'.format( decoder_target_data.shape))"
      ]
    },
    {
      "cell_type": "code",
      "execution_count": null,
      "metadata": {
        "deletable": false,
        "editable": false,
        "id": "2nA6iDHbryuC",
        "nbgrader": {
          "cell_type": "code",
          "checksum": "1c1cdd724611e834cfaea65519c21319",
          "grade": true,
          "grade_id": "cell-924aac61ce235adb",
          "locked": true,
          "points": 5,
          "schema_version": 3,
          "solution": false,
          "task": false
        },
        "tags": [],
        "colab": {
          "base_uri": "https://localhost:8080/"
        },
        "outputId": "d0f5597e-4502-4cda-dcdd-da9bb2c85e74"
      },
      "outputs": [
        {
          "output_type": "stream",
          "name": "stdout",
          "text": [
            "Bạn đã qua bài test\n"
          ]
        }
      ],
      "source": [
        "# Kiểm tra với bộ test\n",
        "assert decoder_target_data.shape==(4604, 16, 1788)\n",
        "# test remove start in decode_data\n",
        "for i in [5, 10, 15, 20]:\n",
        "    assert (sum(tokenized_vie_lines[i]) - sum(input_decoder_target_data[i])) == 1\n",
        "print('Bạn đã qua bài test')"
      ]
    },
    {
      "cell_type": "code",
      "execution_count": null,
      "metadata": {
        "deletable": false,
        "editable": false,
        "id": "Y_92urgOrSyz",
        "nbgrader": {
          "cell_type": "code",
          "checksum": "a52e8c1c102ea1e785dd2d0d2c4385db",
          "grade": true,
          "grade_id": "cell-494846e1230060d5",
          "locked": true,
          "points": 5,
          "schema_version": 3,
          "solution": false,
          "task": false
        },
        "tags": []
      },
      "outputs": [],
      "source": []
    },
    {
      "cell_type": "markdown",
      "metadata": {
        "deletable": false,
        "editable": false,
        "id": "6KS5gWlcpFT1",
        "nbgrader": {
          "cell_type": "markdown",
          "checksum": "f725a016575a9b93f05b521c058b3aeb",
          "grade": false,
          "grade_id": "cell-f52b2c23249189a1",
          "locked": true,
          "schema_version": 3,
          "solution": false,
          "task": false
        },
        "tags": []
      },
      "source": [
        "## Định nghĩa và huấn luyện các mô hình"
      ]
    },
    {
      "cell_type": "markdown",
      "metadata": {
        "deletable": false,
        "editable": false,
        "id": "M_N71uykUPbe",
        "nbgrader": {
          "cell_type": "markdown",
          "checksum": "df8de5bfc9e8b9555991edaac850bde4",
          "grade": false,
          "grade_id": "cell-4e4eec086ac65520",
          "locked": true,
          "schema_version": 3,
          "solution": false,
          "task": false
        },
        "tags": []
      },
      "source": [
        "### 1) Định nghĩa mô hình Encoder-Decoder\n",
        "\n",
        "Giống như bài trước, mô hình sẽ có các lớp Embedding, LSTM và Dense. Tuy nhiên,decoder sẽ có thêm lớp attention, cấu hình cơ bản như sau:\n",
        "\n",
        "* 2 lớp đầu vào: Một cho `encoder_input_data` và một cho `decoder_input_data`.\n",
        "* Lớp Embedding: Để chuyển đổi các vector token sang các dense có kích thước cố định = 256. ***(Lưu ý: để tham số `mask_zero=True`, `return_state=True`, `return_sequences=True`)***\n",
        "* Lớp LSTM: khởi tạo layer chứa 128 Long-Short Term cell.\n",
        "Hoạt động:\n",
        "\n",
        "1. `encoder_input_data` đầu vào lớp Embedding (`encoder_embedding`).\n",
        "2. Kết quả của lớp Embedding đi đến layer LSTM để tạo ra 2 vector trạng thái (`h` và `c` là `encoder_states`)\n",
        "3. Những trạng thái này được đưa vào trong layer LSTM của decoder.\n",
        "4. decoder_input_data đầu vào qua lớp Embedding.\n",
        "5. Embeddings đi vào lớp LSTM (mà có các trạng thái) để tạo các chuỗi.\n",
        "6. Các đầu ra của lớp LSTM sẽ đi qua lớp `AttentionLayer` do chúng ta định nghĩa trước khi vào lớp cuối cùng `Dense`.\n",
        "\n",
        "\n"
      ]
    },
    {
      "cell_type": "markdown",
      "metadata": {
        "deletable": false,
        "editable": false,
        "id": "a-SAvSJSauo5",
        "nbgrader": {
          "cell_type": "markdown",
          "checksum": "52e4537e3b4fb6a60a2d0b7dc3504215",
          "grade": false,
          "grade_id": "cell-9c7b26b2c42c4718",
          "locked": true,
          "schema_version": 3,
          "solution": false,
          "task": false
        },
        "tags": []
      },
      "source": [
        "Khác với bài trước chúng ta sẽ định nghĩa các module như encoder, decoder và attention từ lớp `tf.keras.layers.Layer` và sẽ thiết kế lớp Translator để kết hợp encoder và decoder."
      ]
    },
    {
      "cell_type": "code",
      "execution_count": null,
      "metadata": {
        "deletable": false,
        "id": "MKBJzClbT7rL",
        "nbgrader": {
          "cell_type": "code",
          "checksum": "8d2f48201d7be5ffc8b312b56f5f03ef",
          "grade": false,
          "grade_id": "cell-61c13502da9ca5dd",
          "locked": false,
          "schema_version": 3,
          "solution": true,
          "task": false
        },
        "tags": []
      },
      "outputs": [],
      "source": [
        "class Encoder(tf.keras.layers.Layer):\n",
        "    def __init__(self, num_eng_tokens, units=[256, 128]):\n",
        "        super(Encoder, self).__init__()\n",
        "\n",
        "        self.embedding = tf.keras.layers.Embedding(num_eng_tokens, units[0], mask_zero=True)\n",
        "        self.lstm = tf.keras.layers.LSTM(units[1], return_state=True, return_sequences=True)\n",
        "\n",
        "    def call(self, x):\n",
        "\n",
        "        # TODO: `x` sẽ được đi qua lớp 'self.embedding' và `self.lstm` đã tạo ra states và output.\n",
        "\n",
        "        # YOUR CODE HERE\n",
        "        x = self.embedding(x)\n",
        "        x, state_h , state_c = self.lstm(x)\n",
        "\n",
        "        return x, [state_h , state_c]\n"
      ]
    },
    {
      "cell_type": "code",
      "execution_count": null,
      "metadata": {
        "deletable": false,
        "editable": false,
        "id": "QO8L4BnFATLx",
        "nbgrader": {
          "cell_type": "code",
          "checksum": "62f1c66cb54d4e19d27404a7e5f94100",
          "grade": false,
          "grade_id": "cell-e80e6590bb046514",
          "locked": true,
          "schema_version": 3,
          "solution": false,
          "task": false
        },
        "tags": [],
        "colab": {
          "base_uri": "https://localhost:8080/"
        },
        "outputId": "3127aa92-79e3-4415-d906-3d438b98c283"
      },
      "outputs": [
        {
          "output_type": "stream",
          "name": "stdout",
          "text": [
            "input tokens, shape (batch, s): (8, 16)\n",
            "Encoder output, shape (batch, s, units): (8, 16, 128)\n"
          ]
        }
      ],
      "source": [
        "# Chúng ta sẽ kiểm tra thử input và output của encoder thông qua đoạn code dưới\n",
        "x = tf.random.uniform(shape=[8, 16]) # random sample\n",
        "\n",
        "encoder = Encoder(num_eng_tokens)\n",
        "context, state = encoder(x)\n",
        "\n",
        "print(f'input tokens, shape (batch, s): {x.shape}')\n",
        "print(f'Encoder output, shape (batch, s, units): {context.shape}')"
      ]
    },
    {
      "cell_type": "code",
      "execution_count": null,
      "metadata": {
        "deletable": false,
        "editable": false,
        "id": "2KMVlI4DumMd",
        "nbgrader": {
          "cell_type": "code",
          "checksum": "6f2954c12f630b742e3ed8eaad227a3b",
          "grade": true,
          "grade_id": "cell-9aefa89ecab44bfa",
          "locked": true,
          "points": 5,
          "schema_version": 3,
          "solution": false,
          "task": false
        },
        "tags": [],
        "colab": {
          "base_uri": "https://localhost:8080/"
        },
        "outputId": "9dd339b3-489b-4ccf-c771-9c1eeada897f"
      },
      "outputs": [
        {
          "output_type": "stream",
          "name": "stdout",
          "text": [
            "Bạn đã qua bài test\n"
          ]
        }
      ],
      "source": [
        "# Kiểm tra với bộ test\n",
        "assert x.shape == (8, 16)\n",
        "assert context.shape == (8, 16, 128)\n",
        "assert state[0].shape == ([8, 128])\n",
        "print('Bạn đã qua bài test')"
      ]
    },
    {
      "cell_type": "code",
      "execution_count": null,
      "metadata": {
        "deletable": false,
        "editable": false,
        "id": "x5XJOFS2umqh",
        "nbgrader": {
          "cell_type": "code",
          "checksum": "9794b1de7f7a304258f1bb1bb662aeb7",
          "grade": true,
          "grade_id": "cell-f79f44c233d58029",
          "locked": true,
          "points": 5,
          "schema_version": 3,
          "solution": false,
          "task": false
        },
        "tags": []
      },
      "outputs": [],
      "source": []
    },
    {
      "cell_type": "markdown",
      "metadata": {
        "deletable": false,
        "editable": false,
        "id": "X03yPkGycg99",
        "nbgrader": {
          "cell_type": "markdown",
          "checksum": "0d0ce754338194a1933d9b4008829a8d",
          "grade": false,
          "grade_id": "cell-020570e36e026577",
          "locked": true,
          "schema_version": 3,
          "solution": false,
          "task": false
        },
        "tags": []
      },
      "source": [
        "Tiếp theo, chúng ta sẽ thiết kế `AttentionLayer` với `num_heads=1`"
      ]
    },
    {
      "cell_type": "code",
      "execution_count": null,
      "metadata": {
        "deletable": false,
        "id": "TcvDJkz2aNZU",
        "nbgrader": {
          "cell_type": "code",
          "checksum": "1393655a001ae4294d8eadcb529fd9bd",
          "grade": false,
          "grade_id": "cell-8373e10e4e052382",
          "locked": false,
          "schema_version": 3,
          "solution": true,
          "task": false
        },
        "tags": []
      },
      "outputs": [],
      "source": [
        "class AttentionLayer(tf.keras.layers.Layer):\n",
        "  def __init__(self, dim):\n",
        "    super().__init__()\n",
        "    # TODO: Chúng ta sẽ khởi tạo các thành phần trong `AttentionLayer` bao gồm `mha`, `layernorm` và `add` từ\n",
        "    # thư viện keras tf.keras.layers.MultiHeadAttention, tf.keras.layers.LayerNormalization, tf.keras.layers.Add\n",
        "\n",
        "    self.mha = None\n",
        "    self.layernorm = None\n",
        "    self.add = None\n",
        "\n",
        "    # YOUR CODE HERE\n",
        "    self.mha = tf.keras.layers.MultiHeadAttention(key_dim=dim, num_heads=1)\n",
        "    self.layernorm = tf.keras.layers.LayerNormalization()\n",
        "    self.add = tf.keras.layers.Add()\n",
        "\n",
        "  def call(self, x, context):\n",
        "\n",
        "    attn_output, attn_scores = self.mha(\n",
        "        query=x,\n",
        "        value=context,\n",
        "        return_attention_scores=True)\n",
        "\n",
        "    attn_scores = tf.reduce_mean(attn_scores, axis=1)\n",
        "\n",
        "    self.last_attention_weights = attn_scores\n",
        "\n",
        "    x = self.add([x, attn_output])\n",
        "    x = self.layernorm(x)\n",
        "\n",
        "    return x"
      ]
    },
    {
      "cell_type": "code",
      "execution_count": null,
      "metadata": {
        "deletable": false,
        "editable": false,
        "id": "Je7yzRL2aPRa",
        "nbgrader": {
          "cell_type": "code",
          "checksum": "866dfe2692be8490c2760d53cfe6011c",
          "grade": false,
          "grade_id": "cell-f898adaa8f136366",
          "locked": true,
          "schema_version": 3,
          "solution": false,
          "task": false
        },
        "tags": [],
        "colab": {
          "base_uri": "https://localhost:8080/"
        },
        "outputId": "75f10a82-c002-4266-e8d9-361bbbf421a6"
      },
      "outputs": [
        {
          "output_type": "stream",
          "name": "stdout",
          "text": [
            "Attention result, shape (batch, t, units): (8, 16, 512)\n",
            "Attention weights, shape (batch, t, s):    (8, 16, 16)\n"
          ]
        }
      ],
      "source": [
        "attention_layer = AttentionLayer(256)\n",
        "\n",
        "x = tf.random.uniform(shape=[8, 16, 512])\n",
        "x_context = tf.random.uniform(shape=[8, 16, 512])\n",
        "\n",
        "result = attention_layer(x, x_context)\n",
        "\n",
        "print(f'Attention result, shape (batch, t, units): {result.shape}')\n",
        "print(f'Attention weights, shape (batch, t, s):    {attention_layer.last_attention_weights.shape}')"
      ]
    },
    {
      "cell_type": "code",
      "execution_count": null,
      "metadata": {
        "deletable": false,
        "editable": false,
        "id": "ySyuTSqfvZmd",
        "nbgrader": {
          "cell_type": "code",
          "checksum": "21318f51cf3f2a394e420679cba9e42c",
          "grade": true,
          "grade_id": "cell-1c69692d5bed5a71",
          "locked": true,
          "points": 5,
          "schema_version": 3,
          "solution": false,
          "task": false
        },
        "tags": [],
        "colab": {
          "base_uri": "https://localhost:8080/"
        },
        "outputId": "1d693858-4c7b-4eac-ce4e-7a3ed6e19724"
      },
      "outputs": [
        {
          "output_type": "stream",
          "name": "stdout",
          "text": [
            "Bạn đã qua bài test\n"
          ]
        }
      ],
      "source": [
        "# Kiểm tra với bộ test\n",
        "assert result.shape == (8, 16, 512)\n",
        "assert attention_layer.last_attention_weights.shape == (8, 16, 16)\n",
        "print('Bạn đã qua bài test')"
      ]
    },
    {
      "cell_type": "code",
      "execution_count": null,
      "metadata": {
        "deletable": false,
        "editable": false,
        "id": "ynSphS7XvaD5",
        "nbgrader": {
          "cell_type": "code",
          "checksum": "23f14780d4545784b280ed5acfd71763",
          "grade": true,
          "grade_id": "cell-907048c13d32c009",
          "locked": true,
          "points": 5,
          "schema_version": 3,
          "solution": false,
          "task": false
        },
        "tags": []
      },
      "outputs": [],
      "source": []
    },
    {
      "cell_type": "code",
      "execution_count": null,
      "metadata": {
        "deletable": false,
        "id": "T4fWjLClaJoQ",
        "nbgrader": {
          "cell_type": "code",
          "checksum": "9481b1fce2f86e034106adceacff9ee8",
          "grade": false,
          "grade_id": "cell-cd3dbc6a9e1f4b43",
          "locked": false,
          "schema_version": 3,
          "solution": true,
          "task": false
        },
        "tags": []
      },
      "outputs": [],
      "source": [
        "class Decoder(tf.keras.layers.Layer):\n",
        "\n",
        "    def __init__(self, num_vie_tokens, units=[128, 256]):\n",
        "        super(Decoder, self).__init__()\n",
        "        # TODO: Chúng ta sẽ định nghĩa lớp `embedding`, `lstm`, `output_layer`\n",
        "        # từ các class 'Embedding', 'LSTM' và `Dense` của keras.\n",
        "        # `attention` được khởi tạo tù lớp `AttentionLayer` được định nghĩa trước đó\n",
        "        # Lưu ý: lớp `embedding`, `lstm` được khởi tạo giống như encoder\n",
        "\n",
        "        self.embedding = None\n",
        "        self.lstm = None\n",
        "        self.attention = None\n",
        "        self.output_layer = None\n",
        "\n",
        "        # YOUR CODE HERE\n",
        "        self.embedding = tf.keras.layers.Embedding(num_vie_tokens, units[0], mask_zero=True)\n",
        "        self.lstm = tf.keras.layers.LSTM(units[1], return_state=True , return_sequences=True)\n",
        "        self.attention = AttentionLayer(units[1])\n",
        "        self.output_layer = tf.keras.layers.Dense(num_vie_tokens, activation=tf.keras.activations.softmax)\n",
        "\n",
        "    def call(self,\n",
        "            context, x,\n",
        "            state=None,\n",
        "            return_state=False):\n",
        "\n",
        "        x = self.embedding(x)\n",
        "        x, state_h , state_c = self.lstm(x, initial_state=state)\n",
        "        x = self.attention(x, context)\n",
        "        output = self.output_layer(x)\n",
        "\n",
        "        if return_state:\n",
        "            return output, [state_h , state_c]\n",
        "        else:\n",
        "            return output\n",
        "\n",
        "class Translator:\n",
        "    @classmethod\n",
        "    def add_method(cls, fun):\n",
        "        setattr(cls, fun.__name__, fun)\n",
        "        return fun\n",
        "\n",
        "    def __init__(self, num_eng_tokens, num_vie_tokens, units=[256, 128]):\n",
        "        self.encoder = Encoder(num_eng_tokens, units)\n",
        "        self.decoder = Decoder(num_vie_tokens, units)\n",
        "        self.num_eng_tokens = num_eng_tokens\n",
        "        self.num_vie_tokens = num_vie_tokens\n",
        "\n",
        "    def build(self):\n",
        "        encoder_inputs = tf.keras.layers.Input(shape=( None ,))\n",
        "        decoder_inputs = tf.keras.layers.Input(shape=( None ,))\n",
        "\n",
        "        context, states = self.encoder(encoder_inputs)\n",
        "        output = self.decoder(context, decoder_inputs, states)\n",
        "\n",
        "        try:\n",
        "            # Delete the keras mask, so keras doesn't scale the loss+accuracy.\n",
        "            del output._keras_mask\n",
        "        except AttributeError:\n",
        "            pass\n",
        "\n",
        "        self.model = tf.keras.models.Model([encoder_inputs, decoder_inputs], output )\n",
        "\n",
        "    def train(self, encoder_input_data , decoder_input_data, decoder_target_data):\n",
        "        # Các hyper-parameter ở đây được chỉnh để có thể so sánh với mô hình trước.\n",
        "        # Nếu muốn, các bạn có thể tinh chỉnh để đạt hiệu suất cao hơn.\n",
        "        opt=tf.keras.optimizers.RMSprop(learning_rate=0.00256, momentum=0.9)\n",
        "        self.model.compile(optimizer=opt, loss='categorical_crossentropy') # CCE loss\n",
        "        self.model.fit([encoder_input_data , decoder_input_data], decoder_target_data, batch_size=64, epochs=10)\n",
        "\n",
        "    # Load mô hình từ file\n",
        "    def load(self, model_file):\n",
        "        self.model = load_model(model_file)\n",
        "\n",
        "    # Lưu mô hình hiện tại xuống file\n",
        "    def save(self, model_file):\n",
        "        self.model.save(model_file)\n",
        "\n",
        "    # Tóm tắt kiến trúc mạng\n",
        "    def summary(self):\n",
        "        self.model.summary()\n",
        "\n",
        "    # Thử nghiệm mô hình với dữ liệu ảnh đầu vào\n",
        "    def predict(self, x_test):\n",
        "        return self.model.predict(x_test)\n",
        "\n",
        "    def tokens_to_text(self, tokens):\n",
        "        words = self.id_to_word(tokens)\n",
        "        result = tf.strings.reduce_join(words, axis=-1, separator=' ')\n",
        "        result = tf.strings.regex_replace(result, '^ *\\[START\\] *', '')\n",
        "        result = tf.strings.regex_replace(result, ' *\\[END\\] *$', '')\n",
        "        return result"
      ]
    },
    {
      "cell_type": "code",
      "execution_count": null,
      "metadata": {
        "deletable": false,
        "editable": false,
        "id": "smqHD6r18lXf",
        "nbgrader": {
          "cell_type": "code",
          "checksum": "7a29e207b1d6993a1ddaabda33289035",
          "grade": false,
          "grade_id": "cell-76ae2c43f5ac64b4",
          "locked": true,
          "schema_version": 3,
          "solution": false,
          "task": false
        },
        "tags": []
      },
      "outputs": [],
      "source": [
        "x = tf.random.uniform(shape=[8, 16])\n",
        "x_context = tf.random.uniform(shape=[8, 16, 512])\n",
        "decoder = Decoder(2048, [128, 256])\n",
        "out = decoder(x_context, x)"
      ]
    },
    {
      "cell_type": "code",
      "execution_count": null,
      "metadata": {
        "deletable": false,
        "editable": false,
        "id": "kNPo-wTSwIVU",
        "nbgrader": {
          "cell_type": "code",
          "checksum": "dc26f7d9a67ebde54713bef19f50bf31",
          "grade": true,
          "grade_id": "cell-b3faed971a71bfeb",
          "locked": true,
          "points": 5,
          "schema_version": 3,
          "solution": false,
          "task": false
        },
        "tags": [],
        "colab": {
          "base_uri": "https://localhost:8080/"
        },
        "outputId": "1ebc9e9e-a557-4eff-f6a9-9e72d77d4e52"
      },
      "outputs": [
        {
          "output_type": "stream",
          "name": "stdout",
          "text": [
            "Bạn đã qua bài test\n"
          ]
        }
      ],
      "source": [
        "# Kiểm tra với bộ test\n",
        "assert out.shape == [8, 16, 2048]\n",
        "print('Bạn đã qua bài test')"
      ]
    },
    {
      "cell_type": "code",
      "execution_count": null,
      "metadata": {
        "deletable": false,
        "editable": false,
        "id": "Dr7zHWUGwIVV",
        "nbgrader": {
          "cell_type": "code",
          "checksum": "ac8c751ca410a8a7e0588619c4372bc3",
          "grade": true,
          "grade_id": "cell-4750a4aac7ec460b",
          "locked": true,
          "points": 6,
          "schema_version": 3,
          "solution": false,
          "task": false
        },
        "tags": []
      },
      "outputs": [],
      "source": []
    },
    {
      "cell_type": "code",
      "execution_count": null,
      "metadata": {
        "deletable": false,
        "id": "7fg-7Lol6SAg",
        "nbgrader": {
          "cell_type": "code",
          "checksum": "85889ee5dc426fa859230b7e38c23ec6",
          "grade": false,
          "grade_id": "cell-39270bbfb7cfbdbd",
          "locked": false,
          "schema_version": 3,
          "solution": true,
          "task": false
        },
        "tags": []
      },
      "outputs": [],
      "source": [
        "fix_random_seed()\n",
        "# TODO: Khởi tạo `alpha` từ class `Translator` được định nghĩa ở trên\n",
        "# và thực hiện phương thức `build` để xây dựng mô hình.\n",
        "\n",
        "alpha =None\n",
        "# YOUR CODE HERE\n",
        "alpha = Translator(num_eng_tokens, num_vie_tokens)\n",
        "alpha.build()"
      ]
    },
    {
      "cell_type": "code",
      "execution_count": null,
      "metadata": {
        "deletable": false,
        "editable": false,
        "id": "ia5eKqo36ZPv",
        "nbgrader": {
          "cell_type": "code",
          "checksum": "7d8899b1ad0051bb68071783e9da7070",
          "grade": false,
          "grade_id": "cell-c01e01346951faff",
          "locked": true,
          "schema_version": 3,
          "solution": false,
          "task": false
        },
        "tags": [],
        "colab": {
          "base_uri": "https://localhost:8080/"
        },
        "outputId": "74b04754-8e3e-480c-fd13-db382de067b4"
      },
      "outputs": [
        {
          "output_type": "stream",
          "name": "stdout",
          "text": [
            "Model: \"model\"\n",
            "__________________________________________________________________________________________________\n",
            " Layer (type)                Output Shape                 Param #   Connected to                  \n",
            "==================================================================================================\n",
            " input_1 (InputLayer)        [(None, None)]               0         []                            \n",
            "                                                                                                  \n",
            " encoder_1 (Encoder)         ((None, None, 128),          783616    ['input_1[0][0]']             \n",
            "                              [(None, 128),                                                       \n",
            "                              (None, 128)])                                                       \n",
            "                                                                                                  \n",
            " input_2 (InputLayer)        [(None, None)]               0         []                            \n",
            "                                                                                                  \n",
            " decoder_1 (Decoder)         (None, None, 1788)           951804    ['encoder_1[0][0]',           \n",
            "                                                                     'input_2[0][0]',             \n",
            "                                                                     'encoder_1[0][1]',           \n",
            "                                                                     'encoder_1[0][2]']           \n",
            "                                                                                                  \n",
            "==================================================================================================\n",
            "Total params: 1735420 (6.62 MB)\n",
            "Trainable params: 1735420 (6.62 MB)\n",
            "Non-trainable params: 0 (0.00 Byte)\n",
            "__________________________________________________________________________________________________\n"
          ]
        }
      ],
      "source": [
        "alpha.summary()"
      ]
    },
    {
      "cell_type": "markdown",
      "metadata": {
        "deletable": false,
        "editable": false,
        "id": "n9g_8sR7WWf3",
        "nbgrader": {
          "cell_type": "markdown",
          "checksum": "1ce619b6e87b7d110e8974412b713536",
          "grade": false,
          "grade_id": "cell-4ad7180068d4b2bf",
          "locked": true,
          "schema_version": 3,
          "solution": false,
          "task": false
        },
        "tags": []
      },
      "source": [
        "### 2) Huấn luyện mô hình\n",
        "Chúng ta sẽ huấn luyện mô hình với RMSprop optimizer và hàm cross-entropy loss"
      ]
    },
    {
      "cell_type": "code",
      "execution_count": null,
      "metadata": {
        "deletable": false,
        "editable": false,
        "id": "zmkn660K65Ef",
        "nbgrader": {
          "cell_type": "code",
          "checksum": "572ec59ea37db48e0c32219de93c6b5c",
          "grade": false,
          "grade_id": "cell-cc1055547b9c84c7",
          "locked": true,
          "schema_version": 3,
          "solution": false,
          "task": false
        },
        "tags": [],
        "colab": {
          "base_uri": "https://localhost:8080/"
        },
        "outputId": "5e44958b-3ffd-41c9-d03c-a9a695b32d7a"
      },
      "outputs": [
        {
          "output_type": "stream",
          "name": "stdout",
          "text": [
            "Epoch 1/10\n",
            "72/72 [==============================] - 16s 79ms/step - loss: 4.6199\n",
            "Epoch 2/10\n",
            "72/72 [==============================] - 4s 51ms/step - loss: 3.3376\n",
            "Epoch 3/10\n",
            "72/72 [==============================] - 2s 25ms/step - loss: 2.5870\n",
            "Epoch 4/10\n",
            "72/72 [==============================] - 2s 29ms/step - loss: 2.0819\n",
            "Epoch 5/10\n",
            "72/72 [==============================] - 2s 27ms/step - loss: 1.7300\n",
            "Epoch 6/10\n",
            "72/72 [==============================] - 2s 21ms/step - loss: 1.4573\n",
            "Epoch 7/10\n",
            "72/72 [==============================] - 2s 25ms/step - loss: 1.2757\n",
            "Epoch 8/10\n",
            "72/72 [==============================] - 3s 39ms/step - loss: 1.1410\n",
            "Epoch 9/10\n",
            "72/72 [==============================] - 2s 30ms/step - loss: 1.0295\n",
            "Epoch 10/10\n",
            "72/72 [==============================] - 2s 22ms/step - loss: 0.9512\n"
          ]
        }
      ],
      "source": [
        "alpha.train(encoder_input_data , decoder_input_data, decoder_target_data)"
      ]
    },
    {
      "cell_type": "markdown",
      "metadata": {
        "deletable": false,
        "editable": false,
        "id": "Eeqv_vH5pMpb",
        "nbgrader": {
          "cell_type": "markdown",
          "checksum": "fd1b67f813f2bacc314d668d8d9c6101",
          "grade": false,
          "grade_id": "cell-d031450923748305",
          "locked": true,
          "schema_version": 3,
          "solution": false,
          "task": false
        },
        "tags": []
      },
      "source": [
        "## Dự đoán kết quả"
      ]
    },
    {
      "cell_type": "markdown",
      "metadata": {
        "deletable": false,
        "editable": false,
        "id": "o4PAtzGrk8pq",
        "nbgrader": {
          "cell_type": "markdown",
          "checksum": "191ecd85f7965b2e7471eb7032342fc0",
          "grade": false,
          "grade_id": "cell-52844c3d86ff8b7d",
          "locked": true,
          "schema_version": 3,
          "solution": false,
          "task": false
        },
        "tags": []
      },
      "source": [
        "### 1) Sử dụng mô hình để dự đoán\n",
        "Khác với bài trước, chúng ta sẽ thêm 2 hàm (`translate` và `plot_attention`) vào Translator để thực hiện các tác vụ dự đoán và trực quan hóa."
      ]
    },
    {
      "cell_type": "code",
      "execution_count": null,
      "metadata": {
        "deletable": false,
        "editable": false,
        "id": "AipBUqiCKc_g",
        "nbgrader": {
          "cell_type": "code",
          "checksum": "f4df3df2dd38dc2a73adebc965c0ffe4",
          "grade": false,
          "grade_id": "cell-132f87827969b397",
          "locked": true,
          "schema_version": 3,
          "solution": false,
          "task": false
        },
        "tags": []
      },
      "outputs": [],
      "source": [
        "map_i2w = {val: key for key, val in vie_word_dict.items()}\n",
        "@Translator.add_method\n",
        "def translate(self, input, return_attention=False):\n",
        "    enc_model, dec_model = self.encoder, self.decoder\n",
        "    context, states_values = enc_model(input)\n",
        "    empty_target_seq = np.zeros( ( 1 , 1 ) )\n",
        "    empty_target_seq[0, 0] = vie_word_dict['start']\n",
        "    stop_condition = False\n",
        "    decoded_translation = []\n",
        "    attentive_scores = []\n",
        "    while not stop_condition:\n",
        "        dec_outputs , [h , c] = dec_model(context, empty_target_seq, states_values, return_state=True)\n",
        "        attentive_scores.append(dec_model.attention.last_attention_weights[0])\n",
        "        sampled_word_index = np.argmax( dec_outputs[0, -1, :] )\n",
        "        sampled_word = None\n",
        "        word =  map_i2w.get(sampled_word_index, '')\n",
        "        decoded_translation.append( word )\n",
        "        sampled_word = word\n",
        "        if sampled_word == 'end' or len(decoded_translation) > max_output_length:\n",
        "            stop_condition = True\n",
        "\n",
        "\n",
        "        empty_target_seq = np.zeros( ( 1 , 1 ) )\n",
        "        empty_target_seq[ 0 , 0 ] = sampled_word_index\n",
        "        states_values = [ h , c ]\n",
        "    if return_attention:\n",
        "        return decoded_translation[:-1], attentive_scores[:-1]\n",
        "\n",
        "    return decoded_translation[:-1]\n",
        "\n",
        "@Translator.add_method\n",
        "def plot_attention(self, text, **kwargs):\n",
        "    assert isinstance(text, str)\n",
        "\n",
        "    input = eng_tokenizer.texts_to_sequences([text])\n",
        "    input = preprocessing.sequence.pad_sequences(input, maxlen=max_input_length , padding='post' )\n",
        "    output, attention = self.translate(input, return_attention=True)\n",
        "    attention= tf.concat(attention, 0)\n",
        "\n",
        "    context = text.split()\n",
        "    fig = plt.figure(figsize=(10, 10))\n",
        "    ax = fig.add_subplot(1, 1, 1)\n",
        "\n",
        "    ax.matshow(attention, cmap='viridis', vmin=0.0)\n",
        "\n",
        "    fontdict = {'fontsize': 14}\n",
        "\n",
        "    ax.set_xticklabels([''] + context, fontdict=fontdict, rotation=90)\n",
        "    ax.set_yticklabels([''] + output, fontdict=fontdict)\n",
        "\n",
        "    ax.xaxis.set_major_locator(ticker.MultipleLocator(1))\n",
        "    ax.yaxis.set_major_locator(ticker.MultipleLocator(1))\n",
        "\n",
        "    ax.set_xlabel('Input text')\n",
        "    ax.set_ylabel('Output text')"
      ]
    },
    {
      "cell_type": "markdown",
      "metadata": {
        "deletable": false,
        "editable": false,
        "id": "djEPrfJBmZE-",
        "nbgrader": {
          "cell_type": "markdown",
          "checksum": "949df1d181039a20201a61933dd313e7",
          "grade": false,
          "grade_id": "cell-32530e35726433a1",
          "locked": true,
          "schema_version": 3,
          "solution": false,
          "task": false
        },
        "tags": []
      },
      "source": [
        "### 2) Thực hiện một số bản dịch\n",
        "\n",
        "1. Đầu tiên, sử dụng `enc_model` để dự đoán các giá trị trạng thái cho một câu tiếng Anh.\n",
        "2. Thiết lập các giá trị trạng thái trong LSTM của decoder.\n",
        "3. Sau đó, tạo ra một dãy có chứa phần tử `<start>`.\n",
        "4. Nhập dãy này vào `dec_model`.\n",
        "5. Thay thế phần tử `<start>` với phần tử được dự đoán bởi `dec_model` và  cập nhật các giá trị trạng thái.\n",
        "6. Thực hiện các bước trên liên tục cho đến khi gặp phần tử `<end>` hoặc đạt đến độ dài tối đa của chuỗi.\n",
        "\n",
        "\n"
      ]
    },
    {
      "cell_type": "code",
      "execution_count": null,
      "metadata": {
        "deletable": false,
        "editable": false,
        "id": "mY5ogEHMOy6T",
        "nbgrader": {
          "cell_type": "code",
          "checksum": "94b4351d8ea6b5402a2d2267438c2ea8",
          "grade": false,
          "grade_id": "cell-966a24b0689714c0",
          "locked": true,
          "schema_version": 3,
          "solution": false,
          "task": false
        },
        "tags": [],
        "colab": {
          "base_uri": "https://localhost:8080/"
        },
        "outputId": "d908d57a-c4ea-4757-9393-d7e99e9dd2a7"
      },
      "outputs": [
        {
          "output_type": "stream",
          "name": "stderr",
          "text": [
            "100%|██████████| 800/800 [01:59<00:00,  6.71it/s]\n"
          ]
        }
      ],
      "source": [
        "from tqdm import tqdm\n",
        "enc_model , dec_model = alpha.encoder, alpha.decoder\n",
        "num_sample = encoder_input_data.shape[0]\n",
        "predict_translation = []\n",
        "eng_sentence = []\n",
        "num_sample = 800\n",
        "for i in tqdm(range( num_sample ) ):\n",
        "    decoded_translation = alpha.translate(encoder_input_data[ i ][None,...])\n",
        "    eng_sentence.append(encoder_input_data[ i ])\n",
        "    predict_translation.append( decoded_translation[:-1] )"
      ]
    },
    {
      "cell_type": "code",
      "execution_count": null,
      "metadata": {
        "deletable": false,
        "editable": false,
        "id": "EoiDqeChWT37",
        "nbgrader": {
          "cell_type": "code",
          "checksum": "5fceef95098a909f6e14a76499381efb",
          "grade": false,
          "grade_id": "cell-ab1256e29de1e075",
          "locked": true,
          "schema_version": 3,
          "solution": false,
          "task": false
        },
        "tags": []
      },
      "outputs": [],
      "source": [
        "value2key = {val:key for key, val in vie_tokenizer.word_index.items()}\n",
        "gt = [[[value2key[i] for i in line[1:-1]]] for line in tokenized_vie_lines[:num_sample]]\n",
        "predict = [f for f in predict_translation]"
      ]
    },
    {
      "cell_type": "code",
      "execution_count": null,
      "metadata": {
        "deletable": false,
        "editable": false,
        "id": "4xLMVz55Q6WD",
        "nbgrader": {
          "cell_type": "code",
          "checksum": "39405d35d91a6d8c6af5286cacca8085",
          "grade": false,
          "grade_id": "cell-523c5d8900d4ec1b",
          "locked": true,
          "schema_version": 3,
          "solution": false,
          "task": false
        },
        "tags": [],
        "colab": {
          "base_uri": "https://localhost:8080/"
        },
        "outputId": "96d3542c-d23a-459d-831c-b80756f3fb16"
      },
      "outputs": [
        {
          "output_type": "stream",
          "name": "stdout",
          "text": [
            "input: Really?, predict: ['thật', 'sự', 'thật', 'sự', 'thật'], label: ['thật', 'á']\n",
            "input: It's cold., predict: ['lạnh', 'như', 'thế'], label: ['lạnh']\n",
            "input: I guess so., predict: ['tôi', 'đoán'], label: ['tôi', 'đoán', 'vậy']\n"
          ]
        }
      ],
      "source": [
        "for i in [20, 50, 70]:\n",
        "    print(f'input: {eng_lines[i]}, predict: {predict[i]}, label: {gt[i][0]}')"
      ]
    },
    {
      "cell_type": "code",
      "execution_count": null,
      "metadata": {
        "deletable": false,
        "editable": false,
        "id": "1nTBeGSecmnM",
        "nbgrader": {
          "cell_type": "code",
          "checksum": "d8f48c5f41fc0b48073c7708d73c3b37",
          "grade": false,
          "grade_id": "cell-4632eb3cf71194df",
          "locked": true,
          "schema_version": 3,
          "solution": false,
          "task": false
        },
        "tags": []
      },
      "outputs": [],
      "source": [
        "assert len(predict) == len(gt), f'{len(predict)}, {len(gt)}'"
      ]
    },
    {
      "cell_type": "code",
      "execution_count": null,
      "metadata": {
        "deletable": false,
        "editable": false,
        "id": "h7XX6v8FPayk",
        "nbgrader": {
          "cell_type": "code",
          "checksum": "d276ea1708b2e95eef04b0412cd5424d",
          "grade": false,
          "grade_id": "cell-2315e01af016b115",
          "locked": true,
          "schema_version": 3,
          "solution": false,
          "task": false
        },
        "tags": []
      },
      "outputs": [],
      "source": [
        "predict = [f for f in predict_translation]"
      ]
    },
    {
      "cell_type": "code",
      "execution_count": null,
      "metadata": {
        "deletable": false,
        "editable": false,
        "id": "R7wPSxGGPO6T",
        "nbgrader": {
          "cell_type": "code",
          "checksum": "db53f7bb5f7e80f894d0574e43be67df",
          "grade": false,
          "grade_id": "cell-69793e79f748c0de",
          "locked": true,
          "schema_version": 3,
          "solution": false,
          "task": false
        },
        "tags": [],
        "colab": {
          "base_uri": "https://localhost:8080/"
        },
        "outputId": "cbf532f9-c18f-489f-dfb9-c28c97513f7d"
      },
      "outputs": [
        {
          "output_type": "stream",
          "name": "stdout",
          "text": [
            "giá trị bleu score là 0.5815470921857814\n"
          ]
        }
      ],
      "source": [
        "from nltk.translate.bleu_score import corpus_bleu\n",
        "# references = [[['this', 'is' 'cat']]]\n",
        "# candidates = [['this', 'is', 'a', 'cat'],]\n",
        "references = gt\n",
        "candidates = predict\n",
        "score = corpus_bleu(references, candidates, weights=(1, 0, 0, 0))\n",
        "print('giá trị bleu score là', score)"
      ]
    },
    {
      "cell_type": "code",
      "execution_count": null,
      "metadata": {
        "deletable": false,
        "id": "T6b8BKP-m5S5",
        "nbgrader": {
          "cell_type": "code",
          "checksum": "241530e261554ad31543374afb6bf1f5",
          "grade": false,
          "grade_id": "cell-4760aab7d3c85157",
          "locked": false,
          "schema_version": 3,
          "solution": true,
          "task": false
        },
        "tags": [],
        "colab": {
          "base_uri": "https://localhost:8080/"
        },
        "outputId": "a7c06946-b327-4cdf-a186-e65e87d0c1b4"
      },
      "outputs": [
        {
          "output_type": "stream",
          "name": "stdout",
          "text": [
            "giá trị bleu score đạt khoảng 50%-59%\n"
          ]
        }
      ],
      "source": [
        "options = ['10%-19%', '20%-29%', '30%-39%', '40%-49%', '50%-59%', '60%-69%', '70%-79%', '80%-89%', '90%-99%', '100%']\n",
        "your_choice = None\n",
        "\n",
        "# YOUR CODE HERE\n",
        "your_choice = 4\n",
        "\n",
        "print('giá trị bleu score đạt khoảng', options[your_choice])"
      ]
    },
    {
      "cell_type": "code",
      "execution_count": null,
      "metadata": {
        "deletable": false,
        "editable": false,
        "id": "gH52_gSxn1JS",
        "nbgrader": {
          "cell_type": "code",
          "checksum": "8856b7fe117fe101cf57dfecf209ce85",
          "grade": true,
          "grade_id": "cell-da8f2d308680dba2",
          "locked": true,
          "points": 5,
          "schema_version": 3,
          "solution": false,
          "task": false
        },
        "tags": []
      },
      "outputs": [],
      "source": []
    },
    {
      "cell_type": "code",
      "execution_count": null,
      "metadata": {
        "deletable": false,
        "id": "SA6mEssKdL9g",
        "nbgrader": {
          "cell_type": "code",
          "checksum": "3d1f5dfd2f03f01015d25ce54dac617f",
          "grade": false,
          "grade_id": "cell-3de1c1f971328164",
          "locked": false,
          "schema_version": 3,
          "solution": true,
          "task": false
        },
        "tags": [],
        "colab": {
          "base_uri": "https://localhost:8080/"
        },
        "outputId": "a178b75a-365f-4d0d-b60e-a515cae736f9"
      },
      "outputs": [
        {
          "output_type": "stream",
          "name": "stdout",
          "text": [
            "So với seq2seq, mô hình seq2seq với attention đạt hiệu suất  cao hơn\n"
          ]
        }
      ],
      "source": [
        "your_choice = None\n",
        "answers = {\n",
        "    1: 'cao hơn',\n",
        "    2: 'ngang bằng',\n",
        "    3: 'thấp hơn',\n",
        "}\n",
        "# YOUR CODE HERE\n",
        "your_choice = 1\n",
        "\n",
        "print('So với seq2seq, mô hình seq2seq với attention đạt hiệu suất ', answers[your_choice])"
      ]
    },
    {
      "cell_type": "code",
      "execution_count": null,
      "metadata": {
        "deletable": false,
        "editable": false,
        "id": "fDKWLJCQdwO_",
        "nbgrader": {
          "cell_type": "code",
          "checksum": "914ddcf553ac80c576f47faf954e92f1",
          "grade": true,
          "grade_id": "cell-dd691aa3a0bc3ee0",
          "locked": true,
          "points": 4,
          "schema_version": 3,
          "solution": false,
          "task": false
        },
        "tags": []
      },
      "outputs": [],
      "source": []
    },
    {
      "cell_type": "markdown",
      "metadata": {
        "deletable": false,
        "editable": false,
        "id": "CT1-iWd3-GVm",
        "nbgrader": {
          "cell_type": "markdown",
          "checksum": "81aaf484419f45a7802b660bee669c05",
          "grade": false,
          "grade_id": "cell-b7b9e836f0e7851c",
          "locked": true,
          "schema_version": 3,
          "solution": false,
          "task": false
        },
        "tags": []
      },
      "source": [
        "Chúng ta có thể kiểm tra và trực quan hóa attention map bằng cách nhập các câu tiếng anh vào biến `human_input`.\n",
        "\n",
        "Lưu ý: ô này không tính điểm.\n"
      ]
    },
    {
      "cell_type": "code",
      "execution_count": null,
      "metadata": {
        "deletable": false,
        "id": "RSmjd3tpQjp4",
        "nbgrader": {
          "cell_type": "code",
          "checksum": "8c72da434599fdbebba5cb5488a234b6",
          "grade": false,
          "grade_id": "cell-fbc1f0991893540b",
          "locked": false,
          "schema_version": 3,
          "solution": true,
          "task": false
        },
        "tags": [],
        "colab": {
          "base_uri": "https://localhost:8080/",
          "height": 381
        },
        "outputId": "f6319f5c-149e-43e8-9164-212921ae2b85"
      },
      "outputs": [
        {
          "output_type": "stream",
          "name": "stderr",
          "text": [
            "<ipython-input-24-91f8cb68e08c>:48: UserWarning: FixedFormatter should only be used together with FixedLocator\n",
            "  ax.set_xticklabels([''] + context, fontdict=fontdict, rotation=90)\n",
            "<ipython-input-24-91f8cb68e08c>:49: UserWarning: FixedFormatter should only be used together with FixedLocator\n",
            "  ax.set_yticklabels([''] + output, fontdict=fontdict)\n"
          ]
        },
        {
          "output_type": "display_data",
          "data": {
            "text/plain": [
              "<Figure size 1000x1000 with 1 Axes>"
            ],
            "image/png": "[encoded data removed]"
          },
          "metadata": {}
        }
      ],
      "source": [
        "# YOUR CODE HERE\n",
        "human_input = 'i like you'\n",
        "try:\n",
        "    alpha.plot_attention(human_input)\n",
        "except Exception as err:\n",
        "    print(f\"Unexpected {err=}, {type(err)=}\")"
      ]
    },
    {
      "cell_type": "code",
      "source": [],
      "metadata": {
        "id": "zqo0b7E8hl-l"
      },
      "execution_count": null,
      "outputs": []
    }
  ],
  "metadata": {
    "accelerator": "GPU",
    "colab": {
      "provenance": [],
      "gpuType": "T4"
    },
    "kernelspec": {
      "display_name": "Python 3",
      "name": "python3"
    },
    "language_info": {
      "codemirror_mode": {
        "name": "ipython",
        "version": 3
      },
      "file_extension": ".py",
      "mimetype": "text/x-python",
      "name": "python",
      "nbconvert_exporter": "python",
      "pygments_lexer": "ipython3",
      "version": "3.6.7"
    },
    "vscode": {
      "interpreter": {
        "hash": "1ab48fd54ba4be4b5abe8211922eb8aabb6bf77188ebe1c958396403dd876fed"
      }
    }
  },
  "nbformat": 4,
  "nbformat_minor": 0
}